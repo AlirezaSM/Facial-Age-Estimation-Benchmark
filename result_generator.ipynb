{
 "cells": [
  {
   "cell_type": "code",
   "execution_count": 3,
   "metadata": {},
   "outputs": [
    {
     "name": "stdout",
     "output_type": "stream",
     "text": [
      "0.0197/0.0091, -/0.2106, 0.6304/0.6927, -/0.8323, 0.5006, 18/49\n"
     ]
    }
   ],
   "source": [
    "import re\n",
    "\n",
    "def parse_log_and_format(input_text):\n",
    "    # Regex patterns to extract numbers\n",
    "    patterns = {\n",
    "        \"train_error\": r\"\\[trn phase\\]\\n.*?error: ([\\d.]+)\",\n",
    "        \"train_loss\": r\"\\[trn phase\\]\\n.*?loss: ([\\d.]+)\",\n",
    "        \"val_error\": r\"\\[val phase\\]\\n.*?error: ([\\d.]+)\",\n",
    "        \"val_loss\": r\"\\[val phase\\]\\n.*?loss: ([\\d.]+)\",\n",
    "        \"best_epoch\": r\"Best Epoch: (\\d+)\",\n",
    "        \"train_mae\": r\"\\[trn set\\]\\n.*?age \\(mae\\): ([\\d.]+)\",\n",
    "        \"val_mae\": r\"\\[val set\\]\\n.*?age \\(mae\\): ([\\d.]+)\",\n",
    "        \"test_mae\": r\"\\[tst set\\]\\n.*?age \\(mae\\): ([\\d.]+)\"\n",
    "    }\n",
    "\n",
    "    # Extract values using regex\n",
    "    results = {}\n",
    "    for key, pattern in patterns.items():\n",
    "        match = re.search(pattern, input_text, re.DOTALL)\n",
    "        results[key] = match.group(1) if match else \"-\"\n",
    "\n",
    "    # Format the output\n",
    "    output = (\n",
    "        f\"{results['train_mae']}/{results['train_error']}, \"\n",
    "        f\"-/{results['train_loss']}, \"\n",
    "        f\"{results['val_mae']}/{results['val_error']}, \"\n",
    "        f\"-/{results['val_loss']}, \"\n",
    "        f\"{results['test_mae']}, \"\n",
    "        f\"{results['best_epoch']}/49\"\n",
    "    )\n",
    "\n",
    "    return output\n",
    "\n",
    "# Input text\n",
    "log_text = \"\"\"\n",
    "2025-01-21 19:17:11,111 [INFO] ----------------------------------------\n",
    "2025-01-21 19:17:29,832 [INFO] [trn phase]\n",
    "2025-01-21 19:17:29,835 [INFO] error: 0.0091 age_error:0.0091\n",
    "2025-01-21 19:17:29,835 [INFO] loss: 0.2106 age_loss:0.2106\n",
    "2025-01-21 19:17:35,807 [INFO] [val phase]\n",
    "2025-01-21 19:17:35,807 [INFO] error: 0.6927 age_error:0.6927\n",
    "2025-01-21 19:17:35,807 [INFO] loss: 0.8323 age_loss:0.8323\n",
    "2025-01-21 19:17:35,807 [INFO] Best Epoch: 18\n",
    "2025-01-21 19:17:36,102 [INFO] Checkpoint saved to facebase/results/Adience_256x256_resnet50_imagenet_dldl_v2/split2/checkpoint_49.pth\n",
    "2025-01-21 19:17:36,102 [INFO] Training complete in 20m 47s\n",
    "2025-01-21 19:17:36,102 [INFO] Best epoch: 18.000000\n",
    "2025-01-21 19:18:05,392 [INFO] Model evalution:\n",
    "2025-01-21 19:18:05,392 [INFO] [trn set]\n",
    "2025-01-21 19:18:05,392 [INFO] age (mae): 0.0197\n",
    "2025-01-21 19:18:05,392 [INFO] [val set]\n",
    "2025-01-21 19:18:05,392 [INFO] age (mae): 0.6304\n",
    "2025-01-21 19:18:05,393 [INFO] [tst set]\n",
    "2025-01-21 19:18:05,393 [INFO] age (mae): 0.5006\n",
    "\"\"\"\n",
    "\n",
    "# Parse and format the log\n",
    "formatted_output = parse_log_and_format(log_text)\n",
    "print(formatted_output)"
   ]
  },
  {
   "cell_type": "code",
   "execution_count": 4,
   "metadata": {},
   "outputs": [
    {
     "name": "stdout",
     "output_type": "stream",
     "text": [
      "0.0285±0.0001/0.0116±0.0000, -/0.2219±0.0001, 0.5363±0.0056/0.5873±0.0065, -/0.7677±0.0023, 0.5163±0.0003, 15.0000±4.6667/49\n"
     ]
    }
   ],
   "source": [
    "import numpy as np\n",
    "\n",
    "def parse_and_calculate(input_text):\n",
    "    # Split input text into rows and then into individual numbers\n",
    "    rows = input_text.strip().split(\"\\n\")\n",
    "    data = []\n",
    "    for row in rows:\n",
    "        # Split by tab, then further split by '/' and remove '-'\n",
    "        parsed_row = []\n",
    "        for item in row.split(\"\\t\"):\n",
    "            parts = item.split(\"/\")\n",
    "            for part in parts:\n",
    "                if part != \"-\":\n",
    "                    parsed_row.append(float(part))\n",
    "        data.append(parsed_row)\n",
    "    \n",
    "    # Convert to numpy array for easier calculations\n",
    "    data = np.array(data)\n",
    "\n",
    "    # Calculate mean and variance for each column\n",
    "    means = np.mean(data, axis=0)\n",
    "    variances = np.var(data, axis=0)\n",
    "    # Format the output with 4-digit precision\n",
    "    output = (\n",
    "        f\"{means[0]:.4f}±{variances[0]:.4f}/{means[1]:.4f}±{variances[1]:.4f}, \"\n",
    "        f\"-/{means[2]:.4f}±{variances[2]:.4f}, \"\n",
    "        f\"{means[3]:.4f}±{variances[3]:.4f}/{means[4]:.4f}±{variances[4]:.4f}, \"\n",
    "        f\"-/{means[5]:.4f}±{variances[5]:.4f}, \"\n",
    "        f\"{means[6]:.4f}±{variances[6]:.4f}, \"\n",
    "        f\"{means[7]:.4f}±{variances[7]:.4f}/{int(means[8])}\"\n",
    "    )\n",
    "    return output\n",
    "\n",
    "# Input text\n",
    "input_text = \"\"\"\n",
    "0.0228/0.0099\t-/0.2338\t0.5311/0.5732\t-/0.7182\t0.5096\t14/49\n",
    "0.0430/0.0159\t-/0.2212\t0.4473/0.4961\t-/0.7527\t0.5386\t13/49\n",
    "0.0197/0.0091\t-/0.2106\t0.6304/0.6927\t-/0.8323\t0.5006\t18/49\n",
    "\"\"\"\n",
    "\n",
    "# Calculate and print the result\n",
    "result = parse_and_calculate(input_text)\n",
    "print(result)\n"
   ]
  }
 ],
 "metadata": {
  "kernelspec": {
   "display_name": "torch",
   "language": "python",
   "name": "python3"
  },
  "language_info": {
   "codemirror_mode": {
    "name": "ipython",
    "version": 3
   },
   "file_extension": ".py",
   "mimetype": "text/x-python",
   "name": "python",
   "nbconvert_exporter": "python",
   "pygments_lexer": "ipython3",
   "version": "3.10.12"
  }
 },
 "nbformat": 4,
 "nbformat_minor": 2
}

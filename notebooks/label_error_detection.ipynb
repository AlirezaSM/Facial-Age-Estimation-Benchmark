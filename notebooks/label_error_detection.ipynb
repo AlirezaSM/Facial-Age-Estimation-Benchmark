{
 "cells": [
  {
   "cell_type": "code",
   "execution_count": 2,
   "metadata": {},
   "outputs": [],
   "source": [
    "import json\n",
    "import torch\n",
    "import numpy as np\n",
    "import pandas as pd\n",
    "import matplotlib.pyplot as plt\n",
    "import torch.nn.functional as F"
   ]
  },
  {
   "cell_type": "code",
   "execution_count": 2,
   "metadata": {},
   "outputs": [],
   "source": [
    "split = 0"
   ]
  },
  {
   "cell_type": "code",
   "execution_count": 3,
   "metadata": {},
   "outputs": [],
   "source": [
    "eval_file = f\"facebase/results/Adience_256x256_resnet50_imagenet_my_dldl_v2_noisy_train_val_0.4_3/split{split}/evaluation.pt\"\n",
    "clean_data_file = f\"facebase/data/Adience_256x256_resnet50_imagenet_dldl_v2_clean/data_split{split}.csv\"\n",
    "noisy_data_file = f\"facebase/data/Adience_256x256_resnet50_imagenet_noisy_dldl_v2/data_split{split}.csv\""
   ]
  },
  {
   "cell_type": "code",
   "execution_count": 4,
   "metadata": {},
   "outputs": [],
   "source": [
    "means_file = f\"facebase/results/Adience_256x256_resnet50_imagenet_noisy_dldl_v2_3/split{split}/mean_history.json\"\n",
    "sigmas_file = f\"facebase/results/Adience_256x256_resnet50_imagenet_noisy_dldl_v2_3/split{split}/sigma_history.json\""
   ]
  },
  {
   "cell_type": "code",
   "execution_count": 5,
   "metadata": {},
   "outputs": [],
   "source": [
    "noisy_df = pd.read_csv(noisy_data_file, header=None)\n",
    "clean_df = pd.read_csv(clean_data_file, header=None)\n",
    "eval = torch.load(eval_file)"
   ]
  },
  {
   "cell_type": "code",
   "execution_count": 6,
   "metadata": {},
   "outputs": [],
   "source": [
    "with open(means_file, 'r') as file:\n",
    "    last_means = json.load(file)\n",
    "\n",
    "with open(sigmas_file, 'r') as file:\n",
    "    last_sigmas = json.load(file)\n",
    "\n",
    "means = {int(key): value[-1] for key, value in last_means.items()}\n",
    "sigmas = {int(key): value[-1] for key, value in last_sigmas.items()}"
   ]
  },
  {
   "cell_type": "code",
   "execution_count": 7,
   "metadata": {},
   "outputs": [
    {
     "data": {
      "text/plain": [
       "dict_keys(['config', 'split', 'error', 'log_history', 'posterior', 'true_label', 'predicted_label', 'id', 'folder'])"
      ]
     },
     "execution_count": 7,
     "metadata": {},
     "output_type": "execute_result"
    }
   ],
   "source": [
    "eval.keys()"
   ]
  },
  {
   "cell_type": "code",
   "execution_count": 16,
   "metadata": {},
   "outputs": [],
   "source": [
    "df = noisy_df.copy()\n",
    "df['clean_label'] = clean_df[3]\n",
    "df['predicted_label'] = eval['predicted_label']['age']\n",
    "df['preds'] = list(np.array(F.softmax(torch.tensor(eval['posterior']['age']), dim=1)))\n",
    "df.rename(columns={0: 'id', 1:'img_path', 2: 'folder', 3: 'noisy_label'}, inplace=True)\n",
    "\n",
    "# df['max_prob'] = df['preds'].apply(np.max)  # Calculate mean\n",
    "# df['variance'] = df['preds'].apply(np.var)  # Calculate variance\n",
    "df['mean'] = df['id'].map(means)\n",
    "df['sigma'] = df['id'].map(sigmas)\n",
    "\n",
    "pd.set_option('display.max_colwidth', None) # Show full content of each cell\n",
    "\n",
    "df.to_csv(\"yoyo.csv\")"
   ]
  },
  {
   "cell_type": "code",
   "execution_count": 17,
   "metadata": {},
   "outputs": [],
   "source": [
    "df_splits = {\n",
    "    'trn_df': df[df['folder'] == 0],\n",
    "    'val_df': df[df['folder'] == 1],\n",
    "    'tst_df': df[df['folder'] == 2]\n",
    "}"
   ]
  },
  {
   "cell_type": "code",
   "execution_count": 18,
   "metadata": {},
   "outputs": [],
   "source": [
    "for split, df in df_splits.items():\n",
    "    df['label_diff'] = (df['clean_label'] - df['noisy_label']).apply(np.abs)"
   ]
  },
  {
   "cell_type": "code",
   "execution_count": 19,
   "metadata": {},
   "outputs": [
    {
     "data": {
      "text/plain": [
       "0.8832389994522549"
      ]
     },
     "execution_count": 19,
     "metadata": {},
     "output_type": "execute_result"
    }
   ],
   "source": [
    "df_splits['trn_df']['label_diff'].mean()"
   ]
  },
  {
   "cell_type": "code",
   "execution_count": 20,
   "metadata": {},
   "outputs": [],
   "source": [
    "for split, df in df_splits.items():\n",
    "    df['correct_diff'] = (df['clean_label'] - df['mean']).apply(np.abs)"
   ]
  },
  {
   "cell_type": "code",
   "execution_count": 21,
   "metadata": {},
   "outputs": [
    {
     "data": {
      "text/plain": [
       "0.4618978915448327"
      ]
     },
     "execution_count": 21,
     "metadata": {},
     "output_type": "execute_result"
    }
   ],
   "source": [
    "df_splits['trn_df']['correct_diff'].mean()"
   ]
  },
  {
   "cell_type": "code",
   "execution_count": 11,
   "metadata": {},
   "outputs": [],
   "source": [
    "def plot_hist(df, column, title):\n",
    "    ax = df[column].hist(bins=8, edgecolor='black')\n",
    "    counts, bin_edges, _ = ax.hist(df[column], bins=8, edgecolor='black')\n",
    "    total = len(df[column])\n",
    "    ratios = counts / total\n",
    "    for i in range(len(counts)):\n",
    "        ax.text(\n",
    "            (bin_edges[i] + bin_edges[i+1]) / 2,  # x-position: center of the bar\n",
    "            counts[i],                            # y-position: top of the bar\n",
    "            f'{int(counts[i])}',                   # Text: ratio formatted to 2 decimal places\n",
    "            ha='center', va='bottom'              # Horizontal and vertical alignment\n",
    "        )\n",
    "    plt.title(title)\n",
    "    plt.show()"
   ]
  },
  {
   "cell_type": "code",
   "execution_count": 12,
   "metadata": {},
   "outputs": [
    {
     "name": "stdout",
     "output_type": "stream",
     "text": [
      "trn_df\n",
      "clean_label\n",
      "4    3066\n",
      "0    1857\n",
      "2    1455\n",
      "1    1332\n",
      "5    1315\n",
      "3     947\n",
      "7     497\n",
      "6     485\n",
      "Name: count, dtype: int64\n",
      "\n",
      "val_df\n",
      "clean_label\n",
      "4    970\n",
      "5    523\n",
      "2    497\n",
      "3    468\n",
      "1    238\n",
      "0    151\n",
      "7    118\n",
      "6    104\n",
      "Name: count, dtype: int64\n",
      "\n",
      "tst_df\n",
      "clean_label\n",
      "4    1059\n",
      "1     570\n",
      "5     502\n",
      "0     483\n",
      "2     340\n",
      "7     257\n",
      "6     241\n",
      "3     227\n",
      "Name: count, dtype: int64\n",
      "\n"
     ]
    }
   ],
   "source": [
    "for split, df in df_splits.items():\n",
    "    print(split)\n",
    "    print((df['clean_label'].value_counts()))\n",
    "    print()"
   ]
  },
  {
   "cell_type": "code",
   "execution_count": 13,
   "metadata": {},
   "outputs": [
    {
     "name": "stdout",
     "output_type": "stream",
     "text": [
      "trn_df\n",
      "label_diff\n",
      "0    6467\n",
      "1    1722\n",
      "2    1303\n",
      "3     807\n",
      "4     430\n",
      "5     159\n",
      "6      51\n",
      "7      15\n",
      "Name: count, dtype: int64\n",
      "\n",
      "val_df\n",
      "label_diff\n",
      "0    1703\n",
      "1     508\n",
      "2     425\n",
      "3     286\n",
      "4     103\n",
      "5      37\n",
      "6       7\n",
      "Name: count, dtype: int64\n",
      "\n",
      "tst_df\n",
      "label_diff\n",
      "0    3679\n",
      "Name: count, dtype: int64\n",
      "\n"
     ]
    }
   ],
   "source": [
    "for split, df in df_splits.items():\n",
    "    print(split)\n",
    "    print((df['label_diff'].value_counts()))\n",
    "    print()"
   ]
  },
  {
   "cell_type": "code",
   "execution_count": 14,
   "metadata": {},
   "outputs": [
    {
     "data": {
      "image/png": "[encoded data removed]",
      "text/plain": [
       "<Figure size 640x480 with 1 Axes>"
      ]
     },
     "metadata": {},
     "output_type": "display_data"
    },
    {
     "data": {
      "image/png": "[encoded data removed]",
      "text/plain": [
       "<Figure size 640x480 with 1 Axes>"
      ]
     },
     "metadata": {},
     "output_type": "display_data"
    },
    {
     "data": {
      "image/png": "[encoded data removed]",
      "text/plain": [
       "<Figure size 640x480 with 1 Axes>"
      ]
     },
     "metadata": {},
     "output_type": "display_data"
    }
   ],
   "source": [
    "for split, df in df_splits.items():\n",
    "    plot_hist(df, 'label_diff', split)"
   ]
  },
  {
   "cell_type": "code",
   "execution_count": null,
   "metadata": {},
   "outputs": [],
   "source": [
    "0    0.362061\n",
    "1    0.414570   \n",
    "2    0.551423   1\n",
    "3    0.691106   1\n",
    "4    0.998715   1\n",
    "5    1.357708   1\n",
    "6    1.132941   1\n",
    "7    1.663948   1\n",
    "\n",
    "0    0.349312\n",
    "1    0.408827\n",
    "2    0.554873\n",
    "3    0.732342\n",
    "4    1.060465\n",
    "5    1.402516\n",
    "6    1.274510\n",
    "7    1.800000\n",
    "\n",
    "0    0.500850\n",
    "1    0.473868\n",
    "2    0.612433\n",
    "3    0.631970\n",
    "4    0.795349\n",
    "5    0.874214\n",
    "6    0.980392\n",
    "7    1.400000"
   ]
  },
  {
   "cell_type": "code",
   "execution_count": 15,
   "metadata": {},
   "outputs": [
    {
     "name": "stdout",
     "output_type": "stream",
     "text": [
      "trn_df\n",
      "Mean Absolute Difference (Predicted vs Noisy) per label_diff:\n",
      "label_diff\n",
      "0    0.500850\n",
      "1    0.838560\n",
      "2    1.630084\n",
      "3    2.501859\n",
      "4    3.269767\n",
      "5    4.163522\n",
      "6    5.019608\n",
      "7    5.600000\n",
      "Name: abs_diff_predicted_noisy, dtype: float64\n",
      "\n",
      "Mean Absolute Difference (Predicted vs Clean) per label_diff:\n",
      "label_diff\n",
      "0    0.500850\n",
      "1    0.473868\n",
      "2    0.612433\n",
      "3    0.631970\n",
      "4    0.795349\n",
      "5    0.874214\n",
      "6    0.980392\n",
      "7    1.400000\n",
      "Name: abs_diff_predicted_clean, dtype: float64\n",
      "\n",
      "val_df\n",
      "Mean Absolute Difference (Predicted vs Noisy) per label_diff:\n",
      "label_diff\n",
      "0    0.682913\n",
      "1    1.053150\n",
      "2    1.971765\n",
      "3    2.923077\n",
      "4    3.776699\n",
      "5    4.702703\n",
      "6    4.714286\n",
      "Name: abs_diff_predicted_noisy, dtype: float64\n",
      "\n",
      "Mean Absolute Difference (Predicted vs Clean) per label_diff:\n",
      "label_diff\n",
      "0    0.682913\n",
      "1    0.635827\n",
      "2    0.640000\n",
      "3    0.587413\n",
      "4    0.495146\n",
      "5    0.729730\n",
      "6    1.285714\n",
      "Name: abs_diff_predicted_clean, dtype: float64\n",
      "\n",
      "tst_df\n",
      "Mean Absolute Difference (Predicted vs Noisy) per label_diff:\n",
      "label_diff\n",
      "0    0.753466\n",
      "Name: abs_diff_predicted_noisy, dtype: float64\n",
      "\n",
      "Mean Absolute Difference (Predicted vs Clean) per label_diff:\n",
      "label_diff\n",
      "0    0.753466\n",
      "Name: abs_diff_predicted_clean, dtype: float64\n",
      "\n"
     ]
    }
   ],
   "source": [
    "for split, df in df_splits.items():\n",
    "    print(split)\n",
    "    # Compute absolute differences\n",
    "    df['abs_diff_predicted_noisy'] = abs(df['predicted_label'] - df['noisy_label'])\n",
    "    df['abs_diff_predicted_clean'] = abs(df['predicted_label'] - df['clean_label'])\n",
    "\n",
    "    # Group by label_diff and calculate mean\n",
    "    mean_diff_noisy = df.groupby('label_diff')['abs_diff_predicted_noisy'].mean()\n",
    "    mean_diff_clean = df.groupby('label_diff')['abs_diff_predicted_clean'].mean()\n",
    "\n",
    "    # Display the results\n",
    "    print(\"Mean Absolute Difference (Predicted vs Noisy) per label_diff:\")\n",
    "    print(mean_diff_noisy)\n",
    "\n",
    "    print(\"\\nMean Absolute Difference (Predicted vs Clean) per label_diff:\")\n",
    "    print(mean_diff_clean)\n",
    "    print()"
   ]
  },
  {
   "cell_type": "code",
   "execution_count": 23,
   "metadata": {},
   "outputs": [
    {
     "name": "stdout",
     "output_type": "stream",
     "text": [
      "trn_df\n",
      "Mean Absolute Difference (Mean vs Noisy) per label_diff:\n",
      "label_diff\n",
      "0    0.362061\n",
      "1    0.788932\n",
      "2    1.543787\n",
      "3    2.333332\n",
      "4    3.001891\n",
      "5    3.642292\n",
      "6    4.867059\n",
      "7    5.336052\n",
      "Name: abs_diff_mean_noisy, dtype: float64\n",
      "\n",
      "Mean Absolute Difference (Mean vs Clean) per label_diff:\n",
      "label_diff\n",
      "0    0.362061\n",
      "1    0.414570\n",
      "2    0.551423\n",
      "3    0.691106\n",
      "4    0.998715\n",
      "5    1.357708\n",
      "6    1.132941\n",
      "7    1.663948\n",
      "Name: abs_diff_mean_clean, dtype: float64\n",
      "\n"
     ]
    }
   ],
   "source": [
    "for split, df in df_splits.items():\n",
    "    print(split)\n",
    "    # Compute absolute differences\n",
    "    df['abs_diff_mean_noisy'] = abs(df['mean'] - df['noisy_label'])\n",
    "    df['abs_diff_mean_clean'] = abs(df['mean'] - df['clean_label'])\n",
    "\n",
    "    # Group by label_diff and calculate mean\n",
    "    mean_diff_noisy = df.groupby('label_diff')['abs_diff_mean_noisy'].mean()\n",
    "    mean_diff_clean = df.groupby('label_diff')['abs_diff_mean_clean'].mean()\n",
    "\n",
    "    # Display the results\n",
    "    print(\"Mean Absolute Difference (Mean vs Noisy) per label_diff:\")\n",
    "    print(mean_diff_noisy)\n",
    "\n",
    "    print(\"\\nMean Absolute Difference (Mean vs Clean) per label_diff:\")\n",
    "    print(mean_diff_clean)\n",
    "    print()\n",
    "    break"
   ]
  },
  {
   "cell_type": "code",
   "execution_count": 14,
   "metadata": {},
   "outputs": [
    {
     "name": "stdout",
     "output_type": "stream",
     "text": [
      "tensor([[5.4239e-02, 2.4308e-01, 4.0077e-01, 2.4308e-01, 5.4239e-02, 4.4522e-03,\n",
      "         1.3444e-04, 1.4935e-06],\n",
      "        [1.4935e-06, 1.3444e-04, 4.4522e-03, 5.4239e-02, 2.4308e-01, 4.0077e-01,\n",
      "         2.4308e-01, 5.4239e-02]])\n"
     ]
    }
   ],
   "source": [
    "nr_classes = 8\n",
    "batch_size = 2\n",
    "labels = torch.tensor([2, 5])\n",
    "sigma = 1\n",
    "class_labels = torch.arange(0, nr_classes)\n",
    "class_labels = class_labels.unsqueeze(0).expand(batch_size, -1)  # Broadcast to batch size\n",
    "\n",
    "# Broadcast ground-truth labels to match the shape of class_labels\n",
    "broadcast_labels = labels.unsqueeze(1).expand(-1, nr_classes)\n",
    "\n",
    "# Generate the ground-truth label distribution using a Gaussian distribution\n",
    "label_distributions = torch.exp(-((class_labels - broadcast_labels) ** 2) / (2 * sigma ** 2))\n",
    "label_distributions = label_distributions / label_distributions.sum(dim=1, keepdim=True)  # Normalize\n",
    "\n",
    "print(label_distributions)"
   ]
  }
 ],
 "metadata": {
  "kernelspec": {
   "display_name": "torch",
   "language": "python",
   "name": "python3"
  },
  "language_info": {
   "codemirror_mode": {
    "name": "ipython",
    "version": 3
   },
   "file_extension": ".py",
   "mimetype": "text/x-python",
   "name": "python",
   "nbconvert_exporter": "python",
   "pygments_lexer": "ipython3",
   "version": "3.10.12"
  }
 },
 "nbformat": 4,
 "nbformat_minor": 2
}

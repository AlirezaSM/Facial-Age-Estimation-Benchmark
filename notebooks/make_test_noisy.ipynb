{
 "cells": [
  {
   "cell_type": "code",
   "execution_count": 2,
   "metadata": {},
   "outputs": [],
   "source": [
    "import os\n",
    "import numpy as np\n",
    "import pandas as pd"
   ]
  },
  {
   "cell_type": "code",
   "execution_count": 4,
   "metadata": {},
   "outputs": [],
   "source": [
    "data_root = \"../facebase/data/Adience_256x256_resnet50_imagenet_noisy_dldl_v2_reference_test\"\n",
    "data_files = [os.path.join(data_root, f\"data_split{split}.csv\") for split in range(5)]\n",
    "dfs = [pd.read_csv(data_file, header=None) for data_file in data_files]"
   ]
  },
  {
   "cell_type": "code",
   "execution_count": 5,
   "metadata": {},
   "outputs": [],
   "source": [
    "label_map = dict()\n",
    "for df in dfs:\n",
    "    for _, row in df.iterrows():\n",
    "        id_value = row[0]\n",
    "        folder_value = row[2]\n",
    "        if id_value not in label_map and folder_value in [0, 1]:\n",
    "            label_map[id_value] = (row[3], row[4])"
   ]
  },
  {
   "cell_type": "code",
   "execution_count": 10,
   "metadata": {},
   "outputs": [],
   "source": [
    "for df in dfs:\n",
    "    for idx, row in df.iterrows():\n",
    "        if row[2] == 2:\n",
    "            df.at[idx, 3] = label_map[idx][0]\n",
    "            df.at[idx, 4] = label_map[idx][1]"
   ]
  },
  {
   "cell_type": "code",
   "execution_count": 11,
   "metadata": {},
   "outputs": [],
   "source": [
    "for df, data_file in zip(dfs, data_files):\n",
    "    df.to_csv(data_file, index=False, header=False)"
   ]
  },
  {
   "cell_type": "code",
   "execution_count": null,
   "metadata": {},
   "outputs": [
    {
     "name": "stdout",
     "output_type": "stream",
     "text": [
      "True\n"
     ]
    }
   ],
   "source": [
    "# Extract only the fourth, fifth, and sixth columns from the first DataFrame as a reference\n",
    "reference_cols = dfs[0].iloc[:, 3:6]\n",
    "\n",
    "# Compare each DataFrame's columns with the reference\n",
    "identical = all(df.iloc[:, 3:6].equals(reference_cols) for df in dfs)\n",
    "\n",
    "print(identical)"
   ]
  }
 ],
 "metadata": {
  "kernelspec": {
   "display_name": "torch",
   "language": "python",
   "name": "python3"
  },
  "language_info": {
   "codemirror_mode": {
    "name": "ipython",
    "version": 3
   },
   "file_extension": ".py",
   "mimetype": "text/x-python",
   "name": "python",
   "nbconvert_exporter": "python",
   "pygments_lexer": "ipython3",
   "version": "3.10.12"
  }
 },
 "nbformat": 4,
 "nbformat_minor": 2
}

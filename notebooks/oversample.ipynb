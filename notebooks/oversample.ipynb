{
 "cells": [
  {
   "cell_type": "code",
   "execution_count": 8,
   "metadata": {},
   "outputs": [
    {
     "name": "stdout",
     "output_type": "stream",
     "text": [
      "Balanced dataset saved to /media/vision/FastStorage-1/alireza-sm/Facial-Age-Estimation-Benchmark/facebase/data/DR_256x256_resnet50_imagenet_dldl_v2_clean/data_split0_over.csv\n"
     ]
    }
   ],
   "source": [
    "import pandas as pd\n",
    "import os\n",
    "import numpy as np\n",
    "from collections import Counter\n",
    "\n",
    "def balance_dataframe(file_path, output_path):\n",
    "    df = pd.read_csv(file_path, header=None)\n",
    "    \n",
    "    df_filtered = df[df[2] == 0]\n",
    "    df_remaining = df[df[2] != 0]\n",
    "    \n",
    "    label_counts = df_filtered[3].value_counts()\n",
    "    max_count = label_counts.max()\n",
    "    \n",
    "    df_balanced_list = []\n",
    "    for label, count in label_counts.items():\n",
    "        df_class = df_filtered[df_filtered[3] == label]\n",
    "        num_samples_needed = max_count - count\n",
    "        if num_samples_needed > 0:\n",
    "            df_class = pd.concat([df_class, df_class.sample(num_samples_needed, replace=True, random_state=42)])\n",
    "        df_balanced_list.append(df_class)\n",
    "    \n",
    "    df_balanced = pd.concat(df_balanced_list)\n",
    "    df_final = pd.concat([df_balanced, df_remaining])\n",
    "    \n",
    "    df_final.to_csv(output_path, header=False, index=False)\n",
    "    print(f\"Balanced dataset saved to {output_path}\")\n",
    "\n",
    "balance_dataframe(\"/media/vision/FastStorage-1/alireza-sm/Facial-Age-Estimation-Benchmark/facebase/data/DR_256x256_resnet50_imagenet_dldl_v2_clean/data_split0.csv\",\n",
    " \"/media/vision/FastStorage-1/alireza-sm/Facial-Age-Estimation-Benchmark/facebase/data/DR_256x256_resnet50_imagenet_dldl_v2_clean/data_split0_over.csv\")\n"
   ]
  },
  {
   "cell_type": "code",
   "execution_count": 9,
   "metadata": {},
   "outputs": [
    {
     "name": "stdout",
     "output_type": "stream",
     "text": [
      "Balanced dataset saved to ../facebase/data/DR_256x256_resnet50_imagenet_dldl_v2_clean_oversampled/data_split0.csv\n",
      "Balanced dataset saved to ../facebase/data/DR_256x256_resnet50_imagenet_dldl_v2_clean_oversampled/data_split1.csv\n",
      "Balanced dataset saved to ../facebase/data/DR_256x256_resnet50_imagenet_dldl_v2_clean_oversampled/data_split2.csv\n",
      "Balanced dataset saved to ../facebase/data/DR_256x256_resnet50_imagenet_dldl_v2_clean_oversampled/data_split3.csv\n",
      "Balanced dataset saved to ../facebase/data/DR_256x256_resnet50_imagenet_dldl_v2_clean_oversampled/data_split4.csv\n"
     ]
    }
   ],
   "source": [
    "root = '../facebase/data/DR_256x256_resnet50_imagenet_dldl_v2_clean_oversampled'\n",
    "for i in range(5):\n",
    "    csv_path = os.path.join(root, f\"data_split{i}.csv\")\n",
    "    balance_dataframe(csv_path, csv_path)"
   ]
  }
 ],
 "metadata": {
  "kernelspec": {
   "display_name": "torch",
   "language": "python",
   "name": "python3"
  },
  "language_info": {
   "codemirror_mode": {
    "name": "ipython",
    "version": 3
   },
   "file_extension": ".py",
   "mimetype": "text/x-python",
   "name": "python",
   "nbconvert_exporter": "python",
   "pygments_lexer": "ipython3",
   "version": "3.10.12"
  }
 },
 "nbformat": 4,
 "nbformat_minor": 2
}

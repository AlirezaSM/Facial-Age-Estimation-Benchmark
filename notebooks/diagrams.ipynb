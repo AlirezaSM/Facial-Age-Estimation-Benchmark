{
 "cells": [
  {
   "cell_type": "code",
   "execution_count": 10,
   "id": "9befdf66",
   "metadata": {},
   "outputs": [
    {
     "data": {
      "application/vnd.plotly.v1+json": {
       "config": {
        "plotlyServerURL": "https://plot.ly"
       },
       "data": [
        {
         "marker": {
          "color": "#02c21f"
         },
         "name": "Normal Training",
         "text": [
          "0.5727 ± 0.0366",
          "0.0000 ± 0.0000",
          "0.8200 ± 0.0632"
         ],
         "textfont": {
          "color": "black",
          "family": "Times New Roman",
          "size": 12
         },
         "textposition": "outside",
         "type": "bar",
         "width": 0.15,
         "x": [
          "NR=0.0",
          "NR=0.2",
          "NR=0.4"
         ],
         "y": [
          0.5727,
          0,
          0.82
         ]
        },
        {
         "marker": {
          "color": "#e86202"
         },
         "name": "CASSOR",
         "text": [
          "0.6158 ± 0.0611",
          "0.5902 ± 0.0442",
          "0.5908 ± 0.0605"
         ],
         "textfont": {
          "color": "black",
          "family": "Times New Roman",
          "size": 12
         },
         "textposition": "outside",
         "type": "bar",
         "width": 0.15,
         "x": [
          "NR=0.0",
          "NR=0.2",
          "NR=0.4"
         ],
         "y": [
          0.6158,
          0.5902,
          0.5908
         ]
        },
        {
         "marker": {
          "color": "#e30215"
         },
         "name": "ORDAC",
         "text": [
          "0.5038 ± 0.0458",
          "0.5329 ± 0.0348",
          "0.6321 ± 0.0288"
         ],
         "textfont": {
          "color": "black",
          "family": "Times New Roman",
          "size": 12
         },
         "textposition": "outside",
         "type": "bar",
         "width": 0.15,
         "x": [
          "NR=0.0",
          "NR=0.2",
          "NR=0.4"
         ],
         "y": [
          0.5038,
          0.5329,
          0.6321
         ]
        },
        {
         "marker": {
          "color": "#2878f7"
         },
         "name": "ORDAC+CASSOR",
         "text": [
          "0.5671 ± 0.0449",
          "0.5655 ± 0.0497",
          "0.5918 ± 0.0523"
         ],
         "textfont": {
          "color": "black",
          "family": "Times New Roman",
          "size": 12
         },
         "textposition": "outside",
         "type": "bar",
         "width": 0.15,
         "x": [
          "NR=0.0",
          "NR=0.2",
          "NR=0.4"
         ],
         "y": [
          0.5671,
          0.5655,
          0.5918
         ]
        },
        {
         "marker": {
          "color": "#c202b8"
         },
         "name": "ORDAC_R",
         "text": [
          "0.5671 ± 0.0449",
          "0.5655 ± 0.0497",
          "0.5918 ± 0.0523"
         ],
         "textfont": {
          "color": "black",
          "family": "Times New Roman",
          "size": 12
         },
         "textposition": "outside",
         "type": "bar",
         "width": 0.15,
         "x": [
          "NR=0.0",
          "NR=0.2",
          "NR=0.4"
         ],
         "y": [
          0.5671,
          0.5655,
          0.5918
         ]
        }
       ],
       "layout": {
        "bargap": 0.15,
        "bargroupgap": 0.05,
        "barmode": "group",
        "legend": {
         "font": {
          "color": "black",
          "family": "Times New Roman",
          "size": 12
         },
         "orientation": "h",
         "x": 0.5,
         "xanchor": "center",
         "y": 1.02,
         "yanchor": "bottom"
        },
        "plot_bgcolor": "white",
        "template": {
         "data": {
          "bar": [
           {
            "error_x": {
             "color": "#2a3f5f"
            },
            "error_y": {
             "color": "#2a3f5f"
            },
            "marker": {
             "line": {
              "color": "#E5ECF6",
              "width": 0.5
             },
             "pattern": {
              "fillmode": "overlay",
              "size": 10,
              "solidity": 0.2
             }
            },
            "type": "bar"
           }
          ],
          "barpolar": [
           {
            "marker": {
             "line": {
              "color": "#E5ECF6",
              "width": 0.5
             },
             "pattern": {
              "fillmode": "overlay",
              "size": 10,
              "solidity": 0.2
             }
            },
            "type": "barpolar"
           }
          ],
          "carpet": [
           {
            "aaxis": {
             "endlinecolor": "#2a3f5f",
             "gridcolor": "white",
             "linecolor": "white",
             "minorgridcolor": "white",
             "startlinecolor": "#2a3f5f"
            },
            "baxis": {
             "endlinecolor": "#2a3f5f",
             "gridcolor": "white",
             "linecolor": "white",
             "minorgridcolor": "white",
             "startlinecolor": "#2a3f5f"
            },
            "type": "carpet"
           }
          ],
          "choropleth": [
           {
            "colorbar": {
             "outlinewidth": 0,
             "ticks": ""
            },
            "type": "choropleth"
           }
          ],
          "contour": [
           {
            "colorbar": {
             "outlinewidth": 0,
             "ticks": ""
            },
            "colorscale": [
             [
              0,
              "#0d0887"
             ],
             [
              0.1111111111111111,
              "#46039f"
             ],
             [
              0.2222222222222222,
              "#7201a8"
             ],
             [
              0.3333333333333333,
              "#9c179e"
             ],
             [
              0.4444444444444444,
              "#bd3786"
             ],
             [
              0.5555555555555556,
              "#d8576b"
             ],
             [
              0.6666666666666666,
              "#ed7953"
             ],
             [
              0.7777777777777778,
              "#fb9f3a"
             ],
             [
              0.8888888888888888,
              "#fdca26"
             ],
             [
              1,
              "#f0f921"
             ]
            ],
            "type": "contour"
           }
          ],
          "contourcarpet": [
           {
            "colorbar": {
             "outlinewidth": 0,
             "ticks": ""
            },
            "type": "contourcarpet"
           }
          ],
          "heatmap": [
           {
            "colorbar": {
             "outlinewidth": 0,
             "ticks": ""
            },
            "colorscale": [
             [
              0,
              "#0d0887"
             ],
             [
              0.1111111111111111,
              "#46039f"
             ],
             [
              0.2222222222222222,
              "#7201a8"
             ],
             [
              0.3333333333333333,
              "#9c179e"
             ],
             [
              0.4444444444444444,
              "#bd3786"
             ],
             [
              0.5555555555555556,
              "#d8576b"
             ],
             [
              0.6666666666666666,
              "#ed7953"
             ],
             [
              0.7777777777777778,
              "#fb9f3a"
             ],
             [
              0.8888888888888888,
              "#fdca26"
             ],
             [
              1,
              "#f0f921"
             ]
            ],
            "type": "heatmap"
           }
          ],
          "heatmapgl": [
           {
            "colorbar": {
             "outlinewidth": 0,
             "ticks": ""
            },
            "colorscale": [
             [
              0,
              "#0d0887"
             ],
             [
              0.1111111111111111,
              "#46039f"
             ],
             [
              0.2222222222222222,
              "#7201a8"
             ],
             [
              0.3333333333333333,
              "#9c179e"
             ],
             [
              0.4444444444444444,
              "#bd3786"
             ],
             [
              0.5555555555555556,
              "#d8576b"
             ],
             [
              0.6666666666666666,
              "#ed7953"
             ],
             [
              0.7777777777777778,
              "#fb9f3a"
             ],
             [
              0.8888888888888888,
              "#fdca26"
             ],
             [
              1,
              "#f0f921"
             ]
            ],
            "type": "heatmapgl"
           }
          ],
          "histogram": [
           {
            "marker": {
             "pattern": {
              "fillmode": "overlay",
              "size": 10,
              "solidity": 0.2
             }
            },
            "type": "histogram"
           }
          ],
          "histogram2d": [
           {
            "colorbar": {
             "outlinewidth": 0,
             "ticks": ""
            },
            "colorscale": [
             [
              0,
              "#0d0887"
             ],
             [
              0.1111111111111111,
              "#46039f"
             ],
             [
              0.2222222222222222,
              "#7201a8"
             ],
             [
              0.3333333333333333,
              "#9c179e"
             ],
             [
              0.4444444444444444,
              "#bd3786"
             ],
             [
              0.5555555555555556,
              "#d8576b"
             ],
             [
              0.6666666666666666,
              "#ed7953"
             ],
             [
              0.7777777777777778,
              "#fb9f3a"
             ],
             [
              0.8888888888888888,
              "#fdca26"
             ],
             [
              1,
              "#f0f921"
             ]
            ],
            "type": "histogram2d"
           }
          ],
          "histogram2dcontour": [
           {
            "colorbar": {
             "outlinewidth": 0,
             "ticks": ""
            },
            "colorscale": [
             [
              0,
              "#0d0887"
             ],
             [
              0.1111111111111111,
              "#46039f"
             ],
             [
              0.2222222222222222,
              "#7201a8"
             ],
             [
              0.3333333333333333,
              "#9c179e"
             ],
             [
              0.4444444444444444,
              "#bd3786"
             ],
             [
              0.5555555555555556,
              "#d8576b"
             ],
             [
              0.6666666666666666,
              "#ed7953"
             ],
             [
              0.7777777777777778,
              "#fb9f3a"
             ],
             [
              0.8888888888888888,
              "#fdca26"
             ],
             [
              1,
              "#f0f921"
             ]
            ],
            "type": "histogram2dcontour"
           }
          ],
          "mesh3d": [
           {
            "colorbar": {
             "outlinewidth": 0,
             "ticks": ""
            },
            "type": "mesh3d"
           }
          ],
          "parcoords": [
           {
            "line": {
             "colorbar": {
              "outlinewidth": 0,
              "ticks": ""
             }
            },
            "type": "parcoords"
           }
          ],
          "pie": [
           {
            "automargin": true,
            "type": "pie"
           }
          ],
          "scatter": [
           {
            "fillpattern": {
             "fillmode": "overlay",
             "size": 10,
             "solidity": 0.2
            },
            "type": "scatter"
           }
          ],
          "scatter3d": [
           {
            "line": {
             "colorbar": {
              "outlinewidth": 0,
              "ticks": ""
             }
            },
            "marker": {
             "colorbar": {
              "outlinewidth": 0,
              "ticks": ""
             }
            },
            "type": "scatter3d"
           }
          ],
          "scattercarpet": [
           {
            "marker": {
             "colorbar": {
              "outlinewidth": 0,
              "ticks": ""
             }
            },
            "type": "scattercarpet"
           }
          ],
          "scattergeo": [
           {
            "marker": {
             "colorbar": {
              "outlinewidth": 0,
              "ticks": ""
             }
            },
            "type": "scattergeo"
           }
          ],
          "scattergl": [
           {
            "marker": {
             "colorbar": {
              "outlinewidth": 0,
              "ticks": ""
             }
            },
            "type": "scattergl"
           }
          ],
          "scattermapbox": [
           {
            "marker": {
             "colorbar": {
              "outlinewidth": 0,
              "ticks": ""
             }
            },
            "type": "scattermapbox"
           }
          ],
          "scatterpolar": [
           {
            "marker": {
             "colorbar": {
              "outlinewidth": 0,
              "ticks": ""
             }
            },
            "type": "scatterpolar"
           }
          ],
          "scatterpolargl": [
           {
            "marker": {
             "colorbar": {
              "outlinewidth": 0,
              "ticks": ""
             }
            },
            "type": "scatterpolargl"
           }
          ],
          "scatterternary": [
           {
            "marker": {
             "colorbar": {
              "outlinewidth": 0,
              "ticks": ""
             }
            },
            "type": "scatterternary"
           }
          ],
          "surface": [
           {
            "colorbar": {
             "outlinewidth": 0,
             "ticks": ""
            },
            "colorscale": [
             [
              0,
              "#0d0887"
             ],
             [
              0.1111111111111111,
              "#46039f"
             ],
             [
              0.2222222222222222,
              "#7201a8"
             ],
             [
              0.3333333333333333,
              "#9c179e"
             ],
             [
              0.4444444444444444,
              "#bd3786"
             ],
             [
              0.5555555555555556,
              "#d8576b"
             ],
             [
              0.6666666666666666,
              "#ed7953"
             ],
             [
              0.7777777777777778,
              "#fb9f3a"
             ],
             [
              0.8888888888888888,
              "#fdca26"
             ],
             [
              1,
              "#f0f921"
             ]
            ],
            "type": "surface"
           }
          ],
          "table": [
           {
            "cells": {
             "fill": {
              "color": "#EBF0F8"
             },
             "line": {
              "color": "white"
             }
            },
            "header": {
             "fill": {
              "color": "#C8D4E3"
             },
             "line": {
              "color": "white"
             }
            },
            "type": "table"
           }
          ]
         },
         "layout": {
          "annotationdefaults": {
           "arrowcolor": "#2a3f5f",
           "arrowhead": 0,
           "arrowwidth": 1
          },
          "autotypenumbers": "strict",
          "coloraxis": {
           "colorbar": {
            "outlinewidth": 0,
            "ticks": ""
           }
          },
          "colorscale": {
           "diverging": [
            [
             0,
             "#8e0152"
            ],
            [
             0.1,
             "#c51b7d"
            ],
            [
             0.2,
             "#de77ae"
            ],
            [
             0.3,
             "#f1b6da"
            ],
            [
             0.4,
             "#fde0ef"
            ],
            [
             0.5,
             "#f7f7f7"
            ],
            [
             0.6,
             "#e6f5d0"
            ],
            [
             0.7,
             "#b8e186"
            ],
            [
             0.8,
             "#7fbc41"
            ],
            [
             0.9,
             "#4d9221"
            ],
            [
             1,
             "#276419"
            ]
           ],
           "sequential": [
            [
             0,
             "#0d0887"
            ],
            [
             0.1111111111111111,
             "#46039f"
            ],
            [
             0.2222222222222222,
             "#7201a8"
            ],
            [
             0.3333333333333333,
             "#9c179e"
            ],
            [
             0.4444444444444444,
             "#bd3786"
            ],
            [
             0.5555555555555556,
             "#d8576b"
            ],
            [
             0.6666666666666666,
             "#ed7953"
            ],
            [
             0.7777777777777778,
             "#fb9f3a"
            ],
            [
             0.8888888888888888,
             "#fdca26"
            ],
            [
             1,
             "#f0f921"
            ]
           ],
           "sequentialminus": [
            [
             0,
             "#0d0887"
            ],
            [
             0.1111111111111111,
             "#46039f"
            ],
            [
             0.2222222222222222,
             "#7201a8"
            ],
            [
             0.3333333333333333,
             "#9c179e"
            ],
            [
             0.4444444444444444,
             "#bd3786"
            ],
            [
             0.5555555555555556,
             "#d8576b"
            ],
            [
             0.6666666666666666,
             "#ed7953"
            ],
            [
             0.7777777777777778,
             "#fb9f3a"
            ],
            [
             0.8888888888888888,
             "#fdca26"
            ],
            [
             1,
             "#f0f921"
            ]
           ]
          },
          "colorway": [
           "#636efa",
           "#EF553B",
           "#00cc96",
           "#ab63fa",
           "#FFA15A",
           "#19d3f3",
           "#FF6692",
           "#B6E880",
           "#FF97FF",
           "#FECB52"
          ],
          "font": {
           "color": "#2a3f5f"
          },
          "geo": {
           "bgcolor": "white",
           "lakecolor": "white",
           "landcolor": "#E5ECF6",
           "showlakes": true,
           "showland": true,
           "subunitcolor": "white"
          },
          "hoverlabel": {
           "align": "left"
          },
          "hovermode": "closest",
          "mapbox": {
           "style": "light"
          },
          "paper_bgcolor": "white",
          "plot_bgcolor": "#E5ECF6",
          "polar": {
           "angularaxis": {
            "gridcolor": "white",
            "linecolor": "white",
            "ticks": ""
           },
           "bgcolor": "#E5ECF6",
           "radialaxis": {
            "gridcolor": "white",
            "linecolor": "white",
            "ticks": ""
           }
          },
          "scene": {
           "xaxis": {
            "backgroundcolor": "#E5ECF6",
            "gridcolor": "white",
            "gridwidth": 2,
            "linecolor": "white",
            "showbackground": true,
            "ticks": "",
            "zerolinecolor": "white"
           },
           "yaxis": {
            "backgroundcolor": "#E5ECF6",
            "gridcolor": "white",
            "gridwidth": 2,
            "linecolor": "white",
            "showbackground": true,
            "ticks": "",
            "zerolinecolor": "white"
           },
           "zaxis": {
            "backgroundcolor": "#E5ECF6",
            "gridcolor": "white",
            "gridwidth": 2,
            "linecolor": "white",
            "showbackground": true,
            "ticks": "",
            "zerolinecolor": "white"
           }
          },
          "shapedefaults": {
           "line": {
            "color": "#2a3f5f"
           }
          },
          "ternary": {
           "aaxis": {
            "gridcolor": "white",
            "linecolor": "white",
            "ticks": ""
           },
           "baxis": {
            "gridcolor": "white",
            "linecolor": "white",
            "ticks": ""
           },
           "bgcolor": "#E5ECF6",
           "caxis": {
            "gridcolor": "white",
            "linecolor": "white",
            "ticks": ""
           }
          },
          "title": {
           "x": 0.05
          },
          "xaxis": {
           "automargin": true,
           "gridcolor": "white",
           "linecolor": "white",
           "ticks": "",
           "title": {
            "standoff": 15
           },
           "zerolinecolor": "white",
           "zerolinewidth": 2
          },
          "yaxis": {
           "automargin": true,
           "gridcolor": "white",
           "linecolor": "white",
           "ticks": "",
           "title": {
            "standoff": 15
           },
           "zerolinecolor": "white",
           "zerolinewidth": 2
          }
         }
        },
        "title": {
         "font": {
          "color": "black",
          "family": "Times New Roman",
          "size": 18
         },
         "text": "Comparative Impact of Face Features on Person Re-Identification Performance"
        },
        "width": 900,
        "xaxis": {
         "tickfont": {
          "color": "black",
          "family": "Times New Roman",
          "size": 14
         },
         "title": {
          "font": {
           "color": "black",
           "family": "Times New Roman",
           "size": 16
          }
         }
        },
        "yaxis": {
         "gridcolor": "lightgray",
         "gridwidth": 0.5,
         "range": [
          0,
          1
         ],
         "showgrid": true,
         "tickfont": {
          "color": "black",
          "family": "Times New Roman",
          "size": 14
         },
         "title": {
          "font": {
           "color": "black",
           "family": "Times New Roman",
           "size": 16
          }
         },
         "zerolinecolor": "lightgray"
        }
       }
      },
      "text/html": [
       "<div>                            <div id=\"86443cc3-a49a-4d6d-ad1e-4e9e721f15fc\" class=\"plotly-graph-div\" style=\"height:525px; width:900px;\"></div>            <script type=\"text/javascript\">                require([\"plotly\"], function(Plotly) {                    window.PLOTLYENV=window.PLOTLYENV || {};                                    if (document.getElementById(\"86443cc3-a49a-4d6d-ad1e-4e9e721f15fc\")) {                    Plotly.newPlot(                        \"86443cc3-a49a-4d6d-ad1e-4e9e721f15fc\",                        [{\"marker\":{\"color\":\"#02c21f\"},\"name\":\"Normal Training\",\"text\":[\"0.5727 \\u00b1 0.0366\",\"0.0000 \\u00b1 0.0000\",\"0.8200 \\u00b1 0.0632\"],\"textfont\":{\"color\":\"black\",\"family\":\"Times New Roman\",\"size\":12},\"textposition\":\"outside\",\"width\":0.15,\"x\":[\"NR=0.0\",\"NR=0.2\",\"NR=0.4\"],\"y\":[0.5727,0.0,0.82],\"type\":\"bar\"},{\"marker\":{\"color\":\"#e86202\"},\"name\":\"CASSOR\",\"text\":[\"0.6158 \\u00b1 0.0611\",\"0.5902 \\u00b1 0.0442\",\"0.5908 \\u00b1 0.0605\"],\"textfont\":{\"color\":\"black\",\"family\":\"Times New Roman\",\"size\":12},\"textposition\":\"outside\",\"width\":0.15,\"x\":[\"NR=0.0\",\"NR=0.2\",\"NR=0.4\"],\"y\":[0.6158,0.5902,0.5908],\"type\":\"bar\"},{\"marker\":{\"color\":\"#e30215\"},\"name\":\"ORDAC\",\"text\":[\"0.5038 \\u00b1 0.0458\",\"0.5329 \\u00b1 0.0348\",\"0.6321 \\u00b1 0.0288\"],\"textfont\":{\"color\":\"black\",\"family\":\"Times New Roman\",\"size\":12},\"textposition\":\"outside\",\"width\":0.15,\"x\":[\"NR=0.0\",\"NR=0.2\",\"NR=0.4\"],\"y\":[0.5038,0.5329,0.6321],\"type\":\"bar\"},{\"marker\":{\"color\":\"#2878f7\"},\"name\":\"ORDAC+CASSOR\",\"text\":[\"0.5671 \\u00b1 0.0449\",\"0.5655 \\u00b1 0.0497\",\"0.5918 \\u00b1 0.0523\"],\"textfont\":{\"color\":\"black\",\"family\":\"Times New Roman\",\"size\":12},\"textposition\":\"outside\",\"width\":0.15,\"x\":[\"NR=0.0\",\"NR=0.2\",\"NR=0.4\"],\"y\":[0.5671,0.5655,0.5918],\"type\":\"bar\"},{\"marker\":{\"color\":\"#c202b8\"},\"name\":\"ORDAC_R\",\"text\":[\"0.5671 \\u00b1 0.0449\",\"0.5655 \\u00b1 0.0497\",\"0.5918 \\u00b1 0.0523\"],\"textfont\":{\"color\":\"black\",\"family\":\"Times New Roman\",\"size\":12},\"textposition\":\"outside\",\"width\":0.15,\"x\":[\"NR=0.0\",\"NR=0.2\",\"NR=0.4\"],\"y\":[0.5671,0.5655,0.5918],\"type\":\"bar\"}],                        {\"template\":{\"data\":{\"histogram2dcontour\":[{\"type\":\"histogram2dcontour\",\"colorbar\":{\"outlinewidth\":0,\"ticks\":\"\"},\"colorscale\":[[0.0,\"#0d0887\"],[0.1111111111111111,\"#46039f\"],[0.2222222222222222,\"#7201a8\"],[0.3333333333333333,\"#9c179e\"],[0.4444444444444444,\"#bd3786\"],[0.5555555555555556,\"#d8576b\"],[0.6666666666666666,\"#ed7953\"],[0.7777777777777778,\"#fb9f3a\"],[0.8888888888888888,\"#fdca26\"],[1.0,\"#f0f921\"]]}],\"choropleth\":[{\"type\":\"choropleth\",\"colorbar\":{\"outlinewidth\":0,\"ticks\":\"\"}}],\"histogram2d\":[{\"type\":\"histogram2d\",\"colorbar\":{\"outlinewidth\":0,\"ticks\":\"\"},\"colorscale\":[[0.0,\"#0d0887\"],[0.1111111111111111,\"#46039f\"],[0.2222222222222222,\"#7201a8\"],[0.3333333333333333,\"#9c179e\"],[0.4444444444444444,\"#bd3786\"],[0.5555555555555556,\"#d8576b\"],[0.6666666666666666,\"#ed7953\"],[0.7777777777777778,\"#fb9f3a\"],[0.8888888888888888,\"#fdca26\"],[1.0,\"#f0f921\"]]}],\"heatmap\":[{\"type\":\"heatmap\",\"colorbar\":{\"outlinewidth\":0,\"ticks\":\"\"},\"colorscale\":[[0.0,\"#0d0887\"],[0.1111111111111111,\"#46039f\"],[0.2222222222222222,\"#7201a8\"],[0.3333333333333333,\"#9c179e\"],[0.4444444444444444,\"#bd3786\"],[0.5555555555555556,\"#d8576b\"],[0.6666666666666666,\"#ed7953\"],[0.7777777777777778,\"#fb9f3a\"],[0.8888888888888888,\"#fdca26\"],[1.0,\"#f0f921\"]]}],\"heatmapgl\":[{\"type\":\"heatmapgl\",\"colorbar\":{\"outlinewidth\":0,\"ticks\":\"\"},\"colorscale\":[[0.0,\"#0d0887\"],[0.1111111111111111,\"#46039f\"],[0.2222222222222222,\"#7201a8\"],[0.3333333333333333,\"#9c179e\"],[0.4444444444444444,\"#bd3786\"],[0.5555555555555556,\"#d8576b\"],[0.6666666666666666,\"#ed7953\"],[0.7777777777777778,\"#fb9f3a\"],[0.8888888888888888,\"#fdca26\"],[1.0,\"#f0f921\"]]}],\"contourcarpet\":[{\"type\":\"contourcarpet\",\"colorbar\":{\"outlinewidth\":0,\"ticks\":\"\"}}],\"contour\":[{\"type\":\"contour\",\"colorbar\":{\"outlinewidth\":0,\"ticks\":\"\"},\"colorscale\":[[0.0,\"#0d0887\"],[0.1111111111111111,\"#46039f\"],[0.2222222222222222,\"#7201a8\"],[0.3333333333333333,\"#9c179e\"],[0.4444444444444444,\"#bd3786\"],[0.5555555555555556,\"#d8576b\"],[0.6666666666666666,\"#ed7953\"],[0.7777777777777778,\"#fb9f3a\"],[0.8888888888888888,\"#fdca26\"],[1.0,\"#f0f921\"]]}],\"surface\":[{\"type\":\"surface\",\"colorbar\":{\"outlinewidth\":0,\"ticks\":\"\"},\"colorscale\":[[0.0,\"#0d0887\"],[0.1111111111111111,\"#46039f\"],[0.2222222222222222,\"#7201a8\"],[0.3333333333333333,\"#9c179e\"],[0.4444444444444444,\"#bd3786\"],[0.5555555555555556,\"#d8576b\"],[0.6666666666666666,\"#ed7953\"],[0.7777777777777778,\"#fb9f3a\"],[0.8888888888888888,\"#fdca26\"],[1.0,\"#f0f921\"]]}],\"mesh3d\":[{\"type\":\"mesh3d\",\"colorbar\":{\"outlinewidth\":0,\"ticks\":\"\"}}],\"scatter\":[{\"fillpattern\":{\"fillmode\":\"overlay\",\"size\":10,\"solidity\":0.2},\"type\":\"scatter\"}],\"parcoords\":[{\"type\":\"parcoords\",\"line\":{\"colorbar\":{\"outlinewidth\":0,\"ticks\":\"\"}}}],\"scatterpolargl\":[{\"type\":\"scatterpolargl\",\"marker\":{\"colorbar\":{\"outlinewidth\":0,\"ticks\":\"\"}}}],\"bar\":[{\"error_x\":{\"color\":\"#2a3f5f\"},\"error_y\":{\"color\":\"#2a3f5f\"},\"marker\":{\"line\":{\"color\":\"#E5ECF6\",\"width\":0.5},\"pattern\":{\"fillmode\":\"overlay\",\"size\":10,\"solidity\":0.2}},\"type\":\"bar\"}],\"scattergeo\":[{\"type\":\"scattergeo\",\"marker\":{\"colorbar\":{\"outlinewidth\":0,\"ticks\":\"\"}}}],\"scatterpolar\":[{\"type\":\"scatterpolar\",\"marker\":{\"colorbar\":{\"outlinewidth\":0,\"ticks\":\"\"}}}],\"histogram\":[{\"marker\":{\"pattern\":{\"fillmode\":\"overlay\",\"size\":10,\"solidity\":0.2}},\"type\":\"histogram\"}],\"scattergl\":[{\"type\":\"scattergl\",\"marker\":{\"colorbar\":{\"outlinewidth\":0,\"ticks\":\"\"}}}],\"scatter3d\":[{\"type\":\"scatter3d\",\"line\":{\"colorbar\":{\"outlinewidth\":0,\"ticks\":\"\"}},\"marker\":{\"colorbar\":{\"outlinewidth\":0,\"ticks\":\"\"}}}],\"scattermapbox\":[{\"type\":\"scattermapbox\",\"marker\":{\"colorbar\":{\"outlinewidth\":0,\"ticks\":\"\"}}}],\"scatterternary\":[{\"type\":\"scatterternary\",\"marker\":{\"colorbar\":{\"outlinewidth\":0,\"ticks\":\"\"}}}],\"scattercarpet\":[{\"type\":\"scattercarpet\",\"marker\":{\"colorbar\":{\"outlinewidth\":0,\"ticks\":\"\"}}}],\"carpet\":[{\"aaxis\":{\"endlinecolor\":\"#2a3f5f\",\"gridcolor\":\"white\",\"linecolor\":\"white\",\"minorgridcolor\":\"white\",\"startlinecolor\":\"#2a3f5f\"},\"baxis\":{\"endlinecolor\":\"#2a3f5f\",\"gridcolor\":\"white\",\"linecolor\":\"white\",\"minorgridcolor\":\"white\",\"startlinecolor\":\"#2a3f5f\"},\"type\":\"carpet\"}],\"table\":[{\"cells\":{\"fill\":{\"color\":\"#EBF0F8\"},\"line\":{\"color\":\"white\"}},\"header\":{\"fill\":{\"color\":\"#C8D4E3\"},\"line\":{\"color\":\"white\"}},\"type\":\"table\"}],\"barpolar\":[{\"marker\":{\"line\":{\"color\":\"#E5ECF6\",\"width\":0.5},\"pattern\":{\"fillmode\":\"overlay\",\"size\":10,\"solidity\":0.2}},\"type\":\"barpolar\"}],\"pie\":[{\"automargin\":true,\"type\":\"pie\"}]},\"layout\":{\"autotypenumbers\":\"strict\",\"colorway\":[\"#636efa\",\"#EF553B\",\"#00cc96\",\"#ab63fa\",\"#FFA15A\",\"#19d3f3\",\"#FF6692\",\"#B6E880\",\"#FF97FF\",\"#FECB52\"],\"font\":{\"color\":\"#2a3f5f\"},\"hovermode\":\"closest\",\"hoverlabel\":{\"align\":\"left\"},\"paper_bgcolor\":\"white\",\"plot_bgcolor\":\"#E5ECF6\",\"polar\":{\"bgcolor\":\"#E5ECF6\",\"angularaxis\":{\"gridcolor\":\"white\",\"linecolor\":\"white\",\"ticks\":\"\"},\"radialaxis\":{\"gridcolor\":\"white\",\"linecolor\":\"white\",\"ticks\":\"\"}},\"ternary\":{\"bgcolor\":\"#E5ECF6\",\"aaxis\":{\"gridcolor\":\"white\",\"linecolor\":\"white\",\"ticks\":\"\"},\"baxis\":{\"gridcolor\":\"white\",\"linecolor\":\"white\",\"ticks\":\"\"},\"caxis\":{\"gridcolor\":\"white\",\"linecolor\":\"white\",\"ticks\":\"\"}},\"coloraxis\":{\"colorbar\":{\"outlinewidth\":0,\"ticks\":\"\"}},\"colorscale\":{\"sequential\":[[0.0,\"#0d0887\"],[0.1111111111111111,\"#46039f\"],[0.2222222222222222,\"#7201a8\"],[0.3333333333333333,\"#9c179e\"],[0.4444444444444444,\"#bd3786\"],[0.5555555555555556,\"#d8576b\"],[0.6666666666666666,\"#ed7953\"],[0.7777777777777778,\"#fb9f3a\"],[0.8888888888888888,\"#fdca26\"],[1.0,\"#f0f921\"]],\"sequentialminus\":[[0.0,\"#0d0887\"],[0.1111111111111111,\"#46039f\"],[0.2222222222222222,\"#7201a8\"],[0.3333333333333333,\"#9c179e\"],[0.4444444444444444,\"#bd3786\"],[0.5555555555555556,\"#d8576b\"],[0.6666666666666666,\"#ed7953\"],[0.7777777777777778,\"#fb9f3a\"],[0.8888888888888888,\"#fdca26\"],[1.0,\"#f0f921\"]],\"diverging\":[[0,\"#8e0152\"],[0.1,\"#c51b7d\"],[0.2,\"#de77ae\"],[0.3,\"#f1b6da\"],[0.4,\"#fde0ef\"],[0.5,\"#f7f7f7\"],[0.6,\"#e6f5d0\"],[0.7,\"#b8e186\"],[0.8,\"#7fbc41\"],[0.9,\"#4d9221\"],[1,\"#276419\"]]},\"xaxis\":{\"gridcolor\":\"white\",\"linecolor\":\"white\",\"ticks\":\"\",\"title\":{\"standoff\":15},\"zerolinecolor\":\"white\",\"automargin\":true,\"zerolinewidth\":2},\"yaxis\":{\"gridcolor\":\"white\",\"linecolor\":\"white\",\"ticks\":\"\",\"title\":{\"standoff\":15},\"zerolinecolor\":\"white\",\"automargin\":true,\"zerolinewidth\":2},\"scene\":{\"xaxis\":{\"backgroundcolor\":\"#E5ECF6\",\"gridcolor\":\"white\",\"linecolor\":\"white\",\"showbackground\":true,\"ticks\":\"\",\"zerolinecolor\":\"white\",\"gridwidth\":2},\"yaxis\":{\"backgroundcolor\":\"#E5ECF6\",\"gridcolor\":\"white\",\"linecolor\":\"white\",\"showbackground\":true,\"ticks\":\"\",\"zerolinecolor\":\"white\",\"gridwidth\":2},\"zaxis\":{\"backgroundcolor\":\"#E5ECF6\",\"gridcolor\":\"white\",\"linecolor\":\"white\",\"showbackground\":true,\"ticks\":\"\",\"zerolinecolor\":\"white\",\"gridwidth\":2}},\"shapedefaults\":{\"line\":{\"color\":\"#2a3f5f\"}},\"annotationdefaults\":{\"arrowcolor\":\"#2a3f5f\",\"arrowhead\":0,\"arrowwidth\":1},\"geo\":{\"bgcolor\":\"white\",\"landcolor\":\"#E5ECF6\",\"subunitcolor\":\"white\",\"showland\":true,\"showlakes\":true,\"lakecolor\":\"white\"},\"title\":{\"x\":0.05},\"mapbox\":{\"style\":\"light\"}}},\"yaxis\":{\"showgrid\":true,\"gridcolor\":\"lightgray\",\"gridwidth\":0.5,\"zerolinecolor\":\"lightgray\",\"range\":[0,1],\"title\":{\"font\":{\"size\":16,\"family\":\"Times New Roman\",\"color\":\"black\"}},\"tickfont\":{\"size\":14,\"family\":\"Times New Roman\",\"color\":\"black\"}},\"title\":{\"text\":\"Comparative Impact of Face Features on Person Re-Identification Performance\",\"font\":{\"size\":18,\"family\":\"Times New Roman\",\"color\":\"black\"}},\"xaxis\":{\"title\":{\"font\":{\"size\":16,\"family\":\"Times New Roman\",\"color\":\"black\"}},\"tickfont\":{\"size\":14,\"family\":\"Times New Roman\",\"color\":\"black\"}},\"legend\":{\"font\":{\"family\":\"Times New Roman\",\"size\":12,\"color\":\"black\"},\"orientation\":\"h\",\"yanchor\":\"bottom\",\"y\":1.02,\"xanchor\":\"center\",\"x\":0.5},\"barmode\":\"group\",\"bargap\":0.15,\"bargroupgap\":0.05,\"width\":900,\"plot_bgcolor\":\"white\"},                        {\"responsive\": true}                    ).then(function(){\n",
       "                            \n",
       "var gd = document.getElementById('86443cc3-a49a-4d6d-ad1e-4e9e721f15fc');\n",
       "var x = new MutationObserver(function (mutations, observer) {{\n",
       "        var display = window.getComputedStyle(gd).display;\n",
       "        if (!display || display === 'none') {{\n",
       "            console.log([gd, 'removed!']);\n",
       "            Plotly.purge(gd);\n",
       "            observer.disconnect();\n",
       "        }}\n",
       "}});\n",
       "\n",
       "// Listen for the removal of the full notebook cells\n",
       "var notebookContainer = gd.closest('#notebook-container');\n",
       "if (notebookContainer) {{\n",
       "    x.observe(notebookContainer, {childList: true});\n",
       "}}\n",
       "\n",
       "// Listen for the clearing of the current output cell\n",
       "var outputEl = gd.closest('.output');\n",
       "if (outputEl) {{\n",
       "    x.observe(outputEl, {childList: true});\n",
       "}}\n",
       "\n",
       "                        })                };                });            </script>        </div>"
      ]
     },
     "metadata": {},
     "output_type": "display_data"
    }
   ],
   "source": [
    "import plotly.graph_objects as go\n",
    "\n",
    "# Data\n",
    "metrics = ['NR=0.0', 'NR=0.2', 'NR=0.4']\n",
    "normal_training = [0.5727, 0.0, 0.8200]\n",
    "normal_training_std = [0.0366, 0.0, 0.0632]\n",
    "\n",
    "cassor = [0.6158, 0.5902, 0.5908]\n",
    "cassor_std = [0.0611, 0.0442, 0.0605]\n",
    "\n",
    "ordac = [0.5038, 0.5329, 0.6321]\n",
    "ordac_std = [0.0458, 0.0348, 0.0288]\n",
    "\n",
    "ordac_cassor = [0.5671, 0.5655, 0.5918]\n",
    "ordac_cassor_std = [0.0449, 0.0497, 0.0523]\n",
    "\n",
    "ordac_r = [0.5671, 0.5655, 0.5918]\n",
    "ordac_r_std = [0.0449, 0.0497, 0.0523]\n",
    "\n",
    "fig = go.Figure()\n",
    "\n",
    "# Add bars (width=0.3 for thinner bars to accommodate 3 bars per group)\n",
    "bar_width = 0.15\n",
    "\n",
    "fig.add_trace(go.Bar(\n",
    "    x=metrics, y=normal_training, name='Normal Training',\n",
    "    marker_color='#02c21f', width=bar_width,\n",
    "    text=[f'{val:.4f} ± {std:.4f}' for val, std in zip(normal_training, normal_training_std)],\n",
    "    textposition='outside',\n",
    "    textfont=dict(size=12, family='Times New Roman', color='black')\n",
    "))\n",
    "\n",
    "fig.add_trace(go.Bar(\n",
    "    x=metrics, y=cassor, name='CASSOR',\n",
    "    marker_color='#e86202', width=bar_width,\n",
    "    text=[f'{val:.4f} ± {std:.4f}' for val, std in zip(cassor, cassor_std)],\n",
    "    textposition='outside',\n",
    "    textfont=dict(size=12, family='Times New Roman', color='black')\n",
    "))\n",
    "\n",
    "fig.add_trace(go.Bar(\n",
    "    x=metrics, y=ordac, name='ORDAC',\n",
    "    marker_color='#e30215', width=bar_width,\n",
    "    text=[f'{val:.4f} ± {std:.4f}' for val, std in zip(ordac, ordac_std)],\n",
    "    textposition='outside',\n",
    "    textfont=dict(size=12, family='Times New Roman', color='black')\n",
    "))\n",
    "\n",
    "fig.add_trace(go.Bar(\n",
    "    x=metrics, y=ordac_cassor, name='ORDAC+CASSOR',\n",
    "    marker_color='#2878f7', width=bar_width,\n",
    "    text=[f'{val:.4f} ± {std:.4f}' for val, std in zip(ordac_cassor, ordac_cassor_std)],\n",
    "    textposition='outside',\n",
    "    textfont=dict(size=12, family='Times New Roman', color='black')\n",
    "))\n",
    "\n",
    "fig.add_trace(go.Bar(\n",
    "    x=metrics, y=ordac_r, name='ORDAC_R',\n",
    "    marker_color='#c202b8', width=bar_width,\n",
    "    text=[f'{val:.4f} ± {std:.4f}' for val, std in zip(ordac_r, ordac_r_std)],\n",
    "    textposition='outside',\n",
    "    textfont=dict(size=12, family='Times New Roman', color='black')\n",
    "))\n",
    "\n",
    "# Grid and axis settings\n",
    "fig.update_yaxes(\n",
    "    showgrid=True,\n",
    "    gridcolor='lightgray',\n",
    "    gridwidth=0.5,\n",
    "    zerolinecolor='lightgray',\n",
    "    range=[0, 1]  # Keep consistent with your original scale\n",
    ")\n",
    "\n",
    "# Layout adjustments for 3 bars per group\n",
    "fig.update_layout(\n",
    "    title='Comparative Impact of Face Features on Person Re-Identification Performance',\n",
    "    barmode='group',\n",
    "    bargap=0.15,  # Slightly reduced gap between metric groups\n",
    "    bargroupgap=0.05,  # Small gap between bars within a group\n",
    "    width=900,  # Slightly wider to accommodate 3 bars\n",
    "    plot_bgcolor='white',\n",
    "    title_font=dict(size=18, family='Times New Roman', color='black'),\n",
    "    xaxis_title_font=dict(size=16, family='Times New Roman', color='black'),\n",
    "    yaxis_title_font=dict(size=16, family='Times New Roman', color='black'),\n",
    "    xaxis_tickfont=dict(size=14, family='Times New Roman', color='black'),\n",
    "    yaxis_tickfont=dict(size=14, family='Times New Roman', color='black'),\n",
    "    legend=dict(\n",
    "        orientation=\"h\",\n",
    "        yanchor=\"bottom\",\n",
    "        y=1.02,\n",
    "        xanchor=\"center\",\n",
    "        x=0.5,\n",
    "        font=dict(\n",
    "            family='Times New Roman',\n",
    "            size=12,\n",
    "            color='black'\n",
    "        )\n",
    "    )\n",
    ")\n",
    "\n",
    "# Show and save\n",
    "fig.show()\n",
    "# fig.write_image(\"face_recognition.pdf\", format=\"pdf\", engine=\"kaleido\")"
   ]
  },
  {
   "cell_type": "code",
   "execution_count": 31,
   "id": "49dfdb71",
   "metadata": {},
   "outputs": [
    {
     "data": {
      "application/vnd.plotly.v1+json": {
       "config": {
        "plotlyServerURL": "https://plot.ly"
       },
       "data": [
        {
         "marker": {
          "color": "#02c21f"
         },
         "name": "Normal Training",
         "type": "bar",
         "width": 0.15,
         "x": [
          -0.32,
          0.6799999999999999,
          1.68
         ],
         "y": [
          0.5727,
          0.7287,
          0.82
         ]
        },
        {
         "marker": {
          "color": "#e86202"
         },
         "name": "CASSOR",
         "type": "bar",
         "width": 0.15,
         "x": [
          -0.16,
          0.84,
          1.84
         ],
         "y": [
          0.6158,
          0.5902,
          0.5908
         ]
        },
        {
         "marker": {
          "color": "#e30215"
         },
         "name": "ORDAC",
         "type": "bar",
         "width": 0.15,
         "x": [
          0,
          1,
          2
         ],
         "y": [
          0.5038,
          0.5329,
          0.6321
         ]
        },
        {
         "marker": {
          "color": "#2878f7"
         },
         "name": "ORDAC+CASSOR",
         "type": "bar",
         "width": 0.15,
         "x": [
          0.16,
          1.16,
          2.16
         ],
         "y": [
          0.5671,
          0.5655,
          0.5918
         ]
        },
        {
         "marker": {
          "color": "#c202b8"
         },
         "name": "ORDAC_R",
         "type": "bar",
         "width": 0.15,
         "x": [
          0.32,
          1.32,
          2.32
         ],
         "y": [
          0.5671,
          0.5655,
          0.5918
         ]
        }
       ],
       "layout": {
        "annotations": [
         {
          "font": {
           "color": "black",
           "family": "Times New Roman",
           "size": 12
          },
          "showarrow": false,
          "text": "0.5727 ± 0.0366",
          "textangle": -45,
          "x": -0.22,
          "xanchor": "center",
          "y": 0.5627,
          "yanchor": "bottom"
         },
         {
          "font": {
           "color": "black",
           "family": "Times New Roman",
           "size": 12
          },
          "showarrow": false,
          "text": "0.7287 ± 0.0000",
          "textangle": -45,
          "x": 0.7799999999999999,
          "xanchor": "center",
          "y": 0.7187,
          "yanchor": "bottom"
         },
         {
          "font": {
           "color": "black",
           "family": "Times New Roman",
           "size": 12
          },
          "showarrow": false,
          "text": "0.8200 ± 0.0632",
          "textangle": -45,
          "x": 1.78,
          "xanchor": "center",
          "y": 0.8099999999999999,
          "yanchor": "bottom"
         },
         {
          "font": {
           "color": "black",
           "family": "Times New Roman",
           "size": 12
          },
          "showarrow": false,
          "text": "0.6158 ± 0.0611",
          "textangle": -45,
          "x": -0.06,
          "xanchor": "center",
          "y": 0.6058,
          "yanchor": "bottom"
         },
         {
          "font": {
           "color": "black",
           "family": "Times New Roman",
           "size": 12
          },
          "showarrow": false,
          "text": "0.5902 ± 0.0442",
          "textangle": -45,
          "x": 0.94,
          "xanchor": "center",
          "y": 0.5801999999999999,
          "yanchor": "bottom"
         },
         {
          "font": {
           "color": "black",
           "family": "Times New Roman",
           "size": 12
          },
          "showarrow": false,
          "text": "0.5908 ± 0.0605",
          "textangle": -45,
          "x": 1.9400000000000002,
          "xanchor": "center",
          "y": 0.5808,
          "yanchor": "bottom"
         },
         {
          "font": {
           "color": "black",
           "family": "Times New Roman",
           "size": 12
          },
          "showarrow": false,
          "text": "0.5038 ± 0.0458",
          "textangle": -45,
          "x": 0.1,
          "xanchor": "center",
          "y": 0.4938,
          "yanchor": "bottom"
         },
         {
          "font": {
           "color": "black",
           "family": "Times New Roman",
           "size": 12
          },
          "showarrow": false,
          "text": "0.5329 ± 0.0348",
          "textangle": -45,
          "x": 1.1,
          "xanchor": "center",
          "y": 0.5229,
          "yanchor": "bottom"
         },
         {
          "font": {
           "color": "black",
           "family": "Times New Roman",
           "size": 12
          },
          "showarrow": false,
          "text": "0.6321 ± 0.0288",
          "textangle": -45,
          "x": 2.1,
          "xanchor": "center",
          "y": 0.6221,
          "yanchor": "bottom"
         },
         {
          "font": {
           "color": "black",
           "family": "Times New Roman",
           "size": 12
          },
          "showarrow": false,
          "text": "0.5671 ± 0.0449",
          "textangle": -45,
          "x": 0.26,
          "xanchor": "center",
          "y": 0.5571,
          "yanchor": "bottom"
         },
         {
          "font": {
           "color": "black",
           "family": "Times New Roman",
           "size": 12
          },
          "showarrow": false,
          "text": "0.5655 ± 0.0497",
          "textangle": -45,
          "x": 1.26,
          "xanchor": "center",
          "y": 0.5555,
          "yanchor": "bottom"
         },
         {
          "font": {
           "color": "black",
           "family": "Times New Roman",
           "size": 12
          },
          "showarrow": false,
          "text": "0.5918 ± 0.0523",
          "textangle": -45,
          "x": 2.2600000000000002,
          "xanchor": "center",
          "y": 0.5818,
          "yanchor": "bottom"
         },
         {
          "font": {
           "color": "black",
           "family": "Times New Roman",
           "size": 12
          },
          "showarrow": false,
          "text": "0.5671 ± 0.0449",
          "textangle": -45,
          "x": 0.42000000000000004,
          "xanchor": "center",
          "y": 0.5571,
          "yanchor": "bottom"
         },
         {
          "font": {
           "color": "black",
           "family": "Times New Roman",
           "size": 12
          },
          "showarrow": false,
          "text": "0.5655 ± 0.0497",
          "textangle": -45,
          "x": 1.4200000000000002,
          "xanchor": "center",
          "y": 0.5555,
          "yanchor": "bottom"
         },
         {
          "font": {
           "color": "black",
           "family": "Times New Roman",
           "size": 12
          },
          "showarrow": false,
          "text": "0.5918 ± 0.0523",
          "textangle": -45,
          "x": 2.42,
          "xanchor": "center",
          "y": 0.5818,
          "yanchor": "bottom"
         }
        ],
        "bargap": 0.15,
        "bargroupgap": 0.05,
        "barmode": "group",
        "legend": {
         "font": {
          "color": "black",
          "family": "Times New Roman",
          "size": 12
         },
         "orientation": "h",
         "x": 0.5,
         "xanchor": "center",
         "y": 1.02,
         "yanchor": "bottom"
        },
        "plot_bgcolor": "white",
        "template": {
         "data": {
          "bar": [
           {
            "error_x": {
             "color": "#2a3f5f"
            },
            "error_y": {
             "color": "#2a3f5f"
            },
            "marker": {
             "line": {
              "color": "#E5ECF6",
              "width": 0.5
             },
             "pattern": {
              "fillmode": "overlay",
              "size": 10,
              "solidity": 0.2
             }
            },
            "type": "bar"
           }
          ],
          "barpolar": [
           {
            "marker": {
             "line": {
              "color": "#E5ECF6",
              "width": 0.5
             },
             "pattern": {
              "fillmode": "overlay",
              "size": 10,
              "solidity": 0.2
             }
            },
            "type": "barpolar"
           }
          ],
          "carpet": [
           {
            "aaxis": {
             "endlinecolor": "#2a3f5f",
             "gridcolor": "white",
             "linecolor": "white",
             "minorgridcolor": "white",
             "startlinecolor": "#2a3f5f"
            },
            "baxis": {
             "endlinecolor": "#2a3f5f",
             "gridcolor": "white",
             "linecolor": "white",
             "minorgridcolor": "white",
             "startlinecolor": "#2a3f5f"
            },
            "type": "carpet"
           }
          ],
          "choropleth": [
           {
            "colorbar": {
             "outlinewidth": 0,
             "ticks": ""
            },
            "type": "choropleth"
           }
          ],
          "contour": [
           {
            "colorbar": {
             "outlinewidth": 0,
             "ticks": ""
            },
            "colorscale": [
             [
              0,
              "#0d0887"
             ],
             [
              0.1111111111111111,
              "#46039f"
             ],
             [
              0.2222222222222222,
              "#7201a8"
             ],
             [
              0.3333333333333333,
              "#9c179e"
             ],
             [
              0.4444444444444444,
              "#bd3786"
             ],
             [
              0.5555555555555556,
              "#d8576b"
             ],
             [
              0.6666666666666666,
              "#ed7953"
             ],
             [
              0.7777777777777778,
              "#fb9f3a"
             ],
             [
              0.8888888888888888,
              "#fdca26"
             ],
             [
              1,
              "#f0f921"
             ]
            ],
            "type": "contour"
           }
          ],
          "contourcarpet": [
           {
            "colorbar": {
             "outlinewidth": 0,
             "ticks": ""
            },
            "type": "contourcarpet"
           }
          ],
          "heatmap": [
           {
            "colorbar": {
             "outlinewidth": 0,
             "ticks": ""
            },
            "colorscale": [
             [
              0,
              "#0d0887"
             ],
             [
              0.1111111111111111,
              "#46039f"
             ],
             [
              0.2222222222222222,
              "#7201a8"
             ],
             [
              0.3333333333333333,
              "#9c179e"
             ],
             [
              0.4444444444444444,
              "#bd3786"
             ],
             [
              0.5555555555555556,
              "#d8576b"
             ],
             [
              0.6666666666666666,
              "#ed7953"
             ],
             [
              0.7777777777777778,
              "#fb9f3a"
             ],
             [
              0.8888888888888888,
              "#fdca26"
             ],
             [
              1,
              "#f0f921"
             ]
            ],
            "type": "heatmap"
           }
          ],
          "heatmapgl": [
           {
            "colorbar": {
             "outlinewidth": 0,
             "ticks": ""
            },
            "colorscale": [
             [
              0,
              "#0d0887"
             ],
             [
              0.1111111111111111,
              "#46039f"
             ],
             [
              0.2222222222222222,
              "#7201a8"
             ],
             [
              0.3333333333333333,
              "#9c179e"
             ],
             [
              0.4444444444444444,
              "#bd3786"
             ],
             [
              0.5555555555555556,
              "#d8576b"
             ],
             [
              0.6666666666666666,
              "#ed7953"
             ],
             [
              0.7777777777777778,
              "#fb9f3a"
             ],
             [
              0.8888888888888888,
              "#fdca26"
             ],
             [
              1,
              "#f0f921"
             ]
            ],
            "type": "heatmapgl"
           }
          ],
          "histogram": [
           {
            "marker": {
             "pattern": {
              "fillmode": "overlay",
              "size": 10,
              "solidity": 0.2
             }
            },
            "type": "histogram"
           }
          ],
          "histogram2d": [
           {
            "colorbar": {
             "outlinewidth": 0,
             "ticks": ""
            },
            "colorscale": [
             [
              0,
              "#0d0887"
             ],
             [
              0.1111111111111111,
              "#46039f"
             ],
             [
              0.2222222222222222,
              "#7201a8"
             ],
             [
              0.3333333333333333,
              "#9c179e"
             ],
             [
              0.4444444444444444,
              "#bd3786"
             ],
             [
              0.5555555555555556,
              "#d8576b"
             ],
             [
              0.6666666666666666,
              "#ed7953"
             ],
             [
              0.7777777777777778,
              "#fb9f3a"
             ],
             [
              0.8888888888888888,
              "#fdca26"
             ],
             [
              1,
              "#f0f921"
             ]
            ],
            "type": "histogram2d"
           }
          ],
          "histogram2dcontour": [
           {
            "colorbar": {
             "outlinewidth": 0,
             "ticks": ""
            },
            "colorscale": [
             [
              0,
              "#0d0887"
             ],
             [
              0.1111111111111111,
              "#46039f"
             ],
             [
              0.2222222222222222,
              "#7201a8"
             ],
             [
              0.3333333333333333,
              "#9c179e"
             ],
             [
              0.4444444444444444,
              "#bd3786"
             ],
             [
              0.5555555555555556,
              "#d8576b"
             ],
             [
              0.6666666666666666,
              "#ed7953"
             ],
             [
              0.7777777777777778,
              "#fb9f3a"
             ],
             [
              0.8888888888888888,
              "#fdca26"
             ],
             [
              1,
              "#f0f921"
             ]
            ],
            "type": "histogram2dcontour"
           }
          ],
          "mesh3d": [
           {
            "colorbar": {
             "outlinewidth": 0,
             "ticks": ""
            },
            "type": "mesh3d"
           }
          ],
          "parcoords": [
           {
            "line": {
             "colorbar": {
              "outlinewidth": 0,
              "ticks": ""
             }
            },
            "type": "parcoords"
           }
          ],
          "pie": [
           {
            "automargin": true,
            "type": "pie"
           }
          ],
          "scatter": [
           {
            "fillpattern": {
             "fillmode": "overlay",
             "size": 10,
             "solidity": 0.2
            },
            "type": "scatter"
           }
          ],
          "scatter3d": [
           {
            "line": {
             "colorbar": {
              "outlinewidth": 0,
              "ticks": ""
             }
            },
            "marker": {
             "colorbar": {
              "outlinewidth": 0,
              "ticks": ""
             }
            },
            "type": "scatter3d"
           }
          ],
          "scattercarpet": [
           {
            "marker": {
             "colorbar": {
              "outlinewidth": 0,
              "ticks": ""
             }
            },
            "type": "scattercarpet"
           }
          ],
          "scattergeo": [
           {
            "marker": {
             "colorbar": {
              "outlinewidth": 0,
              "ticks": ""
             }
            },
            "type": "scattergeo"
           }
          ],
          "scattergl": [
           {
            "marker": {
             "colorbar": {
              "outlinewidth": 0,
              "ticks": ""
             }
            },
            "type": "scattergl"
           }
          ],
          "scattermapbox": [
           {
            "marker": {
             "colorbar": {
              "outlinewidth": 0,
              "ticks": ""
             }
            },
            "type": "scattermapbox"
           }
          ],
          "scatterpolar": [
           {
            "marker": {
             "colorbar": {
              "outlinewidth": 0,
              "ticks": ""
             }
            },
            "type": "scatterpolar"
           }
          ],
          "scatterpolargl": [
           {
            "marker": {
             "colorbar": {
              "outlinewidth": 0,
              "ticks": ""
             }
            },
            "type": "scatterpolargl"
           }
          ],
          "scatterternary": [
           {
            "marker": {
             "colorbar": {
              "outlinewidth": 0,
              "ticks": ""
             }
            },
            "type": "scatterternary"
           }
          ],
          "surface": [
           {
            "colorbar": {
             "outlinewidth": 0,
             "ticks": ""
            },
            "colorscale": [
             [
              0,
              "#0d0887"
             ],
             [
              0.1111111111111111,
              "#46039f"
             ],
             [
              0.2222222222222222,
              "#7201a8"
             ],
             [
              0.3333333333333333,
              "#9c179e"
             ],
             [
              0.4444444444444444,
              "#bd3786"
             ],
             [
              0.5555555555555556,
              "#d8576b"
             ],
             [
              0.6666666666666666,
              "#ed7953"
             ],
             [
              0.7777777777777778,
              "#fb9f3a"
             ],
             [
              0.8888888888888888,
              "#fdca26"
             ],
             [
              1,
              "#f0f921"
             ]
            ],
            "type": "surface"
           }
          ],
          "table": [
           {
            "cells": {
             "fill": {
              "color": "#EBF0F8"
             },
             "line": {
              "color": "white"
             }
            },
            "header": {
             "fill": {
              "color": "#C8D4E3"
             },
             "line": {
              "color": "white"
             }
            },
            "type": "table"
           }
          ]
         },
         "layout": {
          "annotationdefaults": {
           "arrowcolor": "#2a3f5f",
           "arrowhead": 0,
           "arrowwidth": 1
          },
          "autotypenumbers": "strict",
          "coloraxis": {
           "colorbar": {
            "outlinewidth": 0,
            "ticks": ""
           }
          },
          "colorscale": {
           "diverging": [
            [
             0,
             "#8e0152"
            ],
            [
             0.1,
             "#c51b7d"
            ],
            [
             0.2,
             "#de77ae"
            ],
            [
             0.3,
             "#f1b6da"
            ],
            [
             0.4,
             "#fde0ef"
            ],
            [
             0.5,
             "#f7f7f7"
            ],
            [
             0.6,
             "#e6f5d0"
            ],
            [
             0.7,
             "#b8e186"
            ],
            [
             0.8,
             "#7fbc41"
            ],
            [
             0.9,
             "#4d9221"
            ],
            [
             1,
             "#276419"
            ]
           ],
           "sequential": [
            [
             0,
             "#0d0887"
            ],
            [
             0.1111111111111111,
             "#46039f"
            ],
            [
             0.2222222222222222,
             "#7201a8"
            ],
            [
             0.3333333333333333,
             "#9c179e"
            ],
            [
             0.4444444444444444,
             "#bd3786"
            ],
            [
             0.5555555555555556,
             "#d8576b"
            ],
            [
             0.6666666666666666,
             "#ed7953"
            ],
            [
             0.7777777777777778,
             "#fb9f3a"
            ],
            [
             0.8888888888888888,
             "#fdca26"
            ],
            [
             1,
             "#f0f921"
            ]
           ],
           "sequentialminus": [
            [
             0,
             "#0d0887"
            ],
            [
             0.1111111111111111,
             "#46039f"
            ],
            [
             0.2222222222222222,
             "#7201a8"
            ],
            [
             0.3333333333333333,
             "#9c179e"
            ],
            [
             0.4444444444444444,
             "#bd3786"
            ],
            [
             0.5555555555555556,
             "#d8576b"
            ],
            [
             0.6666666666666666,
             "#ed7953"
            ],
            [
             0.7777777777777778,
             "#fb9f3a"
            ],
            [
             0.8888888888888888,
             "#fdca26"
            ],
            [
             1,
             "#f0f921"
            ]
           ]
          },
          "colorway": [
           "#636efa",
           "#EF553B",
           "#00cc96",
           "#ab63fa",
           "#FFA15A",
           "#19d3f3",
           "#FF6692",
           "#B6E880",
           "#FF97FF",
           "#FECB52"
          ],
          "font": {
           "color": "#2a3f5f"
          },
          "geo": {
           "bgcolor": "white",
           "lakecolor": "white",
           "landcolor": "#E5ECF6",
           "showlakes": true,
           "showland": true,
           "subunitcolor": "white"
          },
          "hoverlabel": {
           "align": "left"
          },
          "hovermode": "closest",
          "mapbox": {
           "style": "light"
          },
          "paper_bgcolor": "white",
          "plot_bgcolor": "#E5ECF6",
          "polar": {
           "angularaxis": {
            "gridcolor": "white",
            "linecolor": "white",
            "ticks": ""
           },
           "bgcolor": "#E5ECF6",
           "radialaxis": {
            "gridcolor": "white",
            "linecolor": "white",
            "ticks": ""
           }
          },
          "scene": {
           "xaxis": {
            "backgroundcolor": "#E5ECF6",
            "gridcolor": "white",
            "gridwidth": 2,
            "linecolor": "white",
            "showbackground": true,
            "ticks": "",
            "zerolinecolor": "white"
           },
           "yaxis": {
            "backgroundcolor": "#E5ECF6",
            "gridcolor": "white",
            "gridwidth": 2,
            "linecolor": "white",
            "showbackground": true,
            "ticks": "",
            "zerolinecolor": "white"
           },
           "zaxis": {
            "backgroundcolor": "#E5ECF6",
            "gridcolor": "white",
            "gridwidth": 2,
            "linecolor": "white",
            "showbackground": true,
            "ticks": "",
            "zerolinecolor": "white"
           }
          },
          "shapedefaults": {
           "line": {
            "color": "#2a3f5f"
           }
          },
          "ternary": {
           "aaxis": {
            "gridcolor": "white",
            "linecolor": "white",
            "ticks": ""
           },
           "baxis": {
            "gridcolor": "white",
            "linecolor": "white",
            "ticks": ""
           },
           "bgcolor": "#E5ECF6",
           "caxis": {
            "gridcolor": "white",
            "linecolor": "white",
            "ticks": ""
           }
          },
          "title": {
           "x": 0.05
          },
          "xaxis": {
           "automargin": true,
           "gridcolor": "white",
           "linecolor": "white",
           "ticks": "",
           "title": {
            "standoff": 15
           },
           "zerolinecolor": "white",
           "zerolinewidth": 2
          },
          "yaxis": {
           "automargin": true,
           "gridcolor": "white",
           "linecolor": "white",
           "ticks": "",
           "title": {
            "standoff": 15
           },
           "zerolinecolor": "white",
           "zerolinewidth": 2
          }
         }
        },
        "title": {
         "font": {
          "color": "black",
          "family": "Times New Roman",
          "size": 18
         },
         "text": "Comparative Impact of Face Features on Person Re-Identification Performance"
        },
        "width": 900,
        "xaxis": {
         "tickfont": {
          "color": "black",
          "family": "Times New Roman",
          "size": 14
         },
         "tickmode": "array",
         "ticktext": [
          "NR=0.0",
          "NR=0.2",
          "NR=0.4"
         ],
         "tickvals": [
          0,
          1,
          2
         ],
         "title": {
          "font": {
           "color": "black",
           "family": "Times New Roman",
           "size": 16
          }
         }
        },
        "yaxis": {
         "gridcolor": "lightgray",
         "gridwidth": 0.5,
         "range": [
          0,
          1.2
         ],
         "showgrid": true,
         "tickfont": {
          "color": "black",
          "family": "Times New Roman",
          "size": 14
         },
         "title": {
          "font": {
           "color": "black",
           "family": "Times New Roman",
           "size": 16
          }
         },
         "zerolinecolor": "lightgray"
        }
       }
      },
      "text/html": [
       "<div>                            <div id=\"ad50e490-ec13-43a6-861c-3ccdb47e6489\" class=\"plotly-graph-div\" style=\"height:525px; width:900px;\"></div>            <script type=\"text/javascript\">                require([\"plotly\"], function(Plotly) {                    window.PLOTLYENV=window.PLOTLYENV || {};                                    if (document.getElementById(\"ad50e490-ec13-43a6-861c-3ccdb47e6489\")) {                    Plotly.newPlot(                        \"ad50e490-ec13-43a6-861c-3ccdb47e6489\",                        [{\"marker\":{\"color\":\"#02c21f\"},\"name\":\"Normal Training\",\"width\":0.15,\"x\":[-0.32,0.6799999999999999,1.68],\"y\":[0.5727,0.7287,0.82],\"type\":\"bar\"},{\"marker\":{\"color\":\"#e86202\"},\"name\":\"CASSOR\",\"width\":0.15,\"x\":[-0.16,0.84,1.84],\"y\":[0.6158,0.5902,0.5908],\"type\":\"bar\"},{\"marker\":{\"color\":\"#e30215\"},\"name\":\"ORDAC\",\"width\":0.15,\"x\":[0.0,1.0,2.0],\"y\":[0.5038,0.5329,0.6321],\"type\":\"bar\"},{\"marker\":{\"color\":\"#2878f7\"},\"name\":\"ORDAC+CASSOR\",\"width\":0.15,\"x\":[0.16,1.16,2.16],\"y\":[0.5671,0.5655,0.5918],\"type\":\"bar\"},{\"marker\":{\"color\":\"#c202b8\"},\"name\":\"ORDAC_R\",\"width\":0.15,\"x\":[0.32,1.32,2.32],\"y\":[0.5671,0.5655,0.5918],\"type\":\"bar\"}],                        {\"template\":{\"data\":{\"histogram2dcontour\":[{\"type\":\"histogram2dcontour\",\"colorbar\":{\"outlinewidth\":0,\"ticks\":\"\"},\"colorscale\":[[0.0,\"#0d0887\"],[0.1111111111111111,\"#46039f\"],[0.2222222222222222,\"#7201a8\"],[0.3333333333333333,\"#9c179e\"],[0.4444444444444444,\"#bd3786\"],[0.5555555555555556,\"#d8576b\"],[0.6666666666666666,\"#ed7953\"],[0.7777777777777778,\"#fb9f3a\"],[0.8888888888888888,\"#fdca26\"],[1.0,\"#f0f921\"]]}],\"choropleth\":[{\"type\":\"choropleth\",\"colorbar\":{\"outlinewidth\":0,\"ticks\":\"\"}}],\"histogram2d\":[{\"type\":\"histogram2d\",\"colorbar\":{\"outlinewidth\":0,\"ticks\":\"\"},\"colorscale\":[[0.0,\"#0d0887\"],[0.1111111111111111,\"#46039f\"],[0.2222222222222222,\"#7201a8\"],[0.3333333333333333,\"#9c179e\"],[0.4444444444444444,\"#bd3786\"],[0.5555555555555556,\"#d8576b\"],[0.6666666666666666,\"#ed7953\"],[0.7777777777777778,\"#fb9f3a\"],[0.8888888888888888,\"#fdca26\"],[1.0,\"#f0f921\"]]}],\"heatmap\":[{\"type\":\"heatmap\",\"colorbar\":{\"outlinewidth\":0,\"ticks\":\"\"},\"colorscale\":[[0.0,\"#0d0887\"],[0.1111111111111111,\"#46039f\"],[0.2222222222222222,\"#7201a8\"],[0.3333333333333333,\"#9c179e\"],[0.4444444444444444,\"#bd3786\"],[0.5555555555555556,\"#d8576b\"],[0.6666666666666666,\"#ed7953\"],[0.7777777777777778,\"#fb9f3a\"],[0.8888888888888888,\"#fdca26\"],[1.0,\"#f0f921\"]]}],\"heatmapgl\":[{\"type\":\"heatmapgl\",\"colorbar\":{\"outlinewidth\":0,\"ticks\":\"\"},\"colorscale\":[[0.0,\"#0d0887\"],[0.1111111111111111,\"#46039f\"],[0.2222222222222222,\"#7201a8\"],[0.3333333333333333,\"#9c179e\"],[0.4444444444444444,\"#bd3786\"],[0.5555555555555556,\"#d8576b\"],[0.6666666666666666,\"#ed7953\"],[0.7777777777777778,\"#fb9f3a\"],[0.8888888888888888,\"#fdca26\"],[1.0,\"#f0f921\"]]}],\"contourcarpet\":[{\"type\":\"contourcarpet\",\"colorbar\":{\"outlinewidth\":0,\"ticks\":\"\"}}],\"contour\":[{\"type\":\"contour\",\"colorbar\":{\"outlinewidth\":0,\"ticks\":\"\"},\"colorscale\":[[0.0,\"#0d0887\"],[0.1111111111111111,\"#46039f\"],[0.2222222222222222,\"#7201a8\"],[0.3333333333333333,\"#9c179e\"],[0.4444444444444444,\"#bd3786\"],[0.5555555555555556,\"#d8576b\"],[0.6666666666666666,\"#ed7953\"],[0.7777777777777778,\"#fb9f3a\"],[0.8888888888888888,\"#fdca26\"],[1.0,\"#f0f921\"]]}],\"surface\":[{\"type\":\"surface\",\"colorbar\":{\"outlinewidth\":0,\"ticks\":\"\"},\"colorscale\":[[0.0,\"#0d0887\"],[0.1111111111111111,\"#46039f\"],[0.2222222222222222,\"#7201a8\"],[0.3333333333333333,\"#9c179e\"],[0.4444444444444444,\"#bd3786\"],[0.5555555555555556,\"#d8576b\"],[0.6666666666666666,\"#ed7953\"],[0.7777777777777778,\"#fb9f3a\"],[0.8888888888888888,\"#fdca26\"],[1.0,\"#f0f921\"]]}],\"mesh3d\":[{\"type\":\"mesh3d\",\"colorbar\":{\"outlinewidth\":0,\"ticks\":\"\"}}],\"scatter\":[{\"fillpattern\":{\"fillmode\":\"overlay\",\"size\":10,\"solidity\":0.2},\"type\":\"scatter\"}],\"parcoords\":[{\"type\":\"parcoords\",\"line\":{\"colorbar\":{\"outlinewidth\":0,\"ticks\":\"\"}}}],\"scatterpolargl\":[{\"type\":\"scatterpolargl\",\"marker\":{\"colorbar\":{\"outlinewidth\":0,\"ticks\":\"\"}}}],\"bar\":[{\"error_x\":{\"color\":\"#2a3f5f\"},\"error_y\":{\"color\":\"#2a3f5f\"},\"marker\":{\"line\":{\"color\":\"#E5ECF6\",\"width\":0.5},\"pattern\":{\"fillmode\":\"overlay\",\"size\":10,\"solidity\":0.2}},\"type\":\"bar\"}],\"scattergeo\":[{\"type\":\"scattergeo\",\"marker\":{\"colorbar\":{\"outlinewidth\":0,\"ticks\":\"\"}}}],\"scatterpolar\":[{\"type\":\"scatterpolar\",\"marker\":{\"colorbar\":{\"outlinewidth\":0,\"ticks\":\"\"}}}],\"histogram\":[{\"marker\":{\"pattern\":{\"fillmode\":\"overlay\",\"size\":10,\"solidity\":0.2}},\"type\":\"histogram\"}],\"scattergl\":[{\"type\":\"scattergl\",\"marker\":{\"colorbar\":{\"outlinewidth\":0,\"ticks\":\"\"}}}],\"scatter3d\":[{\"type\":\"scatter3d\",\"line\":{\"colorbar\":{\"outlinewidth\":0,\"ticks\":\"\"}},\"marker\":{\"colorbar\":{\"outlinewidth\":0,\"ticks\":\"\"}}}],\"scattermapbox\":[{\"type\":\"scattermapbox\",\"marker\":{\"colorbar\":{\"outlinewidth\":0,\"ticks\":\"\"}}}],\"scatterternary\":[{\"type\":\"scatterternary\",\"marker\":{\"colorbar\":{\"outlinewidth\":0,\"ticks\":\"\"}}}],\"scattercarpet\":[{\"type\":\"scattercarpet\",\"marker\":{\"colorbar\":{\"outlinewidth\":0,\"ticks\":\"\"}}}],\"carpet\":[{\"aaxis\":{\"endlinecolor\":\"#2a3f5f\",\"gridcolor\":\"white\",\"linecolor\":\"white\",\"minorgridcolor\":\"white\",\"startlinecolor\":\"#2a3f5f\"},\"baxis\":{\"endlinecolor\":\"#2a3f5f\",\"gridcolor\":\"white\",\"linecolor\":\"white\",\"minorgridcolor\":\"white\",\"startlinecolor\":\"#2a3f5f\"},\"type\":\"carpet\"}],\"table\":[{\"cells\":{\"fill\":{\"color\":\"#EBF0F8\"},\"line\":{\"color\":\"white\"}},\"header\":{\"fill\":{\"color\":\"#C8D4E3\"},\"line\":{\"color\":\"white\"}},\"type\":\"table\"}],\"barpolar\":[{\"marker\":{\"line\":{\"color\":\"#E5ECF6\",\"width\":0.5},\"pattern\":{\"fillmode\":\"overlay\",\"size\":10,\"solidity\":0.2}},\"type\":\"barpolar\"}],\"pie\":[{\"automargin\":true,\"type\":\"pie\"}]},\"layout\":{\"autotypenumbers\":\"strict\",\"colorway\":[\"#636efa\",\"#EF553B\",\"#00cc96\",\"#ab63fa\",\"#FFA15A\",\"#19d3f3\",\"#FF6692\",\"#B6E880\",\"#FF97FF\",\"#FECB52\"],\"font\":{\"color\":\"#2a3f5f\"},\"hovermode\":\"closest\",\"hoverlabel\":{\"align\":\"left\"},\"paper_bgcolor\":\"white\",\"plot_bgcolor\":\"#E5ECF6\",\"polar\":{\"bgcolor\":\"#E5ECF6\",\"angularaxis\":{\"gridcolor\":\"white\",\"linecolor\":\"white\",\"ticks\":\"\"},\"radialaxis\":{\"gridcolor\":\"white\",\"linecolor\":\"white\",\"ticks\":\"\"}},\"ternary\":{\"bgcolor\":\"#E5ECF6\",\"aaxis\":{\"gridcolor\":\"white\",\"linecolor\":\"white\",\"ticks\":\"\"},\"baxis\":{\"gridcolor\":\"white\",\"linecolor\":\"white\",\"ticks\":\"\"},\"caxis\":{\"gridcolor\":\"white\",\"linecolor\":\"white\",\"ticks\":\"\"}},\"coloraxis\":{\"colorbar\":{\"outlinewidth\":0,\"ticks\":\"\"}},\"colorscale\":{\"sequential\":[[0.0,\"#0d0887\"],[0.1111111111111111,\"#46039f\"],[0.2222222222222222,\"#7201a8\"],[0.3333333333333333,\"#9c179e\"],[0.4444444444444444,\"#bd3786\"],[0.5555555555555556,\"#d8576b\"],[0.6666666666666666,\"#ed7953\"],[0.7777777777777778,\"#fb9f3a\"],[0.8888888888888888,\"#fdca26\"],[1.0,\"#f0f921\"]],\"sequentialminus\":[[0.0,\"#0d0887\"],[0.1111111111111111,\"#46039f\"],[0.2222222222222222,\"#7201a8\"],[0.3333333333333333,\"#9c179e\"],[0.4444444444444444,\"#bd3786\"],[0.5555555555555556,\"#d8576b\"],[0.6666666666666666,\"#ed7953\"],[0.7777777777777778,\"#fb9f3a\"],[0.8888888888888888,\"#fdca26\"],[1.0,\"#f0f921\"]],\"diverging\":[[0,\"#8e0152\"],[0.1,\"#c51b7d\"],[0.2,\"#de77ae\"],[0.3,\"#f1b6da\"],[0.4,\"#fde0ef\"],[0.5,\"#f7f7f7\"],[0.6,\"#e6f5d0\"],[0.7,\"#b8e186\"],[0.8,\"#7fbc41\"],[0.9,\"#4d9221\"],[1,\"#276419\"]]},\"xaxis\":{\"gridcolor\":\"white\",\"linecolor\":\"white\",\"ticks\":\"\",\"title\":{\"standoff\":15},\"zerolinecolor\":\"white\",\"automargin\":true,\"zerolinewidth\":2},\"yaxis\":{\"gridcolor\":\"white\",\"linecolor\":\"white\",\"ticks\":\"\",\"title\":{\"standoff\":15},\"zerolinecolor\":\"white\",\"automargin\":true,\"zerolinewidth\":2},\"scene\":{\"xaxis\":{\"backgroundcolor\":\"#E5ECF6\",\"gridcolor\":\"white\",\"linecolor\":\"white\",\"showbackground\":true,\"ticks\":\"\",\"zerolinecolor\":\"white\",\"gridwidth\":2},\"yaxis\":{\"backgroundcolor\":\"#E5ECF6\",\"gridcolor\":\"white\",\"linecolor\":\"white\",\"showbackground\":true,\"ticks\":\"\",\"zerolinecolor\":\"white\",\"gridwidth\":2},\"zaxis\":{\"backgroundcolor\":\"#E5ECF6\",\"gridcolor\":\"white\",\"linecolor\":\"white\",\"showbackground\":true,\"ticks\":\"\",\"zerolinecolor\":\"white\",\"gridwidth\":2}},\"shapedefaults\":{\"line\":{\"color\":\"#2a3f5f\"}},\"annotationdefaults\":{\"arrowcolor\":\"#2a3f5f\",\"arrowhead\":0,\"arrowwidth\":1},\"geo\":{\"bgcolor\":\"white\",\"landcolor\":\"#E5ECF6\",\"subunitcolor\":\"white\",\"showland\":true,\"showlakes\":true,\"lakecolor\":\"white\"},\"title\":{\"x\":0.05},\"mapbox\":{\"style\":\"light\"}}},\"xaxis\":{\"title\":{\"font\":{\"size\":16,\"family\":\"Times New Roman\",\"color\":\"black\"}},\"tickfont\":{\"size\":14,\"family\":\"Times New Roman\",\"color\":\"black\"},\"tickmode\":\"array\",\"tickvals\":[0,1,2],\"ticktext\":[\"NR=0.0\",\"NR=0.2\",\"NR=0.4\"]},\"title\":{\"text\":\"Comparative Impact of Face Features on Person Re-Identification Performance\",\"font\":{\"size\":18,\"family\":\"Times New Roman\",\"color\":\"black\"}},\"yaxis\":{\"title\":{\"font\":{\"size\":16,\"family\":\"Times New Roman\",\"color\":\"black\"}},\"tickfont\":{\"size\":14,\"family\":\"Times New Roman\",\"color\":\"black\"},\"showgrid\":true,\"gridcolor\":\"lightgray\",\"gridwidth\":0.5,\"zerolinecolor\":\"lightgray\",\"range\":[0,1.2]},\"legend\":{\"font\":{\"family\":\"Times New Roman\",\"size\":12,\"color\":\"black\"},\"orientation\":\"h\",\"yanchor\":\"bottom\",\"y\":1.02,\"xanchor\":\"center\",\"x\":0.5},\"annotations\":[{\"font\":{\"color\":\"black\",\"family\":\"Times New Roman\",\"size\":12},\"showarrow\":false,\"text\":\"0.5727 \\u00b1 0.0366\",\"textangle\":-45,\"x\":-0.22,\"xanchor\":\"center\",\"y\":0.5627,\"yanchor\":\"bottom\"},{\"font\":{\"color\":\"black\",\"family\":\"Times New Roman\",\"size\":12},\"showarrow\":false,\"text\":\"0.7287 \\u00b1 0.0000\",\"textangle\":-45,\"x\":0.7799999999999999,\"xanchor\":\"center\",\"y\":0.7187,\"yanchor\":\"bottom\"},{\"font\":{\"color\":\"black\",\"family\":\"Times New Roman\",\"size\":12},\"showarrow\":false,\"text\":\"0.8200 \\u00b1 0.0632\",\"textangle\":-45,\"x\":1.78,\"xanchor\":\"center\",\"y\":0.8099999999999999,\"yanchor\":\"bottom\"},{\"font\":{\"color\":\"black\",\"family\":\"Times New Roman\",\"size\":12},\"showarrow\":false,\"text\":\"0.6158 \\u00b1 0.0611\",\"textangle\":-45,\"x\":-0.06,\"xanchor\":\"center\",\"y\":0.6058,\"yanchor\":\"bottom\"},{\"font\":{\"color\":\"black\",\"family\":\"Times New Roman\",\"size\":12},\"showarrow\":false,\"text\":\"0.5902 \\u00b1 0.0442\",\"textangle\":-45,\"x\":0.94,\"xanchor\":\"center\",\"y\":0.5801999999999999,\"yanchor\":\"bottom\"},{\"font\":{\"color\":\"black\",\"family\":\"Times New Roman\",\"size\":12},\"showarrow\":false,\"text\":\"0.5908 \\u00b1 0.0605\",\"textangle\":-45,\"x\":1.9400000000000002,\"xanchor\":\"center\",\"y\":0.5808,\"yanchor\":\"bottom\"},{\"font\":{\"color\":\"black\",\"family\":\"Times New Roman\",\"size\":12},\"showarrow\":false,\"text\":\"0.5038 \\u00b1 0.0458\",\"textangle\":-45,\"x\":0.1,\"xanchor\":\"center\",\"y\":0.4938,\"yanchor\":\"bottom\"},{\"font\":{\"color\":\"black\",\"family\":\"Times New Roman\",\"size\":12},\"showarrow\":false,\"text\":\"0.5329 \\u00b1 0.0348\",\"textangle\":-45,\"x\":1.1,\"xanchor\":\"center\",\"y\":0.5229,\"yanchor\":\"bottom\"},{\"font\":{\"color\":\"black\",\"family\":\"Times New Roman\",\"size\":12},\"showarrow\":false,\"text\":\"0.6321 \\u00b1 0.0288\",\"textangle\":-45,\"x\":2.1,\"xanchor\":\"center\",\"y\":0.6221,\"yanchor\":\"bottom\"},{\"font\":{\"color\":\"black\",\"family\":\"Times New Roman\",\"size\":12},\"showarrow\":false,\"text\":\"0.5671 \\u00b1 0.0449\",\"textangle\":-45,\"x\":0.26,\"xanchor\":\"center\",\"y\":0.5571,\"yanchor\":\"bottom\"},{\"font\":{\"color\":\"black\",\"family\":\"Times New Roman\",\"size\":12},\"showarrow\":false,\"text\":\"0.5655 \\u00b1 0.0497\",\"textangle\":-45,\"x\":1.26,\"xanchor\":\"center\",\"y\":0.5555,\"yanchor\":\"bottom\"},{\"font\":{\"color\":\"black\",\"family\":\"Times New Roman\",\"size\":12},\"showarrow\":false,\"text\":\"0.5918 \\u00b1 0.0523\",\"textangle\":-45,\"x\":2.2600000000000002,\"xanchor\":\"center\",\"y\":0.5818,\"yanchor\":\"bottom\"},{\"font\":{\"color\":\"black\",\"family\":\"Times New Roman\",\"size\":12},\"showarrow\":false,\"text\":\"0.5671 \\u00b1 0.0449\",\"textangle\":-45,\"x\":0.42000000000000004,\"xanchor\":\"center\",\"y\":0.5571,\"yanchor\":\"bottom\"},{\"font\":{\"color\":\"black\",\"family\":\"Times New Roman\",\"size\":12},\"showarrow\":false,\"text\":\"0.5655 \\u00b1 0.0497\",\"textangle\":-45,\"x\":1.4200000000000002,\"xanchor\":\"center\",\"y\":0.5555,\"yanchor\":\"bottom\"},{\"font\":{\"color\":\"black\",\"family\":\"Times New Roman\",\"size\":12},\"showarrow\":false,\"text\":\"0.5918 \\u00b1 0.0523\",\"textangle\":-45,\"x\":2.42,\"xanchor\":\"center\",\"y\":0.5818,\"yanchor\":\"bottom\"}],\"barmode\":\"group\",\"bargap\":0.15,\"bargroupgap\":0.05,\"width\":900,\"plot_bgcolor\":\"white\"},                        {\"responsive\": true}                    ).then(function(){\n",
       "                            \n",
       "var gd = document.getElementById('ad50e490-ec13-43a6-861c-3ccdb47e6489');\n",
       "var x = new MutationObserver(function (mutations, observer) {{\n",
       "        var display = window.getComputedStyle(gd).display;\n",
       "        if (!display || display === 'none') {{\n",
       "            console.log([gd, 'removed!']);\n",
       "            Plotly.purge(gd);\n",
       "            observer.disconnect();\n",
       "        }}\n",
       "}});\n",
       "\n",
       "// Listen for the removal of the full notebook cells\n",
       "var notebookContainer = gd.closest('#notebook-container');\n",
       "if (notebookContainer) {{\n",
       "    x.observe(notebookContainer, {childList: true});\n",
       "}}\n",
       "\n",
       "// Listen for the clearing of the current output cell\n",
       "var outputEl = gd.closest('.output');\n",
       "if (outputEl) {{\n",
       "    x.observe(outputEl, {childList: true});\n",
       "}}\n",
       "\n",
       "                        })                };                });            </script>        </div>"
      ]
     },
     "metadata": {},
     "output_type": "display_data"
    }
   ],
   "source": [
    "import plotly.graph_objects as go\n",
    "\n",
    "# Data\n",
    "metrics = ['NR=0.0', 'NR=0.2', 'NR=0.4']\n",
    "normal_training = [0.5727, 0.7287, 0.8200]\n",
    "normal_training_std = [0.0366, 0.0, 0.0632]\n",
    "\n",
    "cassor = [0.6158, 0.5902, 0.5908]\n",
    "cassor_std = [0.0611, 0.0442, 0.0605]\n",
    "\n",
    "ordac = [0.5038, 0.5329, 0.6321]\n",
    "ordac_std = [0.0458, 0.0348, 0.0288]\n",
    "\n",
    "ordac_cassor = [0.5671, 0.5655, 0.5918]\n",
    "ordac_cassor_std = [0.0449, 0.0497, 0.0523]\n",
    "\n",
    "ordac_r = [0.5671, 0.5655, 0.5918]\n",
    "ordac_r_std = [0.0449, 0.0497, 0.0523]\n",
    "\n",
    "fig = go.Figure()\n",
    "\n",
    "bar_width = 0.15\n",
    "x_positions = list(range(len(metrics)))\n",
    "group_spacing = 0.2\n",
    "trace_count = 5\n",
    "\n",
    "# Offsets for each bar group (centered alignment)\n",
    "offsets = [-2, -1, 0, 1, 2]\n",
    "offsets = [o * (bar_width + 0.01) for o in offsets]\n",
    "\n",
    "bar_data = [\n",
    "    ('Normal Training', normal_training, normal_training_std, '#02c21f'),\n",
    "    ('CASSOR', cassor, cassor_std, '#e86202'),\n",
    "    ('ORDAC', ordac, ordac_std, '#e30215'),\n",
    "    ('ORDAC+CASSOR', ordac_cassor, ordac_cassor_std, '#2878f7'),\n",
    "    ('ORDAC_R', ordac_r, ordac_r_std, '#c202b8')\n",
    "]\n",
    "\n",
    "annotations = []\n",
    "\n",
    "for i, (name, vals, stds, color) in enumerate(bar_data):\n",
    "    x = [pos + offsets[i] for pos in x_positions]\n",
    "    fig.add_trace(go.Bar(\n",
    "        x=x, y=vals, name=name,\n",
    "        marker_color=color, width=bar_width,\n",
    "        text=None  # We'll add custom annotations\n",
    "    ))\n",
    "    for xi, yi, std in zip(x, vals, stds):\n",
    "        text = f'{yi:.4f} ± {std:.4f}'\n",
    "        annotations.append(dict(\n",
    "            x=xi + 0.1,\n",
    "            y=yi - 0.01,  # small vertical offset\n",
    "            text=text,\n",
    "            textangle=-45,\n",
    "            showarrow=False,\n",
    "            font=dict(size=12, family='Times New Roman', color='black'),\n",
    "            xanchor='center',\n",
    "            yanchor='bottom'\n",
    "        ))\n",
    "\n",
    "# Final layout\n",
    "fig.update_layout(\n",
    "    annotations=annotations,\n",
    "    xaxis=dict(\n",
    "        tickmode='array',\n",
    "        tickvals=x_positions,\n",
    "        ticktext=metrics\n",
    "    ),\n",
    "    title='Comparative Impact of Face Features on Person Re-Identification Performance',\n",
    "    barmode='group',\n",
    "    bargap=0.15,\n",
    "    bargroupgap=0.05,\n",
    "    width=900,\n",
    "    plot_bgcolor='white',\n",
    "    title_font=dict(size=18, family='Times New Roman', color='black'),\n",
    "    xaxis_title_font=dict(size=16, family='Times New Roman', color='black'),\n",
    "    yaxis_title_font=dict(size=16, family='Times New Roman', color='black'),\n",
    "    xaxis_tickfont=dict(size=14, family='Times New Roman', color='black'),\n",
    "    yaxis_tickfont=dict(size=14, family='Times New Roman', color='black'),\n",
    "    legend=dict(\n",
    "        orientation=\"h\",\n",
    "        yanchor=\"bottom\",\n",
    "        y=1.02,\n",
    "        xanchor=\"center\",\n",
    "        x=0.5,\n",
    "        font=dict(\n",
    "            family='Times New Roman',\n",
    "            size=12,\n",
    "            color='black'\n",
    "        )\n",
    "    )\n",
    ")\n",
    "\n",
    "fig.update_yaxes(\n",
    "    showgrid=True,\n",
    "    gridcolor='lightgray',\n",
    "    gridwidth=0.5,\n",
    "    zerolinecolor='lightgray',\n",
    "    range=[0, 1.2]\n",
    ")\n",
    "\n",
    "fig.show()\n"
   ]
  }
 ],
 "metadata": {
  "kernelspec": {
   "display_name": "automated_annotation",
   "language": "python",
   "name": "python3"
  },
  "language_info": {
   "codemirror_mode": {
    "name": "ipython",
    "version": 3
   },
   "file_extension": ".py",
   "mimetype": "text/x-python",
   "name": "python",
   "nbconvert_exporter": "python",
   "pygments_lexer": "ipython3",
   "version": "3.10.12"
  }
 },
 "nbformat": 4,
 "nbformat_minor": 5
}

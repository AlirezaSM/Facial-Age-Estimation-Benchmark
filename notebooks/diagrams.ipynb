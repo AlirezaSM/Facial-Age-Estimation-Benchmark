{
 "cells": [
  {
   "cell_type": "code",
   "execution_count": null,
   "id": "ceafd049",
   "metadata": {},
   "outputs": [
    {
     "data": {
      "application/vnd.plotly.v1+json": {
       "config": {
        "plotlyServerURL": "https://plot.ly"
       },
       "data": [
        {
         "line": {
          "color": "#1f77b4",
          "dash": "dash"
         },
         "marker": {
          "size": 10,
          "symbol": "circle"
         },
         "mode": "lines+markers",
         "name": "CORAL",
         "type": "scatter",
         "x": [
          0,
          0.2,
          0.4
         ],
         "xaxis": "x",
         "y": [
          0.664,
          0.8349,
          1.0427
         ],
         "yaxis": "y"
        },
        {
         "line": {
          "color": "#ff7f0e",
          "dash": "dash"
         },
         "marker": {
          "size": 10,
          "symbol": "square"
         },
         "mode": "lines+markers",
         "name": "DLDL-v2",
         "type": "scatter",
         "x": [
          0,
          0.2,
          0.4
         ],
         "xaxis": "x",
         "y": [
          0.6343,
          0.7618,
          0.8649
         ],
         "yaxis": "y"
        },
        {
         "line": {
          "color": "#2ca02c",
          "dash": "dash"
         },
         "marker": {
          "size": 10,
          "symbol": "diamond"
         },
         "mode": "lines+markers",
         "name": "ORDAC",
         "type": "scatter",
         "x": [
          0,
          0.2,
          0.4
         ],
         "xaxis": "x",
         "y": [
          0.5585,
          0.6463,
          0.7352
         ],
         "yaxis": "y"
        },
        {
         "line": {
          "color": "#d62728",
          "dash": "dash"
         },
         "marker": {
          "size": 10,
          "symbol": "x"
         },
         "mode": "lines+markers",
         "name": "ORDAC_C",
         "type": "scatter",
         "x": [
          0,
          0.2,
          0.4
         ],
         "xaxis": "x",
         "y": [
          0.4929,
          0.5642,
          0.6637
         ],
         "yaxis": "y"
        },
        {
         "line": {
          "color": "#9467bd",
          "dash": "dash"
         },
         "marker": {
          "size": 10,
          "symbol": "star"
         },
         "mode": "lines+markers",
         "name": "ORDAC_R",
         "type": "scatter",
         "x": [
          0,
          0.2,
          0.4
         ],
         "xaxis": "x",
         "y": [
          0.5018,
          0.5366,
          0.6283
         ],
         "yaxis": "y"
        },
        {
         "line": {
          "color": "#1f77b4",
          "dash": "dash"
         },
         "marker": {
          "size": 10,
          "symbol": "circle"
         },
         "mode": "lines+markers",
         "name": "CORAL",
         "showlegend": false,
         "type": "scatter",
         "x": [
          0,
          0.2,
          0.4
         ],
         "xaxis": "x2",
         "y": [
          0.7721,
          0.8403,
          0.8595
         ],
         "yaxis": "y2"
        },
        {
         "line": {
          "color": "#ff7f0e",
          "dash": "dash"
         },
         "marker": {
          "size": 10,
          "symbol": "square"
         },
         "mode": "lines+markers",
         "name": "DLDL-v2",
         "showlegend": false,
         "type": "scatter",
         "x": [
          0,
          0.2,
          0.4
         ],
         "xaxis": "x2",
         "y": [
          0.7324,
          0.8025,
          0.8488
         ],
         "yaxis": "y2"
        },
        {
         "line": {
          "color": "#2ca02c",
          "dash": "dash"
         },
         "marker": {
          "size": 10,
          "symbol": "diamond"
         },
         "mode": "lines+markers",
         "name": "ORDAC",
         "showlegend": false,
         "type": "scatter",
         "x": [
          0,
          0.2,
          0.4
         ],
         "xaxis": "x2",
         "y": [
          0.6826,
          0.7114,
          0.8015
         ],
         "yaxis": "y2"
        },
        {
         "line": {
          "color": "#d62728",
          "dash": "dash"
         },
         "marker": {
          "size": 10,
          "symbol": "x"
         },
         "mode": "lines+markers",
         "name": "ORDAC_C",
         "showlegend": false,
         "type": "scatter",
         "x": [
          0,
          0.2,
          0.4
         ],
         "xaxis": "x2",
         "y": [
          0.7084,
          0.7362,
          0.7567
         ],
         "yaxis": "y2"
        },
        {
         "line": {
          "color": "#9467bd",
          "dash": "dash"
         },
         "marker": {
          "size": 10,
          "symbol": "star"
         },
         "mode": "lines+markers",
         "name": "ORDAC_R",
         "showlegend": false,
         "type": "scatter",
         "x": [
          0,
          0.2,
          0.4
         ],
         "xaxis": "x2",
         "y": [
          0.6924,
          0.7246,
          0.7436
         ],
         "yaxis": "y2"
        }
       ],
       "layout": {
        "annotations": [
         {
          "font": {
           "size": 16
          },
          "showarrow": false,
          "text": "<span style='font-family:Times New Roman'>Adience</span>",
          "x": 0.225,
          "xanchor": "center",
          "xref": "paper",
          "y": 1,
          "yanchor": "bottom",
          "yref": "paper"
         },
         {
          "font": {
           "size": 16
          },
          "showarrow": false,
          "text": "<span style='font-family:Times New Roman'>Diabetic Retinopathy</span>",
          "x": 0.775,
          "xanchor": "center",
          "xref": "paper",
          "y": 1,
          "yanchor": "bottom",
          "yref": "paper"
         }
        ],
        "height": 500,
        "legend": {
         "font": {
          "family": "Times New Roman",
          "size": 12
         },
         "orientation": "h",
         "x": 0.5,
         "xanchor": "center",
         "y": 1.15
        },
        "plot_bgcolor": "white",
        "template": {
         "data": {
          "bar": [
           {
            "error_x": {
             "color": "#2a3f5f"
            },
            "error_y": {
             "color": "#2a3f5f"
            },
            "marker": {
             "line": {
              "color": "#E5ECF6",
              "width": 0.5
             },
             "pattern": {
              "fillmode": "overlay",
              "size": 10,
              "solidity": 0.2
             }
            },
            "type": "bar"
           }
          ],
          "barpolar": [
           {
            "marker": {
             "line": {
              "color": "#E5ECF6",
              "width": 0.5
             },
             "pattern": {
              "fillmode": "overlay",
              "size": 10,
              "solidity": 0.2
             }
            },
            "type": "barpolar"
           }
          ],
          "carpet": [
           {
            "aaxis": {
             "endlinecolor": "#2a3f5f",
             "gridcolor": "white",
             "linecolor": "white",
             "minorgridcolor": "white",
             "startlinecolor": "#2a3f5f"
            },
            "baxis": {
             "endlinecolor": "#2a3f5f",
             "gridcolor": "white",
             "linecolor": "white",
             "minorgridcolor": "white",
             "startlinecolor": "#2a3f5f"
            },
            "type": "carpet"
           }
          ],
          "choropleth": [
           {
            "colorbar": {
             "outlinewidth": 0,
             "ticks": ""
            },
            "type": "choropleth"
           }
          ],
          "contour": [
           {
            "colorbar": {
             "outlinewidth": 0,
             "ticks": ""
            },
            "colorscale": [
             [
              0,
              "#0d0887"
             ],
             [
              0.1111111111111111,
              "#46039f"
             ],
             [
              0.2222222222222222,
              "#7201a8"
             ],
             [
              0.3333333333333333,
              "#9c179e"
             ],
             [
              0.4444444444444444,
              "#bd3786"
             ],
             [
              0.5555555555555556,
              "#d8576b"
             ],
             [
              0.6666666666666666,
              "#ed7953"
             ],
             [
              0.7777777777777778,
              "#fb9f3a"
             ],
             [
              0.8888888888888888,
              "#fdca26"
             ],
             [
              1,
              "#f0f921"
             ]
            ],
            "type": "contour"
           }
          ],
          "contourcarpet": [
           {
            "colorbar": {
             "outlinewidth": 0,
             "ticks": ""
            },
            "type": "contourcarpet"
           }
          ],
          "heatmap": [
           {
            "colorbar": {
             "outlinewidth": 0,
             "ticks": ""
            },
            "colorscale": [
             [
              0,
              "#0d0887"
             ],
             [
              0.1111111111111111,
              "#46039f"
             ],
             [
              0.2222222222222222,
              "#7201a8"
             ],
             [
              0.3333333333333333,
              "#9c179e"
             ],
             [
              0.4444444444444444,
              "#bd3786"
             ],
             [
              0.5555555555555556,
              "#d8576b"
             ],
             [
              0.6666666666666666,
              "#ed7953"
             ],
             [
              0.7777777777777778,
              "#fb9f3a"
             ],
             [
              0.8888888888888888,
              "#fdca26"
             ],
             [
              1,
              "#f0f921"
             ]
            ],
            "type": "heatmap"
           }
          ],
          "heatmapgl": [
           {
            "colorbar": {
             "outlinewidth": 0,
             "ticks": ""
            },
            "colorscale": [
             [
              0,
              "#0d0887"
             ],
             [
              0.1111111111111111,
              "#46039f"
             ],
             [
              0.2222222222222222,
              "#7201a8"
             ],
             [
              0.3333333333333333,
              "#9c179e"
             ],
             [
              0.4444444444444444,
              "#bd3786"
             ],
             [
              0.5555555555555556,
              "#d8576b"
             ],
             [
              0.6666666666666666,
              "#ed7953"
             ],
             [
              0.7777777777777778,
              "#fb9f3a"
             ],
             [
              0.8888888888888888,
              "#fdca26"
             ],
             [
              1,
              "#f0f921"
             ]
            ],
            "type": "heatmapgl"
           }
          ],
          "histogram": [
           {
            "marker": {
             "pattern": {
              "fillmode": "overlay",
              "size": 10,
              "solidity": 0.2
             }
            },
            "type": "histogram"
           }
          ],
          "histogram2d": [
           {
            "colorbar": {
             "outlinewidth": 0,
             "ticks": ""
            },
            "colorscale": [
             [
              0,
              "#0d0887"
             ],
             [
              0.1111111111111111,
              "#46039f"
             ],
             [
              0.2222222222222222,
              "#7201a8"
             ],
             [
              0.3333333333333333,
              "#9c179e"
             ],
             [
              0.4444444444444444,
              "#bd3786"
             ],
             [
              0.5555555555555556,
              "#d8576b"
             ],
             [
              0.6666666666666666,
              "#ed7953"
             ],
             [
              0.7777777777777778,
              "#fb9f3a"
             ],
             [
              0.8888888888888888,
              "#fdca26"
             ],
             [
              1,
              "#f0f921"
             ]
            ],
            "type": "histogram2d"
           }
          ],
          "histogram2dcontour": [
           {
            "colorbar": {
             "outlinewidth": 0,
             "ticks": ""
            },
            "colorscale": [
             [
              0,
              "#0d0887"
             ],
             [
              0.1111111111111111,
              "#46039f"
             ],
             [
              0.2222222222222222,
              "#7201a8"
             ],
             [
              0.3333333333333333,
              "#9c179e"
             ],
             [
              0.4444444444444444,
              "#bd3786"
             ],
             [
              0.5555555555555556,
              "#d8576b"
             ],
             [
              0.6666666666666666,
              "#ed7953"
             ],
             [
              0.7777777777777778,
              "#fb9f3a"
             ],
             [
              0.8888888888888888,
              "#fdca26"
             ],
             [
              1,
              "#f0f921"
             ]
            ],
            "type": "histogram2dcontour"
           }
          ],
          "mesh3d": [
           {
            "colorbar": {
             "outlinewidth": 0,
             "ticks": ""
            },
            "type": "mesh3d"
           }
          ],
          "parcoords": [
           {
            "line": {
             "colorbar": {
              "outlinewidth": 0,
              "ticks": ""
             }
            },
            "type": "parcoords"
           }
          ],
          "pie": [
           {
            "automargin": true,
            "type": "pie"
           }
          ],
          "scatter": [
           {
            "fillpattern": {
             "fillmode": "overlay",
             "size": 10,
             "solidity": 0.2
            },
            "type": "scatter"
           }
          ],
          "scatter3d": [
           {
            "line": {
             "colorbar": {
              "outlinewidth": 0,
              "ticks": ""
             }
            },
            "marker": {
             "colorbar": {
              "outlinewidth": 0,
              "ticks": ""
             }
            },
            "type": "scatter3d"
           }
          ],
          "scattercarpet": [
           {
            "marker": {
             "colorbar": {
              "outlinewidth": 0,
              "ticks": ""
             }
            },
            "type": "scattercarpet"
           }
          ],
          "scattergeo": [
           {
            "marker": {
             "colorbar": {
              "outlinewidth": 0,
              "ticks": ""
             }
            },
            "type": "scattergeo"
           }
          ],
          "scattergl": [
           {
            "marker": {
             "colorbar": {
              "outlinewidth": 0,
              "ticks": ""
             }
            },
            "type": "scattergl"
           }
          ],
          "scattermapbox": [
           {
            "marker": {
             "colorbar": {
              "outlinewidth": 0,
              "ticks": ""
             }
            },
            "type": "scattermapbox"
           }
          ],
          "scatterpolar": [
           {
            "marker": {
             "colorbar": {
              "outlinewidth": 0,
              "ticks": ""
             }
            },
            "type": "scatterpolar"
           }
          ],
          "scatterpolargl": [
           {
            "marker": {
             "colorbar": {
              "outlinewidth": 0,
              "ticks": ""
             }
            },
            "type": "scatterpolargl"
           }
          ],
          "scatterternary": [
           {
            "marker": {
             "colorbar": {
              "outlinewidth": 0,
              "ticks": ""
             }
            },
            "type": "scatterternary"
           }
          ],
          "surface": [
           {
            "colorbar": {
             "outlinewidth": 0,
             "ticks": ""
            },
            "colorscale": [
             [
              0,
              "#0d0887"
             ],
             [
              0.1111111111111111,
              "#46039f"
             ],
             [
              0.2222222222222222,
              "#7201a8"
             ],
             [
              0.3333333333333333,
              "#9c179e"
             ],
             [
              0.4444444444444444,
              "#bd3786"
             ],
             [
              0.5555555555555556,
              "#d8576b"
             ],
             [
              0.6666666666666666,
              "#ed7953"
             ],
             [
              0.7777777777777778,
              "#fb9f3a"
             ],
             [
              0.8888888888888888,
              "#fdca26"
             ],
             [
              1,
              "#f0f921"
             ]
            ],
            "type": "surface"
           }
          ],
          "table": [
           {
            "cells": {
             "fill": {
              "color": "#EBF0F8"
             },
             "line": {
              "color": "white"
             }
            },
            "header": {
             "fill": {
              "color": "#C8D4E3"
             },
             "line": {
              "color": "white"
             }
            },
            "type": "table"
           }
          ]
         },
         "layout": {
          "annotationdefaults": {
           "arrowcolor": "#2a3f5f",
           "arrowhead": 0,
           "arrowwidth": 1
          },
          "autotypenumbers": "strict",
          "coloraxis": {
           "colorbar": {
            "outlinewidth": 0,
            "ticks": ""
           }
          },
          "colorscale": {
           "diverging": [
            [
             0,
             "#8e0152"
            ],
            [
             0.1,
             "#c51b7d"
            ],
            [
             0.2,
             "#de77ae"
            ],
            [
             0.3,
             "#f1b6da"
            ],
            [
             0.4,
             "#fde0ef"
            ],
            [
             0.5,
             "#f7f7f7"
            ],
            [
             0.6,
             "#e6f5d0"
            ],
            [
             0.7,
             "#b8e186"
            ],
            [
             0.8,
             "#7fbc41"
            ],
            [
             0.9,
             "#4d9221"
            ],
            [
             1,
             "#276419"
            ]
           ],
           "sequential": [
            [
             0,
             "#0d0887"
            ],
            [
             0.1111111111111111,
             "#46039f"
            ],
            [
             0.2222222222222222,
             "#7201a8"
            ],
            [
             0.3333333333333333,
             "#9c179e"
            ],
            [
             0.4444444444444444,
             "#bd3786"
            ],
            [
             0.5555555555555556,
             "#d8576b"
            ],
            [
             0.6666666666666666,
             "#ed7953"
            ],
            [
             0.7777777777777778,
             "#fb9f3a"
            ],
            [
             0.8888888888888888,
             "#fdca26"
            ],
            [
             1,
             "#f0f921"
            ]
           ],
           "sequentialminus": [
            [
             0,
             "#0d0887"
            ],
            [
             0.1111111111111111,
             "#46039f"
            ],
            [
             0.2222222222222222,
             "#7201a8"
            ],
            [
             0.3333333333333333,
             "#9c179e"
            ],
            [
             0.4444444444444444,
             "#bd3786"
            ],
            [
             0.5555555555555556,
             "#d8576b"
            ],
            [
             0.6666666666666666,
             "#ed7953"
            ],
            [
             0.7777777777777778,
             "#fb9f3a"
            ],
            [
             0.8888888888888888,
             "#fdca26"
            ],
            [
             1,
             "#f0f921"
            ]
           ]
          },
          "colorway": [
           "#636efa",
           "#EF553B",
           "#00cc96",
           "#ab63fa",
           "#FFA15A",
           "#19d3f3",
           "#FF6692",
           "#B6E880",
           "#FF97FF",
           "#FECB52"
          ],
          "font": {
           "color": "#2a3f5f"
          },
          "geo": {
           "bgcolor": "white",
           "lakecolor": "white",
           "landcolor": "#E5ECF6",
           "showlakes": true,
           "showland": true,
           "subunitcolor": "white"
          },
          "hoverlabel": {
           "align": "left"
          },
          "hovermode": "closest",
          "mapbox": {
           "style": "light"
          },
          "paper_bgcolor": "white",
          "plot_bgcolor": "#E5ECF6",
          "polar": {
           "angularaxis": {
            "gridcolor": "white",
            "linecolor": "white",
            "ticks": ""
           },
           "bgcolor": "#E5ECF6",
           "radialaxis": {
            "gridcolor": "white",
            "linecolor": "white",
            "ticks": ""
           }
          },
          "scene": {
           "xaxis": {
            "backgroundcolor": "#E5ECF6",
            "gridcolor": "white",
            "gridwidth": 2,
            "linecolor": "white",
            "showbackground": true,
            "ticks": "",
            "zerolinecolor": "white"
           },
           "yaxis": {
            "backgroundcolor": "#E5ECF6",
            "gridcolor": "white",
            "gridwidth": 2,
            "linecolor": "white",
            "showbackground": true,
            "ticks": "",
            "zerolinecolor": "white"
           },
           "zaxis": {
            "backgroundcolor": "#E5ECF6",
            "gridcolor": "white",
            "gridwidth": 2,
            "linecolor": "white",
            "showbackground": true,
            "ticks": "",
            "zerolinecolor": "white"
           }
          },
          "shapedefaults": {
           "line": {
            "color": "#2a3f5f"
           }
          },
          "ternary": {
           "aaxis": {
            "gridcolor": "white",
            "linecolor": "white",
            "ticks": ""
           },
           "baxis": {
            "gridcolor": "white",
            "linecolor": "white",
            "ticks": ""
           },
           "bgcolor": "#E5ECF6",
           "caxis": {
            "gridcolor": "white",
            "linecolor": "white",
            "ticks": ""
           }
          },
          "title": {
           "x": 0.05
          },
          "xaxis": {
           "automargin": true,
           "gridcolor": "white",
           "linecolor": "white",
           "ticks": "",
           "title": {
            "standoff": 15
           },
           "zerolinecolor": "white",
           "zerolinewidth": 2
          },
          "yaxis": {
           "automargin": true,
           "gridcolor": "white",
           "linecolor": "white",
           "ticks": "",
           "title": {
            "standoff": 15
           },
           "zerolinecolor": "white",
           "zerolinewidth": 2
          }
         }
        },
        "title": {
         "font": {
          "family": "Times New Roman",
          "size": 18
         },
         "text": "<span style='font-family:Times New Roman'>Performance Comparison of ORDAC Method</span>"
        },
        "width": 1000,
        "xaxis": {
         "anchor": "y",
         "domain": [
          0,
          0.45
         ],
         "gridcolor": "lightgray",
         "gridwidth": 1,
         "showgrid": false,
         "tickfont": {
          "family": "Times New Roman",
          "size": 14
         },
         "tickmode": "array",
         "tickvals": [
          0,
          0.2,
          0.4
         ],
         "title": {
          "font": {
           "family": "Times New Roman",
           "size": 16
          },
          "text": "Noise Rate (τ)"
         },
         "zeroline": false
        },
        "xaxis2": {
         "anchor": "y2",
         "domain": [
          0.55,
          1
         ],
         "gridcolor": "lightgray",
         "gridwidth": 1,
         "showgrid": false,
         "tickfont": {
          "family": "Times New Roman",
          "size": 14
         },
         "tickmode": "array",
         "tickvals": [
          0,
          0.2,
          0.4
         ],
         "title": {
          "font": {
           "family": "Times New Roman",
           "size": 16
          },
          "text": "Noise Rate (τ)"
         },
         "zeroline": false
        },
        "yaxis": {
         "anchor": "x",
         "domain": [
          0,
          1
         ],
         "gridcolor": "lightgray",
         "gridwidth": 1,
         "range": [
          0.4,
          1.1
         ],
         "showgrid": true,
         "tickfont": {
          "family": "Times New Roman",
          "size": 14
         },
         "title": {
          "font": {
           "family": "Times New Roman",
           "size": 16
          },
          "text": "Mean Absolute Error (MAE)"
         }
        },
        "yaxis2": {
         "anchor": "x2",
         "domain": [
          0,
          1
         ],
         "gridcolor": "lightgray",
         "gridwidth": 1,
         "range": [
          0.4,
          1.1
         ],
         "showgrid": true,
         "tickfont": {
          "family": "Times New Roman",
          "size": 14
         },
         "title": {
          "font": {
           "family": "Times New Roman",
           "size": 16
          },
          "text": "Mean Absolute Error (MAE)"
         }
        }
       }
      },
      "text/html": [
       "<div>                            <div id=\"85f0b3fc-c3c2-4415-83d6-52487075f805\" class=\"plotly-graph-div\" style=\"height:500px; width:1000px;\"></div>            <script type=\"text/javascript\">                require([\"plotly\"], function(Plotly) {                    window.PLOTLYENV=window.PLOTLYENV || {};                                    if (document.getElementById(\"85f0b3fc-c3c2-4415-83d6-52487075f805\")) {                    Plotly.newPlot(                        \"85f0b3fc-c3c2-4415-83d6-52487075f805\",                        [{\"line\":{\"color\":\"#1f77b4\",\"dash\":\"dash\"},\"marker\":{\"size\":10,\"symbol\":\"circle\"},\"mode\":\"lines+markers\",\"name\":\"CORAL\",\"x\":[0.0,0.2,0.4],\"y\":[0.664,0.8349,1.0427],\"type\":\"scatter\",\"xaxis\":\"x\",\"yaxis\":\"y\"},{\"line\":{\"color\":\"#ff7f0e\",\"dash\":\"dash\"},\"marker\":{\"size\":10,\"symbol\":\"square\"},\"mode\":\"lines+markers\",\"name\":\"DLDL-v2\",\"x\":[0.0,0.2,0.4],\"y\":[0.6343,0.7618,0.8649],\"type\":\"scatter\",\"xaxis\":\"x\",\"yaxis\":\"y\"},{\"line\":{\"color\":\"#2ca02c\",\"dash\":\"dash\"},\"marker\":{\"size\":10,\"symbol\":\"diamond\"},\"mode\":\"lines+markers\",\"name\":\"ORDAC\",\"x\":[0.0,0.2,0.4],\"y\":[0.5585,0.6463,0.7352],\"type\":\"scatter\",\"xaxis\":\"x\",\"yaxis\":\"y\"},{\"line\":{\"color\":\"#d62728\",\"dash\":\"dash\"},\"marker\":{\"size\":10,\"symbol\":\"x\"},\"mode\":\"lines+markers\",\"name\":\"ORDAC_C\",\"x\":[0.0,0.2,0.4],\"y\":[0.4929,0.5642,0.6637],\"type\":\"scatter\",\"xaxis\":\"x\",\"yaxis\":\"y\"},{\"line\":{\"color\":\"#9467bd\",\"dash\":\"dash\"},\"marker\":{\"size\":10,\"symbol\":\"star\"},\"mode\":\"lines+markers\",\"name\":\"ORDAC_R\",\"x\":[0.0,0.2,0.4],\"y\":[0.5018,0.5366,0.6283],\"type\":\"scatter\",\"xaxis\":\"x\",\"yaxis\":\"y\"},{\"line\":{\"color\":\"#1f77b4\",\"dash\":\"dash\"},\"marker\":{\"size\":10,\"symbol\":\"circle\"},\"mode\":\"lines+markers\",\"name\":\"CORAL\",\"showlegend\":false,\"x\":[0.0,0.2,0.4],\"y\":[0.7721,0.8403,0.8595],\"type\":\"scatter\",\"xaxis\":\"x2\",\"yaxis\":\"y2\"},{\"line\":{\"color\":\"#ff7f0e\",\"dash\":\"dash\"},\"marker\":{\"size\":10,\"symbol\":\"square\"},\"mode\":\"lines+markers\",\"name\":\"DLDL-v2\",\"showlegend\":false,\"x\":[0.0,0.2,0.4],\"y\":[0.7324,0.8025,0.8488],\"type\":\"scatter\",\"xaxis\":\"x2\",\"yaxis\":\"y2\"},{\"line\":{\"color\":\"#2ca02c\",\"dash\":\"dash\"},\"marker\":{\"size\":10,\"symbol\":\"diamond\"},\"mode\":\"lines+markers\",\"name\":\"ORDAC\",\"showlegend\":false,\"x\":[0.0,0.2,0.4],\"y\":[0.6826,0.7114,0.8015],\"type\":\"scatter\",\"xaxis\":\"x2\",\"yaxis\":\"y2\"},{\"line\":{\"color\":\"#d62728\",\"dash\":\"dash\"},\"marker\":{\"size\":10,\"symbol\":\"x\"},\"mode\":\"lines+markers\",\"name\":\"ORDAC_C\",\"showlegend\":false,\"x\":[0.0,0.2,0.4],\"y\":[0.7084,0.7362,0.7567],\"type\":\"scatter\",\"xaxis\":\"x2\",\"yaxis\":\"y2\"},{\"line\":{\"color\":\"#9467bd\",\"dash\":\"dash\"},\"marker\":{\"size\":10,\"symbol\":\"star\"},\"mode\":\"lines+markers\",\"name\":\"ORDAC_R\",\"showlegend\":false,\"x\":[0.0,0.2,0.4],\"y\":[0.6924,0.7246,0.7436],\"type\":\"scatter\",\"xaxis\":\"x2\",\"yaxis\":\"y2\"}],                        {\"template\":{\"data\":{\"histogram2dcontour\":[{\"type\":\"histogram2dcontour\",\"colorbar\":{\"outlinewidth\":0,\"ticks\":\"\"},\"colorscale\":[[0.0,\"#0d0887\"],[0.1111111111111111,\"#46039f\"],[0.2222222222222222,\"#7201a8\"],[0.3333333333333333,\"#9c179e\"],[0.4444444444444444,\"#bd3786\"],[0.5555555555555556,\"#d8576b\"],[0.6666666666666666,\"#ed7953\"],[0.7777777777777778,\"#fb9f3a\"],[0.8888888888888888,\"#fdca26\"],[1.0,\"#f0f921\"]]}],\"choropleth\":[{\"type\":\"choropleth\",\"colorbar\":{\"outlinewidth\":0,\"ticks\":\"\"}}],\"histogram2d\":[{\"type\":\"histogram2d\",\"colorbar\":{\"outlinewidth\":0,\"ticks\":\"\"},\"colorscale\":[[0.0,\"#0d0887\"],[0.1111111111111111,\"#46039f\"],[0.2222222222222222,\"#7201a8\"],[0.3333333333333333,\"#9c179e\"],[0.4444444444444444,\"#bd3786\"],[0.5555555555555556,\"#d8576b\"],[0.6666666666666666,\"#ed7953\"],[0.7777777777777778,\"#fb9f3a\"],[0.8888888888888888,\"#fdca26\"],[1.0,\"#f0f921\"]]}],\"heatmap\":[{\"type\":\"heatmap\",\"colorbar\":{\"outlinewidth\":0,\"ticks\":\"\"},\"colorscale\":[[0.0,\"#0d0887\"],[0.1111111111111111,\"#46039f\"],[0.2222222222222222,\"#7201a8\"],[0.3333333333333333,\"#9c179e\"],[0.4444444444444444,\"#bd3786\"],[0.5555555555555556,\"#d8576b\"],[0.6666666666666666,\"#ed7953\"],[0.7777777777777778,\"#fb9f3a\"],[0.8888888888888888,\"#fdca26\"],[1.0,\"#f0f921\"]]}],\"heatmapgl\":[{\"type\":\"heatmapgl\",\"colorbar\":{\"outlinewidth\":0,\"ticks\":\"\"},\"colorscale\":[[0.0,\"#0d0887\"],[0.1111111111111111,\"#46039f\"],[0.2222222222222222,\"#7201a8\"],[0.3333333333333333,\"#9c179e\"],[0.4444444444444444,\"#bd3786\"],[0.5555555555555556,\"#d8576b\"],[0.6666666666666666,\"#ed7953\"],[0.7777777777777778,\"#fb9f3a\"],[0.8888888888888888,\"#fdca26\"],[1.0,\"#f0f921\"]]}],\"contourcarpet\":[{\"type\":\"contourcarpet\",\"colorbar\":{\"outlinewidth\":0,\"ticks\":\"\"}}],\"contour\":[{\"type\":\"contour\",\"colorbar\":{\"outlinewidth\":0,\"ticks\":\"\"},\"colorscale\":[[0.0,\"#0d0887\"],[0.1111111111111111,\"#46039f\"],[0.2222222222222222,\"#7201a8\"],[0.3333333333333333,\"#9c179e\"],[0.4444444444444444,\"#bd3786\"],[0.5555555555555556,\"#d8576b\"],[0.6666666666666666,\"#ed7953\"],[0.7777777777777778,\"#fb9f3a\"],[0.8888888888888888,\"#fdca26\"],[1.0,\"#f0f921\"]]}],\"surface\":[{\"type\":\"surface\",\"colorbar\":{\"outlinewidth\":0,\"ticks\":\"\"},\"colorscale\":[[0.0,\"#0d0887\"],[0.1111111111111111,\"#46039f\"],[0.2222222222222222,\"#7201a8\"],[0.3333333333333333,\"#9c179e\"],[0.4444444444444444,\"#bd3786\"],[0.5555555555555556,\"#d8576b\"],[0.6666666666666666,\"#ed7953\"],[0.7777777777777778,\"#fb9f3a\"],[0.8888888888888888,\"#fdca26\"],[1.0,\"#f0f921\"]]}],\"mesh3d\":[{\"type\":\"mesh3d\",\"colorbar\":{\"outlinewidth\":0,\"ticks\":\"\"}}],\"scatter\":[{\"fillpattern\":{\"fillmode\":\"overlay\",\"size\":10,\"solidity\":0.2},\"type\":\"scatter\"}],\"parcoords\":[{\"type\":\"parcoords\",\"line\":{\"colorbar\":{\"outlinewidth\":0,\"ticks\":\"\"}}}],\"scatterpolargl\":[{\"type\":\"scatterpolargl\",\"marker\":{\"colorbar\":{\"outlinewidth\":0,\"ticks\":\"\"}}}],\"bar\":[{\"error_x\":{\"color\":\"#2a3f5f\"},\"error_y\":{\"color\":\"#2a3f5f\"},\"marker\":{\"line\":{\"color\":\"#E5ECF6\",\"width\":0.5},\"pattern\":{\"fillmode\":\"overlay\",\"size\":10,\"solidity\":0.2}},\"type\":\"bar\"}],\"scattergeo\":[{\"type\":\"scattergeo\",\"marker\":{\"colorbar\":{\"outlinewidth\":0,\"ticks\":\"\"}}}],\"scatterpolar\":[{\"type\":\"scatterpolar\",\"marker\":{\"colorbar\":{\"outlinewidth\":0,\"ticks\":\"\"}}}],\"histogram\":[{\"marker\":{\"pattern\":{\"fillmode\":\"overlay\",\"size\":10,\"solidity\":0.2}},\"type\":\"histogram\"}],\"scattergl\":[{\"type\":\"scattergl\",\"marker\":{\"colorbar\":{\"outlinewidth\":0,\"ticks\":\"\"}}}],\"scatter3d\":[{\"type\":\"scatter3d\",\"line\":{\"colorbar\":{\"outlinewidth\":0,\"ticks\":\"\"}},\"marker\":{\"colorbar\":{\"outlinewidth\":0,\"ticks\":\"\"}}}],\"scattermapbox\":[{\"type\":\"scattermapbox\",\"marker\":{\"colorbar\":{\"outlinewidth\":0,\"ticks\":\"\"}}}],\"scatterternary\":[{\"type\":\"scatterternary\",\"marker\":{\"colorbar\":{\"outlinewidth\":0,\"ticks\":\"\"}}}],\"scattercarpet\":[{\"type\":\"scattercarpet\",\"marker\":{\"colorbar\":{\"outlinewidth\":0,\"ticks\":\"\"}}}],\"carpet\":[{\"aaxis\":{\"endlinecolor\":\"#2a3f5f\",\"gridcolor\":\"white\",\"linecolor\":\"white\",\"minorgridcolor\":\"white\",\"startlinecolor\":\"#2a3f5f\"},\"baxis\":{\"endlinecolor\":\"#2a3f5f\",\"gridcolor\":\"white\",\"linecolor\":\"white\",\"minorgridcolor\":\"white\",\"startlinecolor\":\"#2a3f5f\"},\"type\":\"carpet\"}],\"table\":[{\"cells\":{\"fill\":{\"color\":\"#EBF0F8\"},\"line\":{\"color\":\"white\"}},\"header\":{\"fill\":{\"color\":\"#C8D4E3\"},\"line\":{\"color\":\"white\"}},\"type\":\"table\"}],\"barpolar\":[{\"marker\":{\"line\":{\"color\":\"#E5ECF6\",\"width\":0.5},\"pattern\":{\"fillmode\":\"overlay\",\"size\":10,\"solidity\":0.2}},\"type\":\"barpolar\"}],\"pie\":[{\"automargin\":true,\"type\":\"pie\"}]},\"layout\":{\"autotypenumbers\":\"strict\",\"colorway\":[\"#636efa\",\"#EF553B\",\"#00cc96\",\"#ab63fa\",\"#FFA15A\",\"#19d3f3\",\"#FF6692\",\"#B6E880\",\"#FF97FF\",\"#FECB52\"],\"font\":{\"color\":\"#2a3f5f\"},\"hovermode\":\"closest\",\"hoverlabel\":{\"align\":\"left\"},\"paper_bgcolor\":\"white\",\"plot_bgcolor\":\"#E5ECF6\",\"polar\":{\"bgcolor\":\"#E5ECF6\",\"angularaxis\":{\"gridcolor\":\"white\",\"linecolor\":\"white\",\"ticks\":\"\"},\"radialaxis\":{\"gridcolor\":\"white\",\"linecolor\":\"white\",\"ticks\":\"\"}},\"ternary\":{\"bgcolor\":\"#E5ECF6\",\"aaxis\":{\"gridcolor\":\"white\",\"linecolor\":\"white\",\"ticks\":\"\"},\"baxis\":{\"gridcolor\":\"white\",\"linecolor\":\"white\",\"ticks\":\"\"},\"caxis\":{\"gridcolor\":\"white\",\"linecolor\":\"white\",\"ticks\":\"\"}},\"coloraxis\":{\"colorbar\":{\"outlinewidth\":0,\"ticks\":\"\"}},\"colorscale\":{\"sequential\":[[0.0,\"#0d0887\"],[0.1111111111111111,\"#46039f\"],[0.2222222222222222,\"#7201a8\"],[0.3333333333333333,\"#9c179e\"],[0.4444444444444444,\"#bd3786\"],[0.5555555555555556,\"#d8576b\"],[0.6666666666666666,\"#ed7953\"],[0.7777777777777778,\"#fb9f3a\"],[0.8888888888888888,\"#fdca26\"],[1.0,\"#f0f921\"]],\"sequentialminus\":[[0.0,\"#0d0887\"],[0.1111111111111111,\"#46039f\"],[0.2222222222222222,\"#7201a8\"],[0.3333333333333333,\"#9c179e\"],[0.4444444444444444,\"#bd3786\"],[0.5555555555555556,\"#d8576b\"],[0.6666666666666666,\"#ed7953\"],[0.7777777777777778,\"#fb9f3a\"],[0.8888888888888888,\"#fdca26\"],[1.0,\"#f0f921\"]],\"diverging\":[[0,\"#8e0152\"],[0.1,\"#c51b7d\"],[0.2,\"#de77ae\"],[0.3,\"#f1b6da\"],[0.4,\"#fde0ef\"],[0.5,\"#f7f7f7\"],[0.6,\"#e6f5d0\"],[0.7,\"#b8e186\"],[0.8,\"#7fbc41\"],[0.9,\"#4d9221\"],[1,\"#276419\"]]},\"xaxis\":{\"gridcolor\":\"white\",\"linecolor\":\"white\",\"ticks\":\"\",\"title\":{\"standoff\":15},\"zerolinecolor\":\"white\",\"automargin\":true,\"zerolinewidth\":2},\"yaxis\":{\"gridcolor\":\"white\",\"linecolor\":\"white\",\"ticks\":\"\",\"title\":{\"standoff\":15},\"zerolinecolor\":\"white\",\"automargin\":true,\"zerolinewidth\":2},\"scene\":{\"xaxis\":{\"backgroundcolor\":\"#E5ECF6\",\"gridcolor\":\"white\",\"linecolor\":\"white\",\"showbackground\":true,\"ticks\":\"\",\"zerolinecolor\":\"white\",\"gridwidth\":2},\"yaxis\":{\"backgroundcolor\":\"#E5ECF6\",\"gridcolor\":\"white\",\"linecolor\":\"white\",\"showbackground\":true,\"ticks\":\"\",\"zerolinecolor\":\"white\",\"gridwidth\":2},\"zaxis\":{\"backgroundcolor\":\"#E5ECF6\",\"gridcolor\":\"white\",\"linecolor\":\"white\",\"showbackground\":true,\"ticks\":\"\",\"zerolinecolor\":\"white\",\"gridwidth\":2}},\"shapedefaults\":{\"line\":{\"color\":\"#2a3f5f\"}},\"annotationdefaults\":{\"arrowcolor\":\"#2a3f5f\",\"arrowhead\":0,\"arrowwidth\":1},\"geo\":{\"bgcolor\":\"white\",\"landcolor\":\"#E5ECF6\",\"subunitcolor\":\"white\",\"showland\":true,\"showlakes\":true,\"lakecolor\":\"white\"},\"title\":{\"x\":0.05},\"mapbox\":{\"style\":\"light\"}}},\"xaxis\":{\"anchor\":\"y\",\"domain\":[0.0,0.45],\"title\":{\"font\":{\"family\":\"Times New Roman\",\"size\":16},\"text\":\"Noise Rate (\\u03c4)\"},\"tickfont\":{\"family\":\"Times New Roman\",\"size\":14},\"tickmode\":\"array\",\"tickvals\":[0.0,0.2,0.4],\"showgrid\":false,\"gridcolor\":\"lightgray\",\"gridwidth\":1,\"zeroline\":false},\"yaxis\":{\"anchor\":\"x\",\"domain\":[0.0,1.0],\"title\":{\"font\":{\"family\":\"Times New Roman\",\"size\":16},\"text\":\"Mean Absolute Error (MAE)\"},\"tickfont\":{\"family\":\"Times New Roman\",\"size\":14},\"showgrid\":true,\"gridcolor\":\"lightgray\",\"gridwidth\":1,\"range\":[0.4,1.1]},\"xaxis2\":{\"anchor\":\"y2\",\"domain\":[0.55,1.0],\"title\":{\"font\":{\"family\":\"Times New Roman\",\"size\":16},\"text\":\"Noise Rate (\\u03c4)\"},\"tickfont\":{\"family\":\"Times New Roman\",\"size\":14},\"tickmode\":\"array\",\"tickvals\":[0.0,0.2,0.4],\"showgrid\":false,\"gridcolor\":\"lightgray\",\"gridwidth\":1,\"zeroline\":false},\"yaxis2\":{\"anchor\":\"x2\",\"domain\":[0.0,1.0],\"title\":{\"font\":{\"family\":\"Times New Roman\",\"size\":16},\"text\":\"Mean Absolute Error (MAE)\"},\"tickfont\":{\"family\":\"Times New Roman\",\"size\":14},\"showgrid\":true,\"gridcolor\":\"lightgray\",\"gridwidth\":1,\"range\":[0.4,1.1]},\"annotations\":[{\"font\":{\"size\":16},\"showarrow\":false,\"text\":\"\\u003cspan style='font-family:Times New Roman'\\u003eAdience\\u003c\\u002fspan\\u003e\",\"x\":0.225,\"xanchor\":\"center\",\"xref\":\"paper\",\"y\":1.0,\"yanchor\":\"bottom\",\"yref\":\"paper\"},{\"font\":{\"size\":16},\"showarrow\":false,\"text\":\"\\u003cspan style='font-family:Times New Roman'\\u003eDiabetic Retinopathy\\u003c\\u002fspan\\u003e\",\"x\":0.775,\"xanchor\":\"center\",\"xref\":\"paper\",\"y\":1.0,\"yanchor\":\"bottom\",\"yref\":\"paper\"}],\"title\":{\"font\":{\"family\":\"Times New Roman\",\"size\":18},\"text\":\"\\u003cspan style='font-family:Times New Roman'\\u003ePerformance Comparison of ORDAC Method\\u003c\\u002fspan\\u003e\"},\"legend\":{\"font\":{\"family\":\"Times New Roman\",\"size\":12},\"orientation\":\"h\",\"x\":0.5,\"xanchor\":\"center\",\"y\":1.15},\"width\":1000,\"height\":500,\"plot_bgcolor\":\"white\"},                        {\"responsive\": true}                    ).then(function(){\n",
       "                            \n",
       "var gd = document.getElementById('85f0b3fc-c3c2-4415-83d6-52487075f805');\n",
       "var x = new MutationObserver(function (mutations, observer) {{\n",
       "        var display = window.getComputedStyle(gd).display;\n",
       "        if (!display || display === 'none') {{\n",
       "            console.log([gd, 'removed!']);\n",
       "            Plotly.purge(gd);\n",
       "            observer.disconnect();\n",
       "        }}\n",
       "}});\n",
       "\n",
       "// Listen for the removal of the full notebook cells\n",
       "var notebookContainer = gd.closest('#notebook-container');\n",
       "if (notebookContainer) {{\n",
       "    x.observe(notebookContainer, {childList: true});\n",
       "}}\n",
       "\n",
       "// Listen for the clearing of the current output cell\n",
       "var outputEl = gd.closest('.output');\n",
       "if (outputEl) {{\n",
       "    x.observe(outputEl, {childList: true});\n",
       "}}\n",
       "\n",
       "                        })                };                });            </script>        </div>"
      ]
     },
     "metadata": {},
     "output_type": "display_data"
    }
   ],
   "source": [
    "## MAE PLOT\n",
    "\n",
    "import plotly.graph_objects as go\n",
    "from plotly.subplots import make_subplots\n",
    "\n",
    "# Tau values\n",
    "tau = [0.0, 0.2, 0.4]\n",
    "\n",
    "# Model styling\n",
    "models = {\n",
    "    \"CORAL\": {\"color\": \"#1f77b4\", \"symbol\": \"circle\"},\n",
    "    \"DLDL-v2\": {\"color\": \"#ff7f0e\", \"symbol\": \"square\"},\n",
    "    \"ORDAC\": {\"color\": \"#2ca02c\", \"symbol\": \"diamond\"},\n",
    "    \"ORDAC_C\": {\"color\": \"#d62728\", \"symbol\": \"x\"},\n",
    "    \"ORDAC_R\": {\"color\": \"#9467bd\", \"symbol\": \"star\"},\n",
    "}\n",
    "\n",
    "# Adience MAE\n",
    "adience_mae = {\n",
    "    \"CORAL\": [0.6640, 0.8349, 1.0427],\n",
    "    \"DLDL-v2\": [0.6343, 0.7618, 0.8649],\n",
    "    \"ORDAC\": [0.5585, 0.6463, 0.7352],\n",
    "    \"ORDAC_C\": [0.4929, 0.5642, 0.6637],\n",
    "    \"ORDAC_R\": [0.5018, 0.5366, 0.6283],\n",
    "}\n",
    "\n",
    "# DR MAE (missing values replaced with 1.0)\n",
    "dr_mae = {\n",
    "    \"CORAL\": [0.7721, 0.8403, 0.8595],\n",
    "    \"DLDL-v2\": [0.7324, 0.8025, 0.8488],\n",
    "    \"ORDAC\": [0.6826, 0.7114, 0.8015],\n",
    "    \"ORDAC_C\": [0.7084, 0.7362, 0.7567],\n",
    "    \"ORDAC_R\": [0.6924, 0.7246, 0.7436],\n",
    "}\n",
    "\n",
    "# Create subplots\n",
    "fig = make_subplots(\n",
    "    rows=1, cols=2,\n",
    "    subplot_titles=(\n",
    "        \"<span style='font-family:Times New Roman'>Adience</span>\",\n",
    "        \"<span style='font-family:Times New Roman'>Diabetic Retinopathy</span>\"\n",
    "    )\n",
    ")\n",
    "\n",
    "# Plot Adience\n",
    "for model in adience_mae:\n",
    "    fig.add_trace(go.Scatter(\n",
    "        x=tau,\n",
    "        y=adience_mae[model],\n",
    "        mode='lines+markers',\n",
    "        name=model,\n",
    "        line=dict(color=models[model][\"color\"], dash='dash'),\n",
    "        marker=dict(symbol=models[model][\"symbol\"], size=10),\n",
    "    ), row=1, col=1)\n",
    "\n",
    "# Plot DR\n",
    "for model in dr_mae:\n",
    "    fig.add_trace(go.Scatter(\n",
    "        x=tau,\n",
    "        y=dr_mae[model],\n",
    "        mode='lines+markers',\n",
    "        name=model,\n",
    "        line=dict(color=models[model][\"color\"], dash='dash'),\n",
    "        marker=dict(symbol=models[model][\"symbol\"], size=10),\n",
    "        showlegend=False  # Show legend only once\n",
    "    ), row=1, col=2)\n",
    "\n",
    "# Layout\n",
    "fig.update_layout(\n",
    "    title_text=\"<span style='font-family:Times New Roman'>Performance Comparison of ORDAC Method</span>\",\n",
    "    title_font=dict(family=\"Times New Roman\", size=18),\n",
    "    width=1000,\n",
    "    height=500,\n",
    "    plot_bgcolor='white',\n",
    "    legend=dict(\n",
    "        orientation=\"h\",\n",
    "        x=0.5,\n",
    "        xanchor=\"center\",\n",
    "        y=1.15,\n",
    "        font=dict(family=\"Times New Roman\", size=12)\n",
    "    )\n",
    ")\n",
    "\n",
    "# Axis style with grid enabled\n",
    "axis_common = dict(\n",
    "    title_font=dict(family=\"Times New Roman\", size=16),\n",
    "    tickfont=dict(family=\"Times New Roman\", size=14),\n",
    "    tickmode='array',\n",
    "    tickvals=tau,\n",
    "    showgrid=False,\n",
    "    gridcolor='lightgray',\n",
    "    gridwidth=1,\n",
    "    zeroline=False,\n",
    ")\n",
    "\n",
    "# Update X and Y axes with correct labels and visible ticks/grid\n",
    "fig.update_xaxes(title_text=\"Noise Rate (τ)\", row=1, col=1, **axis_common)\n",
    "fig.update_xaxes(title_text=\"Noise Rate (τ)\", row=1, col=2, **axis_common)\n",
    "\n",
    "fig.update_yaxes(title_text=\"Mean Absolute Error (MAE)\", row=1, col=1,\n",
    "                 tickfont=dict(family=\"Times New Roman\", size=14),\n",
    "                 title_font=dict(family=\"Times New Roman\", size=16),\n",
    "                 showgrid=True, gridcolor='lightgray', gridwidth=1, range=[0.4, 1.1])\n",
    "fig.update_yaxes(title_text=\"Mean Absolute Error (MAE)\", row=1, col=2,\n",
    "                 tickfont=dict(family=\"Times New Roman\", size=14),\n",
    "                 title_font=dict(family=\"Times New Roman\", size=16),\n",
    "                 showgrid=True, gridcolor='lightgray', gridwidth=1, range=[0.4, 1.1])\n",
    "\n",
    "fig.show()\n",
    "fig.write_image(\"comparison_mae.pdf\", format=\"pdf\", engine=\"kaleido\")\n",
    "\n"
   ]
  },
  {
   "cell_type": "code",
   "execution_count": 6,
   "id": "22c56758",
   "metadata": {},
   "outputs": [
    {
     "data": {
      "application/vnd.plotly.v1+json": {
       "config": {
        "plotlyServerURL": "https://plot.ly"
       },
       "data": [
        {
         "line": {
          "color": "#1f77b4",
          "dash": "dash"
         },
         "marker": {
          "size": 10,
          "symbol": "circle"
         },
         "mode": "lines+markers",
         "name": "CORAL",
         "type": "scatter",
         "x": [
          0,
          0.2,
          0.4
         ],
         "xaxis": "x",
         "y": [
          0.4669,
          0.3985,
          0.3312
         ],
         "yaxis": "y"
        },
        {
         "line": {
          "color": "#ff7f0e",
          "dash": "dash"
         },
         "marker": {
          "size": 10,
          "symbol": "square"
         },
         "mode": "lines+markers",
         "name": "DLDL-v2",
         "type": "scatter",
         "x": [
          0,
          0.2,
          0.4
         ],
         "xaxis": "x",
         "y": [
          0.5063,
          0.4452,
          0.3775
         ],
         "yaxis": "y"
        },
        {
         "line": {
          "color": "#2ca02c",
          "dash": "dash"
         },
         "marker": {
          "size": 10,
          "symbol": "diamond"
         },
         "mode": "lines+markers",
         "name": "ORDAC",
         "type": "scatter",
         "x": [
          0,
          0.2,
          0.4
         ],
         "xaxis": "x",
         "y": [
          0.5542,
          0.4988,
          0.4456
         ],
         "yaxis": "y"
        },
        {
         "line": {
          "color": "#d62728",
          "dash": "dash"
         },
         "marker": {
          "size": 10,
          "symbol": "x"
         },
         "mode": "lines+markers",
         "name": "ORDAC_C",
         "type": "scatter",
         "x": [
          0,
          0.2,
          0.4
         ],
         "xaxis": "x",
         "y": [
          0.5968,
          0.546,
          0.4813
         ],
         "yaxis": "y"
        },
        {
         "line": {
          "color": "#9467bd",
          "dash": "dash"
         },
         "marker": {
          "size": 10,
          "symbol": "star"
         },
         "mode": "lines+markers",
         "name": "ORDAC_R",
         "type": "scatter",
         "x": [
          0,
          0.2,
          0.4
         ],
         "xaxis": "x",
         "y": [
          0.5954,
          0.5624,
          0.495
         ],
         "yaxis": "y"
        },
        {
         "line": {
          "color": "#1f77b4",
          "dash": "dash"
         },
         "marker": {
          "size": 10,
          "symbol": "circle"
         },
         "mode": "lines+markers",
         "name": "CORAL",
         "showlegend": false,
         "type": "scatter",
         "x": [
          0,
          0.2,
          0.4
         ],
         "xaxis": "x2",
         "y": [
          0.4287,
          0.3943,
          0.3702
         ],
         "yaxis": "y2"
        },
        {
         "line": {
          "color": "#ff7f0e",
          "dash": "dash"
         },
         "marker": {
          "size": 10,
          "symbol": "square"
         },
         "mode": "lines+markers",
         "name": "DLDL-v2",
         "showlegend": false,
         "type": "scatter",
         "x": [
          0,
          0.2,
          0.4
         ],
         "xaxis": "x2",
         "y": [
          0.4509,
          0.3894,
          0.3452
         ],
         "yaxis": "y2"
        },
        {
         "line": {
          "color": "#2ca02c",
          "dash": "dash"
         },
         "marker": {
          "size": 10,
          "symbol": "diamond"
         },
         "mode": "lines+markers",
         "name": "ORDAC",
         "showlegend": false,
         "type": "scatter",
         "x": [
          0,
          0.2,
          0.4
         ],
         "xaxis": "x2",
         "y": [
          0.4665,
          0.4363,
          0.3722
         ],
         "yaxis": "y2"
        },
        {
         "line": {
          "color": "#d62728",
          "dash": "dash"
         },
         "marker": {
          "size": 10,
          "symbol": "x"
         },
         "mode": "lines+markers",
         "name": "ORDAC_C",
         "showlegend": false,
         "type": "scatter",
         "x": [
          0,
          0.2,
          0.4
         ],
         "xaxis": "x2",
         "y": [
          0.4559,
          0.4208,
          0.4168
         ],
         "yaxis": "y2"
        },
        {
         "line": {
          "color": "#9467bd",
          "dash": "dash"
         },
         "marker": {
          "size": 10,
          "symbol": "star"
         },
         "mode": "lines+markers",
         "name": "ORDAC_R",
         "showlegend": false,
         "type": "scatter",
         "x": [
          0,
          0.2,
          0.4
         ],
         "xaxis": "x2",
         "y": [
          0.4599,
          0.4217,
          0.42
         ],
         "yaxis": "y2"
        }
       ],
       "layout": {
        "annotations": [
         {
          "font": {
           "size": 16
          },
          "showarrow": false,
          "text": "<span style='font-family:Times New Roman'>Adience</span>",
          "x": 0.225,
          "xanchor": "center",
          "xref": "paper",
          "y": 1,
          "yanchor": "bottom",
          "yref": "paper"
         },
         {
          "font": {
           "size": 16
          },
          "showarrow": false,
          "text": "<span style='font-family:Times New Roman'>Diabetic Retinopathy</span>",
          "x": 0.775,
          "xanchor": "center",
          "xref": "paper",
          "y": 1,
          "yanchor": "bottom",
          "yref": "paper"
         }
        ],
        "height": 500,
        "legend": {
         "font": {
          "family": "Times New Roman",
          "size": 12
         },
         "orientation": "h",
         "x": 0.5,
         "xanchor": "center",
         "y": 1.15
        },
        "plot_bgcolor": "white",
        "template": {
         "data": {
          "bar": [
           {
            "error_x": {
             "color": "#2a3f5f"
            },
            "error_y": {
             "color": "#2a3f5f"
            },
            "marker": {
             "line": {
              "color": "#E5ECF6",
              "width": 0.5
             },
             "pattern": {
              "fillmode": "overlay",
              "size": 10,
              "solidity": 0.2
             }
            },
            "type": "bar"
           }
          ],
          "barpolar": [
           {
            "marker": {
             "line": {
              "color": "#E5ECF6",
              "width": 0.5
             },
             "pattern": {
              "fillmode": "overlay",
              "size": 10,
              "solidity": 0.2
             }
            },
            "type": "barpolar"
           }
          ],
          "carpet": [
           {
            "aaxis": {
             "endlinecolor": "#2a3f5f",
             "gridcolor": "white",
             "linecolor": "white",
             "minorgridcolor": "white",
             "startlinecolor": "#2a3f5f"
            },
            "baxis": {
             "endlinecolor": "#2a3f5f",
             "gridcolor": "white",
             "linecolor": "white",
             "minorgridcolor": "white",
             "startlinecolor": "#2a3f5f"
            },
            "type": "carpet"
           }
          ],
          "choropleth": [
           {
            "colorbar": {
             "outlinewidth": 0,
             "ticks": ""
            },
            "type": "choropleth"
           }
          ],
          "contour": [
           {
            "colorbar": {
             "outlinewidth": 0,
             "ticks": ""
            },
            "colorscale": [
             [
              0,
              "#0d0887"
             ],
             [
              0.1111111111111111,
              "#46039f"
             ],
             [
              0.2222222222222222,
              "#7201a8"
             ],
             [
              0.3333333333333333,
              "#9c179e"
             ],
             [
              0.4444444444444444,
              "#bd3786"
             ],
             [
              0.5555555555555556,
              "#d8576b"
             ],
             [
              0.6666666666666666,
              "#ed7953"
             ],
             [
              0.7777777777777778,
              "#fb9f3a"
             ],
             [
              0.8888888888888888,
              "#fdca26"
             ],
             [
              1,
              "#f0f921"
             ]
            ],
            "type": "contour"
           }
          ],
          "contourcarpet": [
           {
            "colorbar": {
             "outlinewidth": 0,
             "ticks": ""
            },
            "type": "contourcarpet"
           }
          ],
          "heatmap": [
           {
            "colorbar": {
             "outlinewidth": 0,
             "ticks": ""
            },
            "colorscale": [
             [
              0,
              "#0d0887"
             ],
             [
              0.1111111111111111,
              "#46039f"
             ],
             [
              0.2222222222222222,
              "#7201a8"
             ],
             [
              0.3333333333333333,
              "#9c179e"
             ],
             [
              0.4444444444444444,
              "#bd3786"
             ],
             [
              0.5555555555555556,
              "#d8576b"
             ],
             [
              0.6666666666666666,
              "#ed7953"
             ],
             [
              0.7777777777777778,
              "#fb9f3a"
             ],
             [
              0.8888888888888888,
              "#fdca26"
             ],
             [
              1,
              "#f0f921"
             ]
            ],
            "type": "heatmap"
           }
          ],
          "heatmapgl": [
           {
            "colorbar": {
             "outlinewidth": 0,
             "ticks": ""
            },
            "colorscale": [
             [
              0,
              "#0d0887"
             ],
             [
              0.1111111111111111,
              "#46039f"
             ],
             [
              0.2222222222222222,
              "#7201a8"
             ],
             [
              0.3333333333333333,
              "#9c179e"
             ],
             [
              0.4444444444444444,
              "#bd3786"
             ],
             [
              0.5555555555555556,
              "#d8576b"
             ],
             [
              0.6666666666666666,
              "#ed7953"
             ],
             [
              0.7777777777777778,
              "#fb9f3a"
             ],
             [
              0.8888888888888888,
              "#fdca26"
             ],
             [
              1,
              "#f0f921"
             ]
            ],
            "type": "heatmapgl"
           }
          ],
          "histogram": [
           {
            "marker": {
             "pattern": {
              "fillmode": "overlay",
              "size": 10,
              "solidity": 0.2
             }
            },
            "type": "histogram"
           }
          ],
          "histogram2d": [
           {
            "colorbar": {
             "outlinewidth": 0,
             "ticks": ""
            },
            "colorscale": [
             [
              0,
              "#0d0887"
             ],
             [
              0.1111111111111111,
              "#46039f"
             ],
             [
              0.2222222222222222,
              "#7201a8"
             ],
             [
              0.3333333333333333,
              "#9c179e"
             ],
             [
              0.4444444444444444,
              "#bd3786"
             ],
             [
              0.5555555555555556,
              "#d8576b"
             ],
             [
              0.6666666666666666,
              "#ed7953"
             ],
             [
              0.7777777777777778,
              "#fb9f3a"
             ],
             [
              0.8888888888888888,
              "#fdca26"
             ],
             [
              1,
              "#f0f921"
             ]
            ],
            "type": "histogram2d"
           }
          ],
          "histogram2dcontour": [
           {
            "colorbar": {
             "outlinewidth": 0,
             "ticks": ""
            },
            "colorscale": [
             [
              0,
              "#0d0887"
             ],
             [
              0.1111111111111111,
              "#46039f"
             ],
             [
              0.2222222222222222,
              "#7201a8"
             ],
             [
              0.3333333333333333,
              "#9c179e"
             ],
             [
              0.4444444444444444,
              "#bd3786"
             ],
             [
              0.5555555555555556,
              "#d8576b"
             ],
             [
              0.6666666666666666,
              "#ed7953"
             ],
             [
              0.7777777777777778,
              "#fb9f3a"
             ],
             [
              0.8888888888888888,
              "#fdca26"
             ],
             [
              1,
              "#f0f921"
             ]
            ],
            "type": "histogram2dcontour"
           }
          ],
          "mesh3d": [
           {
            "colorbar": {
             "outlinewidth": 0,
             "ticks": ""
            },
            "type": "mesh3d"
           }
          ],
          "parcoords": [
           {
            "line": {
             "colorbar": {
              "outlinewidth": 0,
              "ticks": ""
             }
            },
            "type": "parcoords"
           }
          ],
          "pie": [
           {
            "automargin": true,
            "type": "pie"
           }
          ],
          "scatter": [
           {
            "fillpattern": {
             "fillmode": "overlay",
             "size": 10,
             "solidity": 0.2
            },
            "type": "scatter"
           }
          ],
          "scatter3d": [
           {
            "line": {
             "colorbar": {
              "outlinewidth": 0,
              "ticks": ""
             }
            },
            "marker": {
             "colorbar": {
              "outlinewidth": 0,
              "ticks": ""
             }
            },
            "type": "scatter3d"
           }
          ],
          "scattercarpet": [
           {
            "marker": {
             "colorbar": {
              "outlinewidth": 0,
              "ticks": ""
             }
            },
            "type": "scattercarpet"
           }
          ],
          "scattergeo": [
           {
            "marker": {
             "colorbar": {
              "outlinewidth": 0,
              "ticks": ""
             }
            },
            "type": "scattergeo"
           }
          ],
          "scattergl": [
           {
            "marker": {
             "colorbar": {
              "outlinewidth": 0,
              "ticks": ""
             }
            },
            "type": "scattergl"
           }
          ],
          "scattermapbox": [
           {
            "marker": {
             "colorbar": {
              "outlinewidth": 0,
              "ticks": ""
             }
            },
            "type": "scattermapbox"
           }
          ],
          "scatterpolar": [
           {
            "marker": {
             "colorbar": {
              "outlinewidth": 0,
              "ticks": ""
             }
            },
            "type": "scatterpolar"
           }
          ],
          "scatterpolargl": [
           {
            "marker": {
             "colorbar": {
              "outlinewidth": 0,
              "ticks": ""
             }
            },
            "type": "scatterpolargl"
           }
          ],
          "scatterternary": [
           {
            "marker": {
             "colorbar": {
              "outlinewidth": 0,
              "ticks": ""
             }
            },
            "type": "scatterternary"
           }
          ],
          "surface": [
           {
            "colorbar": {
             "outlinewidth": 0,
             "ticks": ""
            },
            "colorscale": [
             [
              0,
              "#0d0887"
             ],
             [
              0.1111111111111111,
              "#46039f"
             ],
             [
              0.2222222222222222,
              "#7201a8"
             ],
             [
              0.3333333333333333,
              "#9c179e"
             ],
             [
              0.4444444444444444,
              "#bd3786"
             ],
             [
              0.5555555555555556,
              "#d8576b"
             ],
             [
              0.6666666666666666,
              "#ed7953"
             ],
             [
              0.7777777777777778,
              "#fb9f3a"
             ],
             [
              0.8888888888888888,
              "#fdca26"
             ],
             [
              1,
              "#f0f921"
             ]
            ],
            "type": "surface"
           }
          ],
          "table": [
           {
            "cells": {
             "fill": {
              "color": "#EBF0F8"
             },
             "line": {
              "color": "white"
             }
            },
            "header": {
             "fill": {
              "color": "#C8D4E3"
             },
             "line": {
              "color": "white"
             }
            },
            "type": "table"
           }
          ]
         },
         "layout": {
          "annotationdefaults": {
           "arrowcolor": "#2a3f5f",
           "arrowhead": 0,
           "arrowwidth": 1
          },
          "autotypenumbers": "strict",
          "coloraxis": {
           "colorbar": {
            "outlinewidth": 0,
            "ticks": ""
           }
          },
          "colorscale": {
           "diverging": [
            [
             0,
             "#8e0152"
            ],
            [
             0.1,
             "#c51b7d"
            ],
            [
             0.2,
             "#de77ae"
            ],
            [
             0.3,
             "#f1b6da"
            ],
            [
             0.4,
             "#fde0ef"
            ],
            [
             0.5,
             "#f7f7f7"
            ],
            [
             0.6,
             "#e6f5d0"
            ],
            [
             0.7,
             "#b8e186"
            ],
            [
             0.8,
             "#7fbc41"
            ],
            [
             0.9,
             "#4d9221"
            ],
            [
             1,
             "#276419"
            ]
           ],
           "sequential": [
            [
             0,
             "#0d0887"
            ],
            [
             0.1111111111111111,
             "#46039f"
            ],
            [
             0.2222222222222222,
             "#7201a8"
            ],
            [
             0.3333333333333333,
             "#9c179e"
            ],
            [
             0.4444444444444444,
             "#bd3786"
            ],
            [
             0.5555555555555556,
             "#d8576b"
            ],
            [
             0.6666666666666666,
             "#ed7953"
            ],
            [
             0.7777777777777778,
             "#fb9f3a"
            ],
            [
             0.8888888888888888,
             "#fdca26"
            ],
            [
             1,
             "#f0f921"
            ]
           ],
           "sequentialminus": [
            [
             0,
             "#0d0887"
            ],
            [
             0.1111111111111111,
             "#46039f"
            ],
            [
             0.2222222222222222,
             "#7201a8"
            ],
            [
             0.3333333333333333,
             "#9c179e"
            ],
            [
             0.4444444444444444,
             "#bd3786"
            ],
            [
             0.5555555555555556,
             "#d8576b"
            ],
            [
             0.6666666666666666,
             "#ed7953"
            ],
            [
             0.7777777777777778,
             "#fb9f3a"
            ],
            [
             0.8888888888888888,
             "#fdca26"
            ],
            [
             1,
             "#f0f921"
            ]
           ]
          },
          "colorway": [
           "#636efa",
           "#EF553B",
           "#00cc96",
           "#ab63fa",
           "#FFA15A",
           "#19d3f3",
           "#FF6692",
           "#B6E880",
           "#FF97FF",
           "#FECB52"
          ],
          "font": {
           "color": "#2a3f5f"
          },
          "geo": {
           "bgcolor": "white",
           "lakecolor": "white",
           "landcolor": "#E5ECF6",
           "showlakes": true,
           "showland": true,
           "subunitcolor": "white"
          },
          "hoverlabel": {
           "align": "left"
          },
          "hovermode": "closest",
          "mapbox": {
           "style": "light"
          },
          "paper_bgcolor": "white",
          "plot_bgcolor": "#E5ECF6",
          "polar": {
           "angularaxis": {
            "gridcolor": "white",
            "linecolor": "white",
            "ticks": ""
           },
           "bgcolor": "#E5ECF6",
           "radialaxis": {
            "gridcolor": "white",
            "linecolor": "white",
            "ticks": ""
           }
          },
          "scene": {
           "xaxis": {
            "backgroundcolor": "#E5ECF6",
            "gridcolor": "white",
            "gridwidth": 2,
            "linecolor": "white",
            "showbackground": true,
            "ticks": "",
            "zerolinecolor": "white"
           },
           "yaxis": {
            "backgroundcolor": "#E5ECF6",
            "gridcolor": "white",
            "gridwidth": 2,
            "linecolor": "white",
            "showbackground": true,
            "ticks": "",
            "zerolinecolor": "white"
           },
           "zaxis": {
            "backgroundcolor": "#E5ECF6",
            "gridcolor": "white",
            "gridwidth": 2,
            "linecolor": "white",
            "showbackground": true,
            "ticks": "",
            "zerolinecolor": "white"
           }
          },
          "shapedefaults": {
           "line": {
            "color": "#2a3f5f"
           }
          },
          "ternary": {
           "aaxis": {
            "gridcolor": "white",
            "linecolor": "white",
            "ticks": ""
           },
           "baxis": {
            "gridcolor": "white",
            "linecolor": "white",
            "ticks": ""
           },
           "bgcolor": "#E5ECF6",
           "caxis": {
            "gridcolor": "white",
            "linecolor": "white",
            "ticks": ""
           }
          },
          "title": {
           "x": 0.05
          },
          "xaxis": {
           "automargin": true,
           "gridcolor": "white",
           "linecolor": "white",
           "ticks": "",
           "title": {
            "standoff": 15
           },
           "zerolinecolor": "white",
           "zerolinewidth": 2
          },
          "yaxis": {
           "automargin": true,
           "gridcolor": "white",
           "linecolor": "white",
           "ticks": "",
           "title": {
            "standoff": 15
           },
           "zerolinecolor": "white",
           "zerolinewidth": 2
          }
         }
        },
        "title": {
         "font": {
          "family": "Times New Roman",
          "size": 18
         },
         "text": "<span style='font-family:Times New Roman'>Performance Comparison of ORDAC Method</span>"
        },
        "width": 1000,
        "xaxis": {
         "anchor": "y",
         "domain": [
          0,
          0.45
         ],
         "gridcolor": "lightgray",
         "gridwidth": 1,
         "showgrid": false,
         "tickfont": {
          "family": "Times New Roman",
          "size": 14
         },
         "tickmode": "array",
         "tickvals": [
          0,
          0.2,
          0.4
         ],
         "title": {
          "font": {
           "family": "Times New Roman",
           "size": 16
          },
          "text": "Noise Rate (τ)"
         },
         "zeroline": false
        },
        "xaxis2": {
         "anchor": "y2",
         "domain": [
          0.55,
          1
         ],
         "gridcolor": "lightgray",
         "gridwidth": 1,
         "showgrid": false,
         "tickfont": {
          "family": "Times New Roman",
          "size": 14
         },
         "tickmode": "array",
         "tickvals": [
          0,
          0.2,
          0.4
         ],
         "title": {
          "font": {
           "family": "Times New Roman",
           "size": 16
          },
          "text": "Noise Rate (τ)"
         },
         "zeroline": false
        },
        "yaxis": {
         "anchor": "x",
         "domain": [
          0,
          1
         ],
         "gridcolor": "lightgray",
         "gridwidth": 1,
         "range": [
          0.3,
          0.62
         ],
         "showgrid": true,
         "tickfont": {
          "family": "Times New Roman",
          "size": 14
         },
         "title": {
          "font": {
           "family": "Times New Roman",
           "size": 16
          },
          "text": "Macro Averaged Recall (REC)"
         }
        },
        "yaxis2": {
         "anchor": "x2",
         "domain": [
          0,
          1
         ],
         "gridcolor": "lightgray",
         "gridwidth": 1,
         "range": [
          0.3,
          0.62
         ],
         "showgrid": true,
         "tickfont": {
          "family": "Times New Roman",
          "size": 14
         },
         "title": {
          "font": {
           "family": "Times New Roman",
           "size": 16
          },
          "text": "Macro Averaged Recall (REC)"
         }
        }
       }
      },
      "text/html": [
       "<div>                            <div id=\"6b0fb6cc-55fc-4682-9814-49065a40e6de\" class=\"plotly-graph-div\" style=\"height:500px; width:1000px;\"></div>            <script type=\"text/javascript\">                require([\"plotly\"], function(Plotly) {                    window.PLOTLYENV=window.PLOTLYENV || {};                                    if (document.getElementById(\"6b0fb6cc-55fc-4682-9814-49065a40e6de\")) {                    Plotly.newPlot(                        \"6b0fb6cc-55fc-4682-9814-49065a40e6de\",                        [{\"line\":{\"color\":\"#1f77b4\",\"dash\":\"dash\"},\"marker\":{\"size\":10,\"symbol\":\"circle\"},\"mode\":\"lines+markers\",\"name\":\"CORAL\",\"x\":[0.0,0.2,0.4],\"y\":[0.4669,0.3985,0.3312],\"type\":\"scatter\",\"xaxis\":\"x\",\"yaxis\":\"y\"},{\"line\":{\"color\":\"#ff7f0e\",\"dash\":\"dash\"},\"marker\":{\"size\":10,\"symbol\":\"square\"},\"mode\":\"lines+markers\",\"name\":\"DLDL-v2\",\"x\":[0.0,0.2,0.4],\"y\":[0.5063,0.4452,0.3775],\"type\":\"scatter\",\"xaxis\":\"x\",\"yaxis\":\"y\"},{\"line\":{\"color\":\"#2ca02c\",\"dash\":\"dash\"},\"marker\":{\"size\":10,\"symbol\":\"diamond\"},\"mode\":\"lines+markers\",\"name\":\"ORDAC\",\"x\":[0.0,0.2,0.4],\"y\":[0.5542,0.4988,0.4456],\"type\":\"scatter\",\"xaxis\":\"x\",\"yaxis\":\"y\"},{\"line\":{\"color\":\"#d62728\",\"dash\":\"dash\"},\"marker\":{\"size\":10,\"symbol\":\"x\"},\"mode\":\"lines+markers\",\"name\":\"ORDAC_C\",\"x\":[0.0,0.2,0.4],\"y\":[0.5968,0.546,0.4813],\"type\":\"scatter\",\"xaxis\":\"x\",\"yaxis\":\"y\"},{\"line\":{\"color\":\"#9467bd\",\"dash\":\"dash\"},\"marker\":{\"size\":10,\"symbol\":\"star\"},\"mode\":\"lines+markers\",\"name\":\"ORDAC_R\",\"x\":[0.0,0.2,0.4],\"y\":[0.5954,0.5624,0.495],\"type\":\"scatter\",\"xaxis\":\"x\",\"yaxis\":\"y\"},{\"line\":{\"color\":\"#1f77b4\",\"dash\":\"dash\"},\"marker\":{\"size\":10,\"symbol\":\"circle\"},\"mode\":\"lines+markers\",\"name\":\"CORAL\",\"showlegend\":false,\"x\":[0.0,0.2,0.4],\"y\":[0.4287,0.3943,0.3702],\"type\":\"scatter\",\"xaxis\":\"x2\",\"yaxis\":\"y2\"},{\"line\":{\"color\":\"#ff7f0e\",\"dash\":\"dash\"},\"marker\":{\"size\":10,\"symbol\":\"square\"},\"mode\":\"lines+markers\",\"name\":\"DLDL-v2\",\"showlegend\":false,\"x\":[0.0,0.2,0.4],\"y\":[0.4509,0.3894,0.3452],\"type\":\"scatter\",\"xaxis\":\"x2\",\"yaxis\":\"y2\"},{\"line\":{\"color\":\"#2ca02c\",\"dash\":\"dash\"},\"marker\":{\"size\":10,\"symbol\":\"diamond\"},\"mode\":\"lines+markers\",\"name\":\"ORDAC\",\"showlegend\":false,\"x\":[0.0,0.2,0.4],\"y\":[0.4665,0.4363,0.3722],\"type\":\"scatter\",\"xaxis\":\"x2\",\"yaxis\":\"y2\"},{\"line\":{\"color\":\"#d62728\",\"dash\":\"dash\"},\"marker\":{\"size\":10,\"symbol\":\"x\"},\"mode\":\"lines+markers\",\"name\":\"ORDAC_C\",\"showlegend\":false,\"x\":[0.0,0.2,0.4],\"y\":[0.4559,0.4208,0.4168],\"type\":\"scatter\",\"xaxis\":\"x2\",\"yaxis\":\"y2\"},{\"line\":{\"color\":\"#9467bd\",\"dash\":\"dash\"},\"marker\":{\"size\":10,\"symbol\":\"star\"},\"mode\":\"lines+markers\",\"name\":\"ORDAC_R\",\"showlegend\":false,\"x\":[0.0,0.2,0.4],\"y\":[0.4599,0.4217,0.42],\"type\":\"scatter\",\"xaxis\":\"x2\",\"yaxis\":\"y2\"}],                        {\"template\":{\"data\":{\"histogram2dcontour\":[{\"type\":\"histogram2dcontour\",\"colorbar\":{\"outlinewidth\":0,\"ticks\":\"\"},\"colorscale\":[[0.0,\"#0d0887\"],[0.1111111111111111,\"#46039f\"],[0.2222222222222222,\"#7201a8\"],[0.3333333333333333,\"#9c179e\"],[0.4444444444444444,\"#bd3786\"],[0.5555555555555556,\"#d8576b\"],[0.6666666666666666,\"#ed7953\"],[0.7777777777777778,\"#fb9f3a\"],[0.8888888888888888,\"#fdca26\"],[1.0,\"#f0f921\"]]}],\"choropleth\":[{\"type\":\"choropleth\",\"colorbar\":{\"outlinewidth\":0,\"ticks\":\"\"}}],\"histogram2d\":[{\"type\":\"histogram2d\",\"colorbar\":{\"outlinewidth\":0,\"ticks\":\"\"},\"colorscale\":[[0.0,\"#0d0887\"],[0.1111111111111111,\"#46039f\"],[0.2222222222222222,\"#7201a8\"],[0.3333333333333333,\"#9c179e\"],[0.4444444444444444,\"#bd3786\"],[0.5555555555555556,\"#d8576b\"],[0.6666666666666666,\"#ed7953\"],[0.7777777777777778,\"#fb9f3a\"],[0.8888888888888888,\"#fdca26\"],[1.0,\"#f0f921\"]]}],\"heatmap\":[{\"type\":\"heatmap\",\"colorbar\":{\"outlinewidth\":0,\"ticks\":\"\"},\"colorscale\":[[0.0,\"#0d0887\"],[0.1111111111111111,\"#46039f\"],[0.2222222222222222,\"#7201a8\"],[0.3333333333333333,\"#9c179e\"],[0.4444444444444444,\"#bd3786\"],[0.5555555555555556,\"#d8576b\"],[0.6666666666666666,\"#ed7953\"],[0.7777777777777778,\"#fb9f3a\"],[0.8888888888888888,\"#fdca26\"],[1.0,\"#f0f921\"]]}],\"heatmapgl\":[{\"type\":\"heatmapgl\",\"colorbar\":{\"outlinewidth\":0,\"ticks\":\"\"},\"colorscale\":[[0.0,\"#0d0887\"],[0.1111111111111111,\"#46039f\"],[0.2222222222222222,\"#7201a8\"],[0.3333333333333333,\"#9c179e\"],[0.4444444444444444,\"#bd3786\"],[0.5555555555555556,\"#d8576b\"],[0.6666666666666666,\"#ed7953\"],[0.7777777777777778,\"#fb9f3a\"],[0.8888888888888888,\"#fdca26\"],[1.0,\"#f0f921\"]]}],\"contourcarpet\":[{\"type\":\"contourcarpet\",\"colorbar\":{\"outlinewidth\":0,\"ticks\":\"\"}}],\"contour\":[{\"type\":\"contour\",\"colorbar\":{\"outlinewidth\":0,\"ticks\":\"\"},\"colorscale\":[[0.0,\"#0d0887\"],[0.1111111111111111,\"#46039f\"],[0.2222222222222222,\"#7201a8\"],[0.3333333333333333,\"#9c179e\"],[0.4444444444444444,\"#bd3786\"],[0.5555555555555556,\"#d8576b\"],[0.6666666666666666,\"#ed7953\"],[0.7777777777777778,\"#fb9f3a\"],[0.8888888888888888,\"#fdca26\"],[1.0,\"#f0f921\"]]}],\"surface\":[{\"type\":\"surface\",\"colorbar\":{\"outlinewidth\":0,\"ticks\":\"\"},\"colorscale\":[[0.0,\"#0d0887\"],[0.1111111111111111,\"#46039f\"],[0.2222222222222222,\"#7201a8\"],[0.3333333333333333,\"#9c179e\"],[0.4444444444444444,\"#bd3786\"],[0.5555555555555556,\"#d8576b\"],[0.6666666666666666,\"#ed7953\"],[0.7777777777777778,\"#fb9f3a\"],[0.8888888888888888,\"#fdca26\"],[1.0,\"#f0f921\"]]}],\"mesh3d\":[{\"type\":\"mesh3d\",\"colorbar\":{\"outlinewidth\":0,\"ticks\":\"\"}}],\"scatter\":[{\"fillpattern\":{\"fillmode\":\"overlay\",\"size\":10,\"solidity\":0.2},\"type\":\"scatter\"}],\"parcoords\":[{\"type\":\"parcoords\",\"line\":{\"colorbar\":{\"outlinewidth\":0,\"ticks\":\"\"}}}],\"scatterpolargl\":[{\"type\":\"scatterpolargl\",\"marker\":{\"colorbar\":{\"outlinewidth\":0,\"ticks\":\"\"}}}],\"bar\":[{\"error_x\":{\"color\":\"#2a3f5f\"},\"error_y\":{\"color\":\"#2a3f5f\"},\"marker\":{\"line\":{\"color\":\"#E5ECF6\",\"width\":0.5},\"pattern\":{\"fillmode\":\"overlay\",\"size\":10,\"solidity\":0.2}},\"type\":\"bar\"}],\"scattergeo\":[{\"type\":\"scattergeo\",\"marker\":{\"colorbar\":{\"outlinewidth\":0,\"ticks\":\"\"}}}],\"scatterpolar\":[{\"type\":\"scatterpolar\",\"marker\":{\"colorbar\":{\"outlinewidth\":0,\"ticks\":\"\"}}}],\"histogram\":[{\"marker\":{\"pattern\":{\"fillmode\":\"overlay\",\"size\":10,\"solidity\":0.2}},\"type\":\"histogram\"}],\"scattergl\":[{\"type\":\"scattergl\",\"marker\":{\"colorbar\":{\"outlinewidth\":0,\"ticks\":\"\"}}}],\"scatter3d\":[{\"type\":\"scatter3d\",\"line\":{\"colorbar\":{\"outlinewidth\":0,\"ticks\":\"\"}},\"marker\":{\"colorbar\":{\"outlinewidth\":0,\"ticks\":\"\"}}}],\"scattermapbox\":[{\"type\":\"scattermapbox\",\"marker\":{\"colorbar\":{\"outlinewidth\":0,\"ticks\":\"\"}}}],\"scatterternary\":[{\"type\":\"scatterternary\",\"marker\":{\"colorbar\":{\"outlinewidth\":0,\"ticks\":\"\"}}}],\"scattercarpet\":[{\"type\":\"scattercarpet\",\"marker\":{\"colorbar\":{\"outlinewidth\":0,\"ticks\":\"\"}}}],\"carpet\":[{\"aaxis\":{\"endlinecolor\":\"#2a3f5f\",\"gridcolor\":\"white\",\"linecolor\":\"white\",\"minorgridcolor\":\"white\",\"startlinecolor\":\"#2a3f5f\"},\"baxis\":{\"endlinecolor\":\"#2a3f5f\",\"gridcolor\":\"white\",\"linecolor\":\"white\",\"minorgridcolor\":\"white\",\"startlinecolor\":\"#2a3f5f\"},\"type\":\"carpet\"}],\"table\":[{\"cells\":{\"fill\":{\"color\":\"#EBF0F8\"},\"line\":{\"color\":\"white\"}},\"header\":{\"fill\":{\"color\":\"#C8D4E3\"},\"line\":{\"color\":\"white\"}},\"type\":\"table\"}],\"barpolar\":[{\"marker\":{\"line\":{\"color\":\"#E5ECF6\",\"width\":0.5},\"pattern\":{\"fillmode\":\"overlay\",\"size\":10,\"solidity\":0.2}},\"type\":\"barpolar\"}],\"pie\":[{\"automargin\":true,\"type\":\"pie\"}]},\"layout\":{\"autotypenumbers\":\"strict\",\"colorway\":[\"#636efa\",\"#EF553B\",\"#00cc96\",\"#ab63fa\",\"#FFA15A\",\"#19d3f3\",\"#FF6692\",\"#B6E880\",\"#FF97FF\",\"#FECB52\"],\"font\":{\"color\":\"#2a3f5f\"},\"hovermode\":\"closest\",\"hoverlabel\":{\"align\":\"left\"},\"paper_bgcolor\":\"white\",\"plot_bgcolor\":\"#E5ECF6\",\"polar\":{\"bgcolor\":\"#E5ECF6\",\"angularaxis\":{\"gridcolor\":\"white\",\"linecolor\":\"white\",\"ticks\":\"\"},\"radialaxis\":{\"gridcolor\":\"white\",\"linecolor\":\"white\",\"ticks\":\"\"}},\"ternary\":{\"bgcolor\":\"#E5ECF6\",\"aaxis\":{\"gridcolor\":\"white\",\"linecolor\":\"white\",\"ticks\":\"\"},\"baxis\":{\"gridcolor\":\"white\",\"linecolor\":\"white\",\"ticks\":\"\"},\"caxis\":{\"gridcolor\":\"white\",\"linecolor\":\"white\",\"ticks\":\"\"}},\"coloraxis\":{\"colorbar\":{\"outlinewidth\":0,\"ticks\":\"\"}},\"colorscale\":{\"sequential\":[[0.0,\"#0d0887\"],[0.1111111111111111,\"#46039f\"],[0.2222222222222222,\"#7201a8\"],[0.3333333333333333,\"#9c179e\"],[0.4444444444444444,\"#bd3786\"],[0.5555555555555556,\"#d8576b\"],[0.6666666666666666,\"#ed7953\"],[0.7777777777777778,\"#fb9f3a\"],[0.8888888888888888,\"#fdca26\"],[1.0,\"#f0f921\"]],\"sequentialminus\":[[0.0,\"#0d0887\"],[0.1111111111111111,\"#46039f\"],[0.2222222222222222,\"#7201a8\"],[0.3333333333333333,\"#9c179e\"],[0.4444444444444444,\"#bd3786\"],[0.5555555555555556,\"#d8576b\"],[0.6666666666666666,\"#ed7953\"],[0.7777777777777778,\"#fb9f3a\"],[0.8888888888888888,\"#fdca26\"],[1.0,\"#f0f921\"]],\"diverging\":[[0,\"#8e0152\"],[0.1,\"#c51b7d\"],[0.2,\"#de77ae\"],[0.3,\"#f1b6da\"],[0.4,\"#fde0ef\"],[0.5,\"#f7f7f7\"],[0.6,\"#e6f5d0\"],[0.7,\"#b8e186\"],[0.8,\"#7fbc41\"],[0.9,\"#4d9221\"],[1,\"#276419\"]]},\"xaxis\":{\"gridcolor\":\"white\",\"linecolor\":\"white\",\"ticks\":\"\",\"title\":{\"standoff\":15},\"zerolinecolor\":\"white\",\"automargin\":true,\"zerolinewidth\":2},\"yaxis\":{\"gridcolor\":\"white\",\"linecolor\":\"white\",\"ticks\":\"\",\"title\":{\"standoff\":15},\"zerolinecolor\":\"white\",\"automargin\":true,\"zerolinewidth\":2},\"scene\":{\"xaxis\":{\"backgroundcolor\":\"#E5ECF6\",\"gridcolor\":\"white\",\"linecolor\":\"white\",\"showbackground\":true,\"ticks\":\"\",\"zerolinecolor\":\"white\",\"gridwidth\":2},\"yaxis\":{\"backgroundcolor\":\"#E5ECF6\",\"gridcolor\":\"white\",\"linecolor\":\"white\",\"showbackground\":true,\"ticks\":\"\",\"zerolinecolor\":\"white\",\"gridwidth\":2},\"zaxis\":{\"backgroundcolor\":\"#E5ECF6\",\"gridcolor\":\"white\",\"linecolor\":\"white\",\"showbackground\":true,\"ticks\":\"\",\"zerolinecolor\":\"white\",\"gridwidth\":2}},\"shapedefaults\":{\"line\":{\"color\":\"#2a3f5f\"}},\"annotationdefaults\":{\"arrowcolor\":\"#2a3f5f\",\"arrowhead\":0,\"arrowwidth\":1},\"geo\":{\"bgcolor\":\"white\",\"landcolor\":\"#E5ECF6\",\"subunitcolor\":\"white\",\"showland\":true,\"showlakes\":true,\"lakecolor\":\"white\"},\"title\":{\"x\":0.05},\"mapbox\":{\"style\":\"light\"}}},\"xaxis\":{\"anchor\":\"y\",\"domain\":[0.0,0.45],\"title\":{\"font\":{\"family\":\"Times New Roman\",\"size\":16},\"text\":\"Noise Rate (\\u03c4)\"},\"tickfont\":{\"family\":\"Times New Roman\",\"size\":14},\"tickmode\":\"array\",\"tickvals\":[0.0,0.2,0.4],\"showgrid\":false,\"gridcolor\":\"lightgray\",\"gridwidth\":1,\"zeroline\":false},\"yaxis\":{\"anchor\":\"x\",\"domain\":[0.0,1.0],\"title\":{\"font\":{\"family\":\"Times New Roman\",\"size\":16},\"text\":\"Macro Averaged Recall (REC)\"},\"tickfont\":{\"family\":\"Times New Roman\",\"size\":14},\"showgrid\":true,\"gridcolor\":\"lightgray\",\"gridwidth\":1,\"range\":[0.3,0.62]},\"xaxis2\":{\"anchor\":\"y2\",\"domain\":[0.55,1.0],\"title\":{\"font\":{\"family\":\"Times New Roman\",\"size\":16},\"text\":\"Noise Rate (\\u03c4)\"},\"tickfont\":{\"family\":\"Times New Roman\",\"size\":14},\"tickmode\":\"array\",\"tickvals\":[0.0,0.2,0.4],\"showgrid\":false,\"gridcolor\":\"lightgray\",\"gridwidth\":1,\"zeroline\":false},\"yaxis2\":{\"anchor\":\"x2\",\"domain\":[0.0,1.0],\"title\":{\"font\":{\"family\":\"Times New Roman\",\"size\":16},\"text\":\"Macro Averaged Recall (REC)\"},\"tickfont\":{\"family\":\"Times New Roman\",\"size\":14},\"showgrid\":true,\"gridcolor\":\"lightgray\",\"gridwidth\":1,\"range\":[0.3,0.62]},\"annotations\":[{\"font\":{\"size\":16},\"showarrow\":false,\"text\":\"\\u003cspan style='font-family:Times New Roman'\\u003eAdience\\u003c\\u002fspan\\u003e\",\"x\":0.225,\"xanchor\":\"center\",\"xref\":\"paper\",\"y\":1.0,\"yanchor\":\"bottom\",\"yref\":\"paper\"},{\"font\":{\"size\":16},\"showarrow\":false,\"text\":\"\\u003cspan style='font-family:Times New Roman'\\u003eDiabetic Retinopathy\\u003c\\u002fspan\\u003e\",\"x\":0.775,\"xanchor\":\"center\",\"xref\":\"paper\",\"y\":1.0,\"yanchor\":\"bottom\",\"yref\":\"paper\"}],\"title\":{\"font\":{\"family\":\"Times New Roman\",\"size\":18},\"text\":\"\\u003cspan style='font-family:Times New Roman'\\u003ePerformance Comparison of ORDAC Method\\u003c\\u002fspan\\u003e\"},\"legend\":{\"font\":{\"family\":\"Times New Roman\",\"size\":12},\"orientation\":\"h\",\"x\":0.5,\"xanchor\":\"center\",\"y\":1.15},\"width\":1000,\"height\":500,\"plot_bgcolor\":\"white\"},                        {\"responsive\": true}                    ).then(function(){\n",
       "                            \n",
       "var gd = document.getElementById('6b0fb6cc-55fc-4682-9814-49065a40e6de');\n",
       "var x = new MutationObserver(function (mutations, observer) {{\n",
       "        var display = window.getComputedStyle(gd).display;\n",
       "        if (!display || display === 'none') {{\n",
       "            console.log([gd, 'removed!']);\n",
       "            Plotly.purge(gd);\n",
       "            observer.disconnect();\n",
       "        }}\n",
       "}});\n",
       "\n",
       "// Listen for the removal of the full notebook cells\n",
       "var notebookContainer = gd.closest('#notebook-container');\n",
       "if (notebookContainer) {{\n",
       "    x.observe(notebookContainer, {childList: true});\n",
       "}}\n",
       "\n",
       "// Listen for the clearing of the current output cell\n",
       "var outputEl = gd.closest('.output');\n",
       "if (outputEl) {{\n",
       "    x.observe(outputEl, {childList: true});\n",
       "}}\n",
       "\n",
       "                        })                };                });            </script>        </div>"
      ]
     },
     "metadata": {},
     "output_type": "display_data"
    }
   ],
   "source": [
    "## REC PLOT\n",
    "\n",
    "import plotly.graph_objects as go\n",
    "from plotly.subplots import make_subplots\n",
    "\n",
    "# Tau values\n",
    "tau = [0.0, 0.2, 0.4]\n",
    "\n",
    "# Model styling\n",
    "models = {\n",
    "    \"CORAL\": {\"color\": \"#1f77b4\", \"symbol\": \"circle\"},\n",
    "    \"DLDL-v2\": {\"color\": \"#ff7f0e\", \"symbol\": \"square\"},\n",
    "    \"ORDAC\": {\"color\": \"#2ca02c\", \"symbol\": \"diamond\"},\n",
    "    \"ORDAC_C\": {\"color\": \"#d62728\", \"symbol\": \"x\"},\n",
    "    \"ORDAC_R\": {\"color\": \"#9467bd\", \"symbol\": \"star\"},\n",
    "}\n",
    "\n",
    "# Adience REC\n",
    "adience_rec = {\n",
    "    \"CORAL\": [0.4669, 0.3985, 0.3312],\n",
    "    \"DLDL-v2\": [0.5063, 0.4452, 0.3775],\n",
    "    \"ORDAC\": [0.5542, 0.4988, 0.4456],\n",
    "    \"ORDAC_C\": [0.5968, 0.5460, 0.4813],\n",
    "    \"ORDAC_R\": [0.5954, 0.5624, 0.4950],\n",
    "}\n",
    "\n",
    "# DR REC\n",
    "dr_rec = {\n",
    "    \"CORAL\": [0.4287, 0.3943, 0.3702],\n",
    "    \"DLDL-v2\": [0.4509, 0.3894, 0.3452],\n",
    "    \"ORDAC\": [0.4665, 0.4363, 0.3722],\n",
    "    \"ORDAC_C\": [0.4559, 0.4208, 0.4168],\n",
    "    \"ORDAC_R\": [0.4599, 0.4217, 0.4200],\n",
    "}\n",
    "\n",
    "# Create subplots\n",
    "fig = make_subplots(\n",
    "    rows=1, cols=2,\n",
    "    subplot_titles=(\n",
    "        \"<span style='font-family:Times New Roman'>Adience</span>\",\n",
    "        \"<span style='font-family:Times New Roman'>Diabetic Retinopathy</span>\"\n",
    "    )\n",
    ")\n",
    "\n",
    "# Plot Adience\n",
    "for model in adience_rec:\n",
    "    fig.add_trace(go.Scatter(\n",
    "        x=tau,\n",
    "        y=adience_rec[model],\n",
    "        mode='lines+markers',\n",
    "        name=model,\n",
    "        line=dict(color=models[model][\"color\"], dash='dash'),\n",
    "        marker=dict(symbol=models[model][\"symbol\"], size=10),\n",
    "    ), row=1, col=1)\n",
    "\n",
    "# Plot DR\n",
    "for model in dr_rec:\n",
    "    fig.add_trace(go.Scatter(\n",
    "        x=tau,\n",
    "        y=dr_rec[model],\n",
    "        mode='lines+markers',\n",
    "        name=model,\n",
    "        line=dict(color=models[model][\"color\"], dash='dash'),\n",
    "        marker=dict(symbol=models[model][\"symbol\"], size=10),\n",
    "        showlegend=False  # Show legend only once\n",
    "    ), row=1, col=2)\n",
    "\n",
    "# Layout\n",
    "fig.update_layout(\n",
    "    title_text=\"<span style='font-family:Times New Roman'>Performance Comparison of ORDAC Method</span>\",\n",
    "    title_font=dict(family=\"Times New Roman\", size=18),\n",
    "    width=1000,\n",
    "    height=500,\n",
    "    plot_bgcolor='white',\n",
    "    legend=dict(\n",
    "        orientation=\"h\",\n",
    "        x=0.5,\n",
    "        xanchor=\"center\",\n",
    "        y=1.15,\n",
    "        font=dict(family=\"Times New Roman\", size=12)\n",
    "    )\n",
    ")\n",
    "\n",
    "# Axis style with grid enabled\n",
    "axis_common = dict(\n",
    "    title_font=dict(family=\"Times New Roman\", size=16),\n",
    "    tickfont=dict(family=\"Times New Roman\", size=14),\n",
    "    tickmode='array',\n",
    "    tickvals=tau,\n",
    "    showgrid=False,\n",
    "    gridcolor='lightgray',\n",
    "    gridwidth=1,\n",
    "    zeroline=False,\n",
    ")\n",
    "\n",
    "# Update X and Y axes with correct labels and visible ticks/grid\n",
    "fig.update_xaxes(title_text=\"Noise Rate (τ)\", row=1, col=1, **axis_common)\n",
    "fig.update_xaxes(title_text=\"Noise Rate (τ)\", row=1, col=2, **axis_common)\n",
    "\n",
    "fig.update_yaxes(title_text=\"Macro Averaged Recall (REC)\", row=1, col=1,\n",
    "                 tickfont=dict(family=\"Times New Roman\", size=14),\n",
    "                 title_font=dict(family=\"Times New Roman\", size=16),\n",
    "                 showgrid=True, gridcolor='lightgray', gridwidth=1, range=[0.3, 0.62])\n",
    "fig.update_yaxes(title_text=\"Macro Averaged Recall (REC)\", row=1, col=2,\n",
    "                 tickfont=dict(family=\"Times New Roman\", size=14),\n",
    "                 title_font=dict(family=\"Times New Roman\", size=16),\n",
    "                 showgrid=True, gridcolor='lightgray', gridwidth=1, range=[0.3, 0.62])\n",
    "\n",
    "fig.show()\n",
    "fig.write_image(\"comparison_rec.pdf\", format=\"pdf\", engine=\"kaleido\")\n"
   ]
  },
  {
   "cell_type": "code",
   "execution_count": 2,
   "id": "d7945ab9",
   "metadata": {},
   "outputs": [
    {
     "data": {
      "application/vnd.plotly.v1+json": {
       "config": {
        "plotlyServerURL": "https://plot.ly"
       },
       "data": [
        {
         "line": {
          "color": "#1f77b4",
          "dash": "dash"
         },
         "marker": {
          "size": 10,
          "symbol": "circle"
         },
         "mode": "lines+markers",
         "name": "Normal Training",
         "type": "scatter",
         "x": [
          0,
          0.2,
          0.4
         ],
         "xaxis": "x",
         "y": [
          0.5727,
          0.6969,
          0.82
         ],
         "yaxis": "y"
        },
        {
         "line": {
          "color": "#ff7f0e",
          "dash": "dash"
         },
         "marker": {
          "size": 10,
          "symbol": "square"
         },
         "mode": "lines+markers",
         "name": "CASSOR",
         "type": "scatter",
         "x": [
          0,
          0.2,
          0.4
         ],
         "xaxis": "x",
         "y": [
          0.6158,
          0.5902,
          0.5908
         ],
         "yaxis": "y"
        },
        {
         "line": {
          "color": "#2ca02c",
          "dash": "dash"
         },
         "marker": {
          "size": 10,
          "symbol": "diamond"
         },
         "mode": "lines+markers",
         "name": "ORDAC_C",
         "type": "scatter",
         "x": [
          0,
          0.2,
          0.4
         ],
         "xaxis": "x",
         "y": [
          0.5038,
          0.5329,
          0.6321
         ],
         "yaxis": "y"
        },
        {
         "line": {
          "color": "#d62728",
          "dash": "dash"
         },
         "marker": {
          "size": 10,
          "symbol": "x"
         },
         "mode": "lines+markers",
         "name": "ORDAC_C+CASSOR",
         "type": "scatter",
         "x": [
          0,
          0.2,
          0.4
         ],
         "xaxis": "x",
         "y": [
          0.5671,
          0.5655,
          0.5918
         ],
         "yaxis": "y"
        },
        {
         "line": {
          "color": "#9467bd",
          "dash": "dash"
         },
         "marker": {
          "size": 10,
          "symbol": "star"
         },
         "mode": "lines+markers",
         "name": "ORDAC_R",
         "type": "scatter",
         "x": [
          0,
          0.2,
          0.4
         ],
         "xaxis": "x",
         "y": [
          0.5033,
          0.5326,
          0.6159
         ],
         "yaxis": "y"
        },
        {
         "line": {
          "color": "#1f77b4",
          "dash": "dash"
         },
         "marker": {
          "size": 10,
          "symbol": "circle"
         },
         "mode": "lines+markers",
         "name": "Normal Training",
         "showlegend": false,
         "type": "scatter",
         "x": [
          0,
          0.2,
          0.4
         ],
         "xaxis": "x2",
         "y": [
          0.6712,
          0.7447,
          0.8597
         ],
         "yaxis": "y2"
        },
        {
         "line": {
          "color": "#ff7f0e",
          "dash": "dash"
         },
         "marker": {
          "size": 10,
          "symbol": "square"
         },
         "mode": "lines+markers",
         "name": "CASSOR",
         "showlegend": false,
         "type": "scatter",
         "x": [
          0,
          0.2,
          0.4
         ],
         "xaxis": "x2",
         "y": [
          0.6709,
          0.793,
          0.824
         ],
         "yaxis": "y2"
        },
        {
         "line": {
          "color": "#2ca02c",
          "dash": "dash"
         },
         "marker": {
          "size": 10,
          "symbol": "diamond"
         },
         "mode": "lines+markers",
         "name": "ORDAC_C",
         "showlegend": false,
         "type": "scatter",
         "x": [
          0,
          0.2,
          0.4
         ],
         "xaxis": "x2",
         "y": [
          0.6893,
          0.7283,
          0.7532
         ],
         "yaxis": "y2"
        },
        {
         "line": {
          "color": "#d62728",
          "dash": "dash"
         },
         "marker": {
          "size": 10,
          "symbol": "x"
         },
         "mode": "lines+markers",
         "name": "ORDAC_C+CASSOR",
         "showlegend": false,
         "type": "scatter",
         "x": [
          0,
          0.2,
          0.4
         ],
         "xaxis": "x2",
         "y": [
          0.7267,
          0.7453,
          0.7559
         ],
         "yaxis": "y2"
        },
        {
         "line": {
          "color": "#9467bd",
          "dash": "dash"
         },
         "marker": {
          "size": 10,
          "symbol": "star"
         },
         "mode": "lines+markers",
         "name": "ORDAC_R",
         "showlegend": false,
         "type": "scatter",
         "x": [
          0,
          0.2,
          0.4
         ],
         "xaxis": "x2",
         "y": [
          0.6828,
          0.7149,
          0.7435
         ],
         "yaxis": "y2"
        }
       ],
       "layout": {
        "annotations": [
         {
          "font": {
           "size": 16
          },
          "showarrow": false,
          "text": "<span style='font-family:Times New Roman'>Adience</span>",
          "x": 0.225,
          "xanchor": "center",
          "xref": "paper",
          "y": 1,
          "yanchor": "bottom",
          "yref": "paper"
         },
         {
          "font": {
           "size": 16
          },
          "showarrow": false,
          "text": "<span style='font-family:Times New Roman'>Diabetic Retinopathy</span>",
          "x": 0.775,
          "xanchor": "center",
          "xref": "paper",
          "y": 1,
          "yanchor": "bottom",
          "yref": "paper"
         }
        ],
        "height": 500,
        "legend": {
         "font": {
          "family": "Times New Roman",
          "size": 12
         },
         "orientation": "h",
         "x": 0.5,
         "xanchor": "center",
         "y": 1.15
        },
        "plot_bgcolor": "white",
        "template": {
         "data": {
          "bar": [
           {
            "error_x": {
             "color": "#2a3f5f"
            },
            "error_y": {
             "color": "#2a3f5f"
            },
            "marker": {
             "line": {
              "color": "#E5ECF6",
              "width": 0.5
             },
             "pattern": {
              "fillmode": "overlay",
              "size": 10,
              "solidity": 0.2
             }
            },
            "type": "bar"
           }
          ],
          "barpolar": [
           {
            "marker": {
             "line": {
              "color": "#E5ECF6",
              "width": 0.5
             },
             "pattern": {
              "fillmode": "overlay",
              "size": 10,
              "solidity": 0.2
             }
            },
            "type": "barpolar"
           }
          ],
          "carpet": [
           {
            "aaxis": {
             "endlinecolor": "#2a3f5f",
             "gridcolor": "white",
             "linecolor": "white",
             "minorgridcolor": "white",
             "startlinecolor": "#2a3f5f"
            },
            "baxis": {
             "endlinecolor": "#2a3f5f",
             "gridcolor": "white",
             "linecolor": "white",
             "minorgridcolor": "white",
             "startlinecolor": "#2a3f5f"
            },
            "type": "carpet"
           }
          ],
          "choropleth": [
           {
            "colorbar": {
             "outlinewidth": 0,
             "ticks": ""
            },
            "type": "choropleth"
           }
          ],
          "contour": [
           {
            "colorbar": {
             "outlinewidth": 0,
             "ticks": ""
            },
            "colorscale": [
             [
              0,
              "#0d0887"
             ],
             [
              0.1111111111111111,
              "#46039f"
             ],
             [
              0.2222222222222222,
              "#7201a8"
             ],
             [
              0.3333333333333333,
              "#9c179e"
             ],
             [
              0.4444444444444444,
              "#bd3786"
             ],
             [
              0.5555555555555556,
              "#d8576b"
             ],
             [
              0.6666666666666666,
              "#ed7953"
             ],
             [
              0.7777777777777778,
              "#fb9f3a"
             ],
             [
              0.8888888888888888,
              "#fdca26"
             ],
             [
              1,
              "#f0f921"
             ]
            ],
            "type": "contour"
           }
          ],
          "contourcarpet": [
           {
            "colorbar": {
             "outlinewidth": 0,
             "ticks": ""
            },
            "type": "contourcarpet"
           }
          ],
          "heatmap": [
           {
            "colorbar": {
             "outlinewidth": 0,
             "ticks": ""
            },
            "colorscale": [
             [
              0,
              "#0d0887"
             ],
             [
              0.1111111111111111,
              "#46039f"
             ],
             [
              0.2222222222222222,
              "#7201a8"
             ],
             [
              0.3333333333333333,
              "#9c179e"
             ],
             [
              0.4444444444444444,
              "#bd3786"
             ],
             [
              0.5555555555555556,
              "#d8576b"
             ],
             [
              0.6666666666666666,
              "#ed7953"
             ],
             [
              0.7777777777777778,
              "#fb9f3a"
             ],
             [
              0.8888888888888888,
              "#fdca26"
             ],
             [
              1,
              "#f0f921"
             ]
            ],
            "type": "heatmap"
           }
          ],
          "heatmapgl": [
           {
            "colorbar": {
             "outlinewidth": 0,
             "ticks": ""
            },
            "colorscale": [
             [
              0,
              "#0d0887"
             ],
             [
              0.1111111111111111,
              "#46039f"
             ],
             [
              0.2222222222222222,
              "#7201a8"
             ],
             [
              0.3333333333333333,
              "#9c179e"
             ],
             [
              0.4444444444444444,
              "#bd3786"
             ],
             [
              0.5555555555555556,
              "#d8576b"
             ],
             [
              0.6666666666666666,
              "#ed7953"
             ],
             [
              0.7777777777777778,
              "#fb9f3a"
             ],
             [
              0.8888888888888888,
              "#fdca26"
             ],
             [
              1,
              "#f0f921"
             ]
            ],
            "type": "heatmapgl"
           }
          ],
          "histogram": [
           {
            "marker": {
             "pattern": {
              "fillmode": "overlay",
              "size": 10,
              "solidity": 0.2
             }
            },
            "type": "histogram"
           }
          ],
          "histogram2d": [
           {
            "colorbar": {
             "outlinewidth": 0,
             "ticks": ""
            },
            "colorscale": [
             [
              0,
              "#0d0887"
             ],
             [
              0.1111111111111111,
              "#46039f"
             ],
             [
              0.2222222222222222,
              "#7201a8"
             ],
             [
              0.3333333333333333,
              "#9c179e"
             ],
             [
              0.4444444444444444,
              "#bd3786"
             ],
             [
              0.5555555555555556,
              "#d8576b"
             ],
             [
              0.6666666666666666,
              "#ed7953"
             ],
             [
              0.7777777777777778,
              "#fb9f3a"
             ],
             [
              0.8888888888888888,
              "#fdca26"
             ],
             [
              1,
              "#f0f921"
             ]
            ],
            "type": "histogram2d"
           }
          ],
          "histogram2dcontour": [
           {
            "colorbar": {
             "outlinewidth": 0,
             "ticks": ""
            },
            "colorscale": [
             [
              0,
              "#0d0887"
             ],
             [
              0.1111111111111111,
              "#46039f"
             ],
             [
              0.2222222222222222,
              "#7201a8"
             ],
             [
              0.3333333333333333,
              "#9c179e"
             ],
             [
              0.4444444444444444,
              "#bd3786"
             ],
             [
              0.5555555555555556,
              "#d8576b"
             ],
             [
              0.6666666666666666,
              "#ed7953"
             ],
             [
              0.7777777777777778,
              "#fb9f3a"
             ],
             [
              0.8888888888888888,
              "#fdca26"
             ],
             [
              1,
              "#f0f921"
             ]
            ],
            "type": "histogram2dcontour"
           }
          ],
          "mesh3d": [
           {
            "colorbar": {
             "outlinewidth": 0,
             "ticks": ""
            },
            "type": "mesh3d"
           }
          ],
          "parcoords": [
           {
            "line": {
             "colorbar": {
              "outlinewidth": 0,
              "ticks": ""
             }
            },
            "type": "parcoords"
           }
          ],
          "pie": [
           {
            "automargin": true,
            "type": "pie"
           }
          ],
          "scatter": [
           {
            "fillpattern": {
             "fillmode": "overlay",
             "size": 10,
             "solidity": 0.2
            },
            "type": "scatter"
           }
          ],
          "scatter3d": [
           {
            "line": {
             "colorbar": {
              "outlinewidth": 0,
              "ticks": ""
             }
            },
            "marker": {
             "colorbar": {
              "outlinewidth": 0,
              "ticks": ""
             }
            },
            "type": "scatter3d"
           }
          ],
          "scattercarpet": [
           {
            "marker": {
             "colorbar": {
              "outlinewidth": 0,
              "ticks": ""
             }
            },
            "type": "scattercarpet"
           }
          ],
          "scattergeo": [
           {
            "marker": {
             "colorbar": {
              "outlinewidth": 0,
              "ticks": ""
             }
            },
            "type": "scattergeo"
           }
          ],
          "scattergl": [
           {
            "marker": {
             "colorbar": {
              "outlinewidth": 0,
              "ticks": ""
             }
            },
            "type": "scattergl"
           }
          ],
          "scattermapbox": [
           {
            "marker": {
             "colorbar": {
              "outlinewidth": 0,
              "ticks": ""
             }
            },
            "type": "scattermapbox"
           }
          ],
          "scatterpolar": [
           {
            "marker": {
             "colorbar": {
              "outlinewidth": 0,
              "ticks": ""
             }
            },
            "type": "scatterpolar"
           }
          ],
          "scatterpolargl": [
           {
            "marker": {
             "colorbar": {
              "outlinewidth": 0,
              "ticks": ""
             }
            },
            "type": "scatterpolargl"
           }
          ],
          "scatterternary": [
           {
            "marker": {
             "colorbar": {
              "outlinewidth": 0,
              "ticks": ""
             }
            },
            "type": "scatterternary"
           }
          ],
          "surface": [
           {
            "colorbar": {
             "outlinewidth": 0,
             "ticks": ""
            },
            "colorscale": [
             [
              0,
              "#0d0887"
             ],
             [
              0.1111111111111111,
              "#46039f"
             ],
             [
              0.2222222222222222,
              "#7201a8"
             ],
             [
              0.3333333333333333,
              "#9c179e"
             ],
             [
              0.4444444444444444,
              "#bd3786"
             ],
             [
              0.5555555555555556,
              "#d8576b"
             ],
             [
              0.6666666666666666,
              "#ed7953"
             ],
             [
              0.7777777777777778,
              "#fb9f3a"
             ],
             [
              0.8888888888888888,
              "#fdca26"
             ],
             [
              1,
              "#f0f921"
             ]
            ],
            "type": "surface"
           }
          ],
          "table": [
           {
            "cells": {
             "fill": {
              "color": "#EBF0F8"
             },
             "line": {
              "color": "white"
             }
            },
            "header": {
             "fill": {
              "color": "#C8D4E3"
             },
             "line": {
              "color": "white"
             }
            },
            "type": "table"
           }
          ]
         },
         "layout": {
          "annotationdefaults": {
           "arrowcolor": "#2a3f5f",
           "arrowhead": 0,
           "arrowwidth": 1
          },
          "autotypenumbers": "strict",
          "coloraxis": {
           "colorbar": {
            "outlinewidth": 0,
            "ticks": ""
           }
          },
          "colorscale": {
           "diverging": [
            [
             0,
             "#8e0152"
            ],
            [
             0.1,
             "#c51b7d"
            ],
            [
             0.2,
             "#de77ae"
            ],
            [
             0.3,
             "#f1b6da"
            ],
            [
             0.4,
             "#fde0ef"
            ],
            [
             0.5,
             "#f7f7f7"
            ],
            [
             0.6,
             "#e6f5d0"
            ],
            [
             0.7,
             "#b8e186"
            ],
            [
             0.8,
             "#7fbc41"
            ],
            [
             0.9,
             "#4d9221"
            ],
            [
             1,
             "#276419"
            ]
           ],
           "sequential": [
            [
             0,
             "#0d0887"
            ],
            [
             0.1111111111111111,
             "#46039f"
            ],
            [
             0.2222222222222222,
             "#7201a8"
            ],
            [
             0.3333333333333333,
             "#9c179e"
            ],
            [
             0.4444444444444444,
             "#bd3786"
            ],
            [
             0.5555555555555556,
             "#d8576b"
            ],
            [
             0.6666666666666666,
             "#ed7953"
            ],
            [
             0.7777777777777778,
             "#fb9f3a"
            ],
            [
             0.8888888888888888,
             "#fdca26"
            ],
            [
             1,
             "#f0f921"
            ]
           ],
           "sequentialminus": [
            [
             0,
             "#0d0887"
            ],
            [
             0.1111111111111111,
             "#46039f"
            ],
            [
             0.2222222222222222,
             "#7201a8"
            ],
            [
             0.3333333333333333,
             "#9c179e"
            ],
            [
             0.4444444444444444,
             "#bd3786"
            ],
            [
             0.5555555555555556,
             "#d8576b"
            ],
            [
             0.6666666666666666,
             "#ed7953"
            ],
            [
             0.7777777777777778,
             "#fb9f3a"
            ],
            [
             0.8888888888888888,
             "#fdca26"
            ],
            [
             1,
             "#f0f921"
            ]
           ]
          },
          "colorway": [
           "#636efa",
           "#EF553B",
           "#00cc96",
           "#ab63fa",
           "#FFA15A",
           "#19d3f3",
           "#FF6692",
           "#B6E880",
           "#FF97FF",
           "#FECB52"
          ],
          "font": {
           "color": "#2a3f5f"
          },
          "geo": {
           "bgcolor": "white",
           "lakecolor": "white",
           "landcolor": "#E5ECF6",
           "showlakes": true,
           "showland": true,
           "subunitcolor": "white"
          },
          "hoverlabel": {
           "align": "left"
          },
          "hovermode": "closest",
          "mapbox": {
           "style": "light"
          },
          "paper_bgcolor": "white",
          "plot_bgcolor": "#E5ECF6",
          "polar": {
           "angularaxis": {
            "gridcolor": "white",
            "linecolor": "white",
            "ticks": ""
           },
           "bgcolor": "#E5ECF6",
           "radialaxis": {
            "gridcolor": "white",
            "linecolor": "white",
            "ticks": ""
           }
          },
          "scene": {
           "xaxis": {
            "backgroundcolor": "#E5ECF6",
            "gridcolor": "white",
            "gridwidth": 2,
            "linecolor": "white",
            "showbackground": true,
            "ticks": "",
            "zerolinecolor": "white"
           },
           "yaxis": {
            "backgroundcolor": "#E5ECF6",
            "gridcolor": "white",
            "gridwidth": 2,
            "linecolor": "white",
            "showbackground": true,
            "ticks": "",
            "zerolinecolor": "white"
           },
           "zaxis": {
            "backgroundcolor": "#E5ECF6",
            "gridcolor": "white",
            "gridwidth": 2,
            "linecolor": "white",
            "showbackground": true,
            "ticks": "",
            "zerolinecolor": "white"
           }
          },
          "shapedefaults": {
           "line": {
            "color": "#2a3f5f"
           }
          },
          "ternary": {
           "aaxis": {
            "gridcolor": "white",
            "linecolor": "white",
            "ticks": ""
           },
           "baxis": {
            "gridcolor": "white",
            "linecolor": "white",
            "ticks": ""
           },
           "bgcolor": "#E5ECF6",
           "caxis": {
            "gridcolor": "white",
            "linecolor": "white",
            "ticks": ""
           }
          },
          "title": {
           "x": 0.05
          },
          "xaxis": {
           "automargin": true,
           "gridcolor": "white",
           "linecolor": "white",
           "ticks": "",
           "title": {
            "standoff": 15
           },
           "zerolinecolor": "white",
           "zerolinewidth": 2
          },
          "yaxis": {
           "automargin": true,
           "gridcolor": "white",
           "linecolor": "white",
           "ticks": "",
           "title": {
            "standoff": 15
           },
           "zerolinecolor": "white",
           "zerolinewidth": 2
          }
         }
        },
        "title": {
         "font": {
          "family": "Times New Roman",
          "size": 18
         },
         "text": "<span style='font-family:Times New Roman'>Performance Comparison of ORDAC variants vs. CASSOR</span>"
        },
        "width": 1000,
        "xaxis": {
         "anchor": "y",
         "domain": [
          0,
          0.45
         ],
         "gridcolor": "lightgray",
         "gridwidth": 1,
         "showgrid": false,
         "tickfont": {
          "family": "Times New Roman",
          "size": 14
         },
         "tickmode": "array",
         "tickvals": [
          0,
          0.2,
          0.4
         ],
         "title": {
          "font": {
           "family": "Times New Roman",
           "size": 16
          },
          "text": "Noise Rate (τ)"
         },
         "zeroline": false
        },
        "xaxis2": {
         "anchor": "y2",
         "domain": [
          0.55,
          1
         ],
         "gridcolor": "lightgray",
         "gridwidth": 1,
         "showgrid": false,
         "tickfont": {
          "family": "Times New Roman",
          "size": 14
         },
         "tickmode": "array",
         "tickvals": [
          0,
          0.2,
          0.4
         ],
         "title": {
          "font": {
           "family": "Times New Roman",
           "size": 16
          },
          "text": "Noise Rate (τ)"
         },
         "zeroline": false
        },
        "yaxis": {
         "anchor": "x",
         "domain": [
          0,
          1
         ],
         "gridcolor": "lightgray",
         "gridwidth": 1,
         "range": [
          0.4,
          0.9
         ],
         "showgrid": true,
         "tickfont": {
          "family": "Times New Roman",
          "size": 14
         },
         "title": {
          "font": {
           "family": "Times New Roman",
           "size": 16
          },
          "text": "Mean Absolute Error (MAE)"
         }
        },
        "yaxis2": {
         "anchor": "x2",
         "domain": [
          0,
          1
         ],
         "gridcolor": "lightgray",
         "gridwidth": 1,
         "range": [
          0.4,
          0.9
         ],
         "showgrid": true,
         "tickfont": {
          "family": "Times New Roman",
          "size": 14
         },
         "title": {
          "font": {
           "family": "Times New Roman",
           "size": 16
          },
          "text": "Mean Absolute Error (MAE)"
         }
        }
       }
      },
      "text/html": [
       "<div>                            <div id=\"c1f11214-950d-40b1-9993-f412a7a1e995\" class=\"plotly-graph-div\" style=\"height:500px; width:1000px;\"></div>            <script type=\"text/javascript\">                require([\"plotly\"], function(Plotly) {                    window.PLOTLYENV=window.PLOTLYENV || {};                                    if (document.getElementById(\"c1f11214-950d-40b1-9993-f412a7a1e995\")) {                    Plotly.newPlot(                        \"c1f11214-950d-40b1-9993-f412a7a1e995\",                        [{\"line\":{\"color\":\"#1f77b4\",\"dash\":\"dash\"},\"marker\":{\"size\":10,\"symbol\":\"circle\"},\"mode\":\"lines+markers\",\"name\":\"Normal Training\",\"x\":[0.0,0.2,0.4],\"y\":[0.5727,0.6969,0.82],\"type\":\"scatter\",\"xaxis\":\"x\",\"yaxis\":\"y\"},{\"line\":{\"color\":\"#ff7f0e\",\"dash\":\"dash\"},\"marker\":{\"size\":10,\"symbol\":\"square\"},\"mode\":\"lines+markers\",\"name\":\"CASSOR\",\"x\":[0.0,0.2,0.4],\"y\":[0.6158,0.5902,0.5908],\"type\":\"scatter\",\"xaxis\":\"x\",\"yaxis\":\"y\"},{\"line\":{\"color\":\"#2ca02c\",\"dash\":\"dash\"},\"marker\":{\"size\":10,\"symbol\":\"diamond\"},\"mode\":\"lines+markers\",\"name\":\"ORDAC_C\",\"x\":[0.0,0.2,0.4],\"y\":[0.5038,0.5329,0.6321],\"type\":\"scatter\",\"xaxis\":\"x\",\"yaxis\":\"y\"},{\"line\":{\"color\":\"#d62728\",\"dash\":\"dash\"},\"marker\":{\"size\":10,\"symbol\":\"x\"},\"mode\":\"lines+markers\",\"name\":\"ORDAC_C+CASSOR\",\"x\":[0.0,0.2,0.4],\"y\":[0.5671,0.5655,0.5918],\"type\":\"scatter\",\"xaxis\":\"x\",\"yaxis\":\"y\"},{\"line\":{\"color\":\"#9467bd\",\"dash\":\"dash\"},\"marker\":{\"size\":10,\"symbol\":\"star\"},\"mode\":\"lines+markers\",\"name\":\"ORDAC_R\",\"x\":[0.0,0.2,0.4],\"y\":[0.5033,0.5326,0.6159],\"type\":\"scatter\",\"xaxis\":\"x\",\"yaxis\":\"y\"},{\"line\":{\"color\":\"#1f77b4\",\"dash\":\"dash\"},\"marker\":{\"size\":10,\"symbol\":\"circle\"},\"mode\":\"lines+markers\",\"name\":\"Normal Training\",\"showlegend\":false,\"x\":[0.0,0.2,0.4],\"y\":[0.6712,0.7447,0.8597],\"type\":\"scatter\",\"xaxis\":\"x2\",\"yaxis\":\"y2\"},{\"line\":{\"color\":\"#ff7f0e\",\"dash\":\"dash\"},\"marker\":{\"size\":10,\"symbol\":\"square\"},\"mode\":\"lines+markers\",\"name\":\"CASSOR\",\"showlegend\":false,\"x\":[0.0,0.2,0.4],\"y\":[0.6709,0.793,0.824],\"type\":\"scatter\",\"xaxis\":\"x2\",\"yaxis\":\"y2\"},{\"line\":{\"color\":\"#2ca02c\",\"dash\":\"dash\"},\"marker\":{\"size\":10,\"symbol\":\"diamond\"},\"mode\":\"lines+markers\",\"name\":\"ORDAC_C\",\"showlegend\":false,\"x\":[0.0,0.2,0.4],\"y\":[0.6893,0.7283,0.7532],\"type\":\"scatter\",\"xaxis\":\"x2\",\"yaxis\":\"y2\"},{\"line\":{\"color\":\"#d62728\",\"dash\":\"dash\"},\"marker\":{\"size\":10,\"symbol\":\"x\"},\"mode\":\"lines+markers\",\"name\":\"ORDAC_C+CASSOR\",\"showlegend\":false,\"x\":[0.0,0.2,0.4],\"y\":[0.7267,0.7453,0.7559],\"type\":\"scatter\",\"xaxis\":\"x2\",\"yaxis\":\"y2\"},{\"line\":{\"color\":\"#9467bd\",\"dash\":\"dash\"},\"marker\":{\"size\":10,\"symbol\":\"star\"},\"mode\":\"lines+markers\",\"name\":\"ORDAC_R\",\"showlegend\":false,\"x\":[0.0,0.2,0.4],\"y\":[0.6828,0.7149,0.7435],\"type\":\"scatter\",\"xaxis\":\"x2\",\"yaxis\":\"y2\"}],                        {\"template\":{\"data\":{\"histogram2dcontour\":[{\"type\":\"histogram2dcontour\",\"colorbar\":{\"outlinewidth\":0,\"ticks\":\"\"},\"colorscale\":[[0.0,\"#0d0887\"],[0.1111111111111111,\"#46039f\"],[0.2222222222222222,\"#7201a8\"],[0.3333333333333333,\"#9c179e\"],[0.4444444444444444,\"#bd3786\"],[0.5555555555555556,\"#d8576b\"],[0.6666666666666666,\"#ed7953\"],[0.7777777777777778,\"#fb9f3a\"],[0.8888888888888888,\"#fdca26\"],[1.0,\"#f0f921\"]]}],\"choropleth\":[{\"type\":\"choropleth\",\"colorbar\":{\"outlinewidth\":0,\"ticks\":\"\"}}],\"histogram2d\":[{\"type\":\"histogram2d\",\"colorbar\":{\"outlinewidth\":0,\"ticks\":\"\"},\"colorscale\":[[0.0,\"#0d0887\"],[0.1111111111111111,\"#46039f\"],[0.2222222222222222,\"#7201a8\"],[0.3333333333333333,\"#9c179e\"],[0.4444444444444444,\"#bd3786\"],[0.5555555555555556,\"#d8576b\"],[0.6666666666666666,\"#ed7953\"],[0.7777777777777778,\"#fb9f3a\"],[0.8888888888888888,\"#fdca26\"],[1.0,\"#f0f921\"]]}],\"heatmap\":[{\"type\":\"heatmap\",\"colorbar\":{\"outlinewidth\":0,\"ticks\":\"\"},\"colorscale\":[[0.0,\"#0d0887\"],[0.1111111111111111,\"#46039f\"],[0.2222222222222222,\"#7201a8\"],[0.3333333333333333,\"#9c179e\"],[0.4444444444444444,\"#bd3786\"],[0.5555555555555556,\"#d8576b\"],[0.6666666666666666,\"#ed7953\"],[0.7777777777777778,\"#fb9f3a\"],[0.8888888888888888,\"#fdca26\"],[1.0,\"#f0f921\"]]}],\"heatmapgl\":[{\"type\":\"heatmapgl\",\"colorbar\":{\"outlinewidth\":0,\"ticks\":\"\"},\"colorscale\":[[0.0,\"#0d0887\"],[0.1111111111111111,\"#46039f\"],[0.2222222222222222,\"#7201a8\"],[0.3333333333333333,\"#9c179e\"],[0.4444444444444444,\"#bd3786\"],[0.5555555555555556,\"#d8576b\"],[0.6666666666666666,\"#ed7953\"],[0.7777777777777778,\"#fb9f3a\"],[0.8888888888888888,\"#fdca26\"],[1.0,\"#f0f921\"]]}],\"contourcarpet\":[{\"type\":\"contourcarpet\",\"colorbar\":{\"outlinewidth\":0,\"ticks\":\"\"}}],\"contour\":[{\"type\":\"contour\",\"colorbar\":{\"outlinewidth\":0,\"ticks\":\"\"},\"colorscale\":[[0.0,\"#0d0887\"],[0.1111111111111111,\"#46039f\"],[0.2222222222222222,\"#7201a8\"],[0.3333333333333333,\"#9c179e\"],[0.4444444444444444,\"#bd3786\"],[0.5555555555555556,\"#d8576b\"],[0.6666666666666666,\"#ed7953\"],[0.7777777777777778,\"#fb9f3a\"],[0.8888888888888888,\"#fdca26\"],[1.0,\"#f0f921\"]]}],\"surface\":[{\"type\":\"surface\",\"colorbar\":{\"outlinewidth\":0,\"ticks\":\"\"},\"colorscale\":[[0.0,\"#0d0887\"],[0.1111111111111111,\"#46039f\"],[0.2222222222222222,\"#7201a8\"],[0.3333333333333333,\"#9c179e\"],[0.4444444444444444,\"#bd3786\"],[0.5555555555555556,\"#d8576b\"],[0.6666666666666666,\"#ed7953\"],[0.7777777777777778,\"#fb9f3a\"],[0.8888888888888888,\"#fdca26\"],[1.0,\"#f0f921\"]]}],\"mesh3d\":[{\"type\":\"mesh3d\",\"colorbar\":{\"outlinewidth\":0,\"ticks\":\"\"}}],\"scatter\":[{\"fillpattern\":{\"fillmode\":\"overlay\",\"size\":10,\"solidity\":0.2},\"type\":\"scatter\"}],\"parcoords\":[{\"type\":\"parcoords\",\"line\":{\"colorbar\":{\"outlinewidth\":0,\"ticks\":\"\"}}}],\"scatterpolargl\":[{\"type\":\"scatterpolargl\",\"marker\":{\"colorbar\":{\"outlinewidth\":0,\"ticks\":\"\"}}}],\"bar\":[{\"error_x\":{\"color\":\"#2a3f5f\"},\"error_y\":{\"color\":\"#2a3f5f\"},\"marker\":{\"line\":{\"color\":\"#E5ECF6\",\"width\":0.5},\"pattern\":{\"fillmode\":\"overlay\",\"size\":10,\"solidity\":0.2}},\"type\":\"bar\"}],\"scattergeo\":[{\"type\":\"scattergeo\",\"marker\":{\"colorbar\":{\"outlinewidth\":0,\"ticks\":\"\"}}}],\"scatterpolar\":[{\"type\":\"scatterpolar\",\"marker\":{\"colorbar\":{\"outlinewidth\":0,\"ticks\":\"\"}}}],\"histogram\":[{\"marker\":{\"pattern\":{\"fillmode\":\"overlay\",\"size\":10,\"solidity\":0.2}},\"type\":\"histogram\"}],\"scattergl\":[{\"type\":\"scattergl\",\"marker\":{\"colorbar\":{\"outlinewidth\":0,\"ticks\":\"\"}}}],\"scatter3d\":[{\"type\":\"scatter3d\",\"line\":{\"colorbar\":{\"outlinewidth\":0,\"ticks\":\"\"}},\"marker\":{\"colorbar\":{\"outlinewidth\":0,\"ticks\":\"\"}}}],\"scattermapbox\":[{\"type\":\"scattermapbox\",\"marker\":{\"colorbar\":{\"outlinewidth\":0,\"ticks\":\"\"}}}],\"scatterternary\":[{\"type\":\"scatterternary\",\"marker\":{\"colorbar\":{\"outlinewidth\":0,\"ticks\":\"\"}}}],\"scattercarpet\":[{\"type\":\"scattercarpet\",\"marker\":{\"colorbar\":{\"outlinewidth\":0,\"ticks\":\"\"}}}],\"carpet\":[{\"aaxis\":{\"endlinecolor\":\"#2a3f5f\",\"gridcolor\":\"white\",\"linecolor\":\"white\",\"minorgridcolor\":\"white\",\"startlinecolor\":\"#2a3f5f\"},\"baxis\":{\"endlinecolor\":\"#2a3f5f\",\"gridcolor\":\"white\",\"linecolor\":\"white\",\"minorgridcolor\":\"white\",\"startlinecolor\":\"#2a3f5f\"},\"type\":\"carpet\"}],\"table\":[{\"cells\":{\"fill\":{\"color\":\"#EBF0F8\"},\"line\":{\"color\":\"white\"}},\"header\":{\"fill\":{\"color\":\"#C8D4E3\"},\"line\":{\"color\":\"white\"}},\"type\":\"table\"}],\"barpolar\":[{\"marker\":{\"line\":{\"color\":\"#E5ECF6\",\"width\":0.5},\"pattern\":{\"fillmode\":\"overlay\",\"size\":10,\"solidity\":0.2}},\"type\":\"barpolar\"}],\"pie\":[{\"automargin\":true,\"type\":\"pie\"}]},\"layout\":{\"autotypenumbers\":\"strict\",\"colorway\":[\"#636efa\",\"#EF553B\",\"#00cc96\",\"#ab63fa\",\"#FFA15A\",\"#19d3f3\",\"#FF6692\",\"#B6E880\",\"#FF97FF\",\"#FECB52\"],\"font\":{\"color\":\"#2a3f5f\"},\"hovermode\":\"closest\",\"hoverlabel\":{\"align\":\"left\"},\"paper_bgcolor\":\"white\",\"plot_bgcolor\":\"#E5ECF6\",\"polar\":{\"bgcolor\":\"#E5ECF6\",\"angularaxis\":{\"gridcolor\":\"white\",\"linecolor\":\"white\",\"ticks\":\"\"},\"radialaxis\":{\"gridcolor\":\"white\",\"linecolor\":\"white\",\"ticks\":\"\"}},\"ternary\":{\"bgcolor\":\"#E5ECF6\",\"aaxis\":{\"gridcolor\":\"white\",\"linecolor\":\"white\",\"ticks\":\"\"},\"baxis\":{\"gridcolor\":\"white\",\"linecolor\":\"white\",\"ticks\":\"\"},\"caxis\":{\"gridcolor\":\"white\",\"linecolor\":\"white\",\"ticks\":\"\"}},\"coloraxis\":{\"colorbar\":{\"outlinewidth\":0,\"ticks\":\"\"}},\"colorscale\":{\"sequential\":[[0.0,\"#0d0887\"],[0.1111111111111111,\"#46039f\"],[0.2222222222222222,\"#7201a8\"],[0.3333333333333333,\"#9c179e\"],[0.4444444444444444,\"#bd3786\"],[0.5555555555555556,\"#d8576b\"],[0.6666666666666666,\"#ed7953\"],[0.7777777777777778,\"#fb9f3a\"],[0.8888888888888888,\"#fdca26\"],[1.0,\"#f0f921\"]],\"sequentialminus\":[[0.0,\"#0d0887\"],[0.1111111111111111,\"#46039f\"],[0.2222222222222222,\"#7201a8\"],[0.3333333333333333,\"#9c179e\"],[0.4444444444444444,\"#bd3786\"],[0.5555555555555556,\"#d8576b\"],[0.6666666666666666,\"#ed7953\"],[0.7777777777777778,\"#fb9f3a\"],[0.8888888888888888,\"#fdca26\"],[1.0,\"#f0f921\"]],\"diverging\":[[0,\"#8e0152\"],[0.1,\"#c51b7d\"],[0.2,\"#de77ae\"],[0.3,\"#f1b6da\"],[0.4,\"#fde0ef\"],[0.5,\"#f7f7f7\"],[0.6,\"#e6f5d0\"],[0.7,\"#b8e186\"],[0.8,\"#7fbc41\"],[0.9,\"#4d9221\"],[1,\"#276419\"]]},\"xaxis\":{\"gridcolor\":\"white\",\"linecolor\":\"white\",\"ticks\":\"\",\"title\":{\"standoff\":15},\"zerolinecolor\":\"white\",\"automargin\":true,\"zerolinewidth\":2},\"yaxis\":{\"gridcolor\":\"white\",\"linecolor\":\"white\",\"ticks\":\"\",\"title\":{\"standoff\":15},\"zerolinecolor\":\"white\",\"automargin\":true,\"zerolinewidth\":2},\"scene\":{\"xaxis\":{\"backgroundcolor\":\"#E5ECF6\",\"gridcolor\":\"white\",\"linecolor\":\"white\",\"showbackground\":true,\"ticks\":\"\",\"zerolinecolor\":\"white\",\"gridwidth\":2},\"yaxis\":{\"backgroundcolor\":\"#E5ECF6\",\"gridcolor\":\"white\",\"linecolor\":\"white\",\"showbackground\":true,\"ticks\":\"\",\"zerolinecolor\":\"white\",\"gridwidth\":2},\"zaxis\":{\"backgroundcolor\":\"#E5ECF6\",\"gridcolor\":\"white\",\"linecolor\":\"white\",\"showbackground\":true,\"ticks\":\"\",\"zerolinecolor\":\"white\",\"gridwidth\":2}},\"shapedefaults\":{\"line\":{\"color\":\"#2a3f5f\"}},\"annotationdefaults\":{\"arrowcolor\":\"#2a3f5f\",\"arrowhead\":0,\"arrowwidth\":1},\"geo\":{\"bgcolor\":\"white\",\"landcolor\":\"#E5ECF6\",\"subunitcolor\":\"white\",\"showland\":true,\"showlakes\":true,\"lakecolor\":\"white\"},\"title\":{\"x\":0.05},\"mapbox\":{\"style\":\"light\"}}},\"xaxis\":{\"anchor\":\"y\",\"domain\":[0.0,0.45],\"title\":{\"font\":{\"family\":\"Times New Roman\",\"size\":16},\"text\":\"Noise Rate (\\u03c4)\"},\"tickfont\":{\"family\":\"Times New Roman\",\"size\":14},\"tickmode\":\"array\",\"tickvals\":[0.0,0.2,0.4],\"showgrid\":false,\"gridcolor\":\"lightgray\",\"gridwidth\":1,\"zeroline\":false},\"yaxis\":{\"anchor\":\"x\",\"domain\":[0.0,1.0],\"title\":{\"font\":{\"family\":\"Times New Roman\",\"size\":16},\"text\":\"Mean Absolute Error (MAE)\"},\"tickfont\":{\"family\":\"Times New Roman\",\"size\":14},\"showgrid\":true,\"gridcolor\":\"lightgray\",\"gridwidth\":1,\"range\":[0.4,0.9]},\"xaxis2\":{\"anchor\":\"y2\",\"domain\":[0.55,1.0],\"title\":{\"font\":{\"family\":\"Times New Roman\",\"size\":16},\"text\":\"Noise Rate (\\u03c4)\"},\"tickfont\":{\"family\":\"Times New Roman\",\"size\":14},\"tickmode\":\"array\",\"tickvals\":[0.0,0.2,0.4],\"showgrid\":false,\"gridcolor\":\"lightgray\",\"gridwidth\":1,\"zeroline\":false},\"yaxis2\":{\"anchor\":\"x2\",\"domain\":[0.0,1.0],\"title\":{\"font\":{\"family\":\"Times New Roman\",\"size\":16},\"text\":\"Mean Absolute Error (MAE)\"},\"tickfont\":{\"family\":\"Times New Roman\",\"size\":14},\"showgrid\":true,\"gridcolor\":\"lightgray\",\"gridwidth\":1,\"range\":[0.4,0.9]},\"annotations\":[{\"font\":{\"size\":16},\"showarrow\":false,\"text\":\"\\u003cspan style='font-family:Times New Roman'\\u003eAdience\\u003c\\u002fspan\\u003e\",\"x\":0.225,\"xanchor\":\"center\",\"xref\":\"paper\",\"y\":1.0,\"yanchor\":\"bottom\",\"yref\":\"paper\"},{\"font\":{\"size\":16},\"showarrow\":false,\"text\":\"\\u003cspan style='font-family:Times New Roman'\\u003eDiabetic Retinopathy\\u003c\\u002fspan\\u003e\",\"x\":0.775,\"xanchor\":\"center\",\"xref\":\"paper\",\"y\":1.0,\"yanchor\":\"bottom\",\"yref\":\"paper\"}],\"title\":{\"font\":{\"family\":\"Times New Roman\",\"size\":18},\"text\":\"\\u003cspan style='font-family:Times New Roman'\\u003ePerformance Comparison of ORDAC variants vs. CASSOR\\u003c\\u002fspan\\u003e\"},\"legend\":{\"font\":{\"family\":\"Times New Roman\",\"size\":12},\"orientation\":\"h\",\"x\":0.5,\"xanchor\":\"center\",\"y\":1.15},\"width\":1000,\"height\":500,\"plot_bgcolor\":\"white\"},                        {\"responsive\": true}                    ).then(function(){\n",
       "                            \n",
       "var gd = document.getElementById('c1f11214-950d-40b1-9993-f412a7a1e995');\n",
       "var x = new MutationObserver(function (mutations, observer) {{\n",
       "        var display = window.getComputedStyle(gd).display;\n",
       "        if (!display || display === 'none') {{\n",
       "            console.log([gd, 'removed!']);\n",
       "            Plotly.purge(gd);\n",
       "            observer.disconnect();\n",
       "        }}\n",
       "}});\n",
       "\n",
       "// Listen for the removal of the full notebook cells\n",
       "var notebookContainer = gd.closest('#notebook-container');\n",
       "if (notebookContainer) {{\n",
       "    x.observe(notebookContainer, {childList: true});\n",
       "}}\n",
       "\n",
       "// Listen for the clearing of the current output cell\n",
       "var outputEl = gd.closest('.output');\n",
       "if (outputEl) {{\n",
       "    x.observe(outputEl, {childList: true});\n",
       "}}\n",
       "\n",
       "                        })                };                });            </script>        </div>"
      ]
     },
     "metadata": {},
     "output_type": "display_data"
    }
   ],
   "source": [
    "## MAE PLOT\n",
    "\n",
    "import plotly.graph_objects as go\n",
    "from plotly.subplots import make_subplots\n",
    "\n",
    "# Tau values\n",
    "tau = [0.0, 0.2, 0.4]\n",
    "\n",
    "# Model styling\n",
    "models = {\n",
    "    \"Normal Training\": {\"color\": \"#1f77b4\", \"symbol\": \"circle\"},\n",
    "    \"CASSOR\": {\"color\": \"#ff7f0e\", \"symbol\": \"square\"},\n",
    "    \"ORDAC_C\": {\"color\": \"#2ca02c\", \"symbol\": \"diamond\"},\n",
    "    \"ORDAC_C+CASSOR\": {\"color\": \"#d62728\", \"symbol\": \"x\"},\n",
    "    \"ORDAC_R\": {\"color\": \"#9467bd\", \"symbol\": \"star\"},\n",
    "}\n",
    "\n",
    "# Adience MAE\n",
    "adience_mae = {\n",
    "    \"Normal Training\": [0.5727, 0.6969, 0.8200],\n",
    "    \"CASSOR\": [0.6158, 0.5902, 0.5908],\n",
    "    \"ORDAC_C\": [0.5038, 0.5329, 0.6321],\n",
    "    \"ORDAC_C+CASSOR\": [0.5671, 0.5655, 0.5918],\n",
    "    \"ORDAC_R\": [0.5033, 0.5326, 0.6159],\n",
    "}\n",
    "\n",
    "# DR MAE (missing values replaced with 1.0)\n",
    "dr_mae = {\n",
    "    \"Normal Training\": [0.6712, 0.7447, 0.8597],\n",
    "    \"CASSOR\": [0.6709, 0.7930, 0.8240],\n",
    "    \"ORDAC_C\": [0.6893, 0.7283, 0.7532],\n",
    "    \"ORDAC_C+CASSOR\": [0.7267, 0.7453, 0.7559],\n",
    "    \"ORDAC_R\": [0.6828, 0.7149, 0.7435],\n",
    "}\n",
    "\n",
    "# Create subplots\n",
    "fig = make_subplots(\n",
    "    rows=1, cols=2,\n",
    "    subplot_titles=(\n",
    "        \"<span style='font-family:Times New Roman'>Adience</span>\",\n",
    "        \"<span style='font-family:Times New Roman'>Diabetic Retinopathy</span>\"\n",
    "    )\n",
    ")\n",
    "\n",
    "# Plot Adience\n",
    "for model in adience_mae:\n",
    "    fig.add_trace(go.Scatter(\n",
    "        x=tau,\n",
    "        y=adience_mae[model],\n",
    "        mode='lines+markers',\n",
    "        name=model,\n",
    "        line=dict(color=models[model][\"color\"], dash='dash'),\n",
    "        marker=dict(symbol=models[model][\"symbol\"], size=10),\n",
    "    ), row=1, col=1)\n",
    "\n",
    "# Plot DR\n",
    "for model in dr_mae:\n",
    "    fig.add_trace(go.Scatter(\n",
    "        x=tau,\n",
    "        y=dr_mae[model],\n",
    "        mode='lines+markers',\n",
    "        name=model,\n",
    "        line=dict(color=models[model][\"color\"], dash='dash'),\n",
    "        marker=dict(symbol=models[model][\"symbol\"], size=10),\n",
    "        showlegend=False  # Show legend only once\n",
    "    ), row=1, col=2)\n",
    "\n",
    "# Layout\n",
    "fig.update_layout(\n",
    "    title_text=\"<span style='font-family:Times New Roman'>Performance Comparison of ORDAC variants vs. CASSOR</span>\",\n",
    "    title_font=dict(family=\"Times New Roman\", size=18),\n",
    "    width=1000,\n",
    "    height=500,\n",
    "    plot_bgcolor='white',\n",
    "    legend=dict(\n",
    "        orientation=\"h\",\n",
    "        x=0.5,\n",
    "        xanchor=\"center\",\n",
    "        y=1.15,\n",
    "        font=dict(family=\"Times New Roman\", size=12)\n",
    "    )\n",
    ")\n",
    "\n",
    "# Axis style with grid enabled\n",
    "axis_common = dict(\n",
    "    title_font=dict(family=\"Times New Roman\", size=16),\n",
    "    tickfont=dict(family=\"Times New Roman\", size=14),\n",
    "    tickmode='array',\n",
    "    tickvals=tau,\n",
    "    showgrid=False,\n",
    "    gridcolor='lightgray',\n",
    "    gridwidth=1,\n",
    "    zeroline=False,\n",
    ")\n",
    "\n",
    "# Update X and Y axes with correct labels and visible ticks/grid\n",
    "fig.update_xaxes(title_text=\"Noise Rate (τ)\", row=1, col=1, **axis_common)\n",
    "fig.update_xaxes(title_text=\"Noise Rate (τ)\", row=1, col=2, **axis_common)\n",
    "\n",
    "fig.update_yaxes(title_text=\"Mean Absolute Error (MAE)\", row=1, col=1,\n",
    "                 tickfont=dict(family=\"Times New Roman\", size=14),\n",
    "                 title_font=dict(family=\"Times New Roman\", size=16),\n",
    "                 showgrid=True, gridcolor='lightgray', gridwidth=1, range=[0.4, 0.9])\n",
    "fig.update_yaxes(title_text=\"Mean Absolute Error (MAE)\", row=1, col=2,\n",
    "                 tickfont=dict(family=\"Times New Roman\", size=14),\n",
    "                 title_font=dict(family=\"Times New Roman\", size=16),\n",
    "                 showgrid=True, gridcolor='lightgray', gridwidth=1, range=[0.4, 0.9])\n",
    "\n",
    "fig.show()\n",
    "fig.write_image(\"cassor_comparison_mae.pdf\", format=\"pdf\", engine=\"kaleido\")\n",
    "\n"
   ]
  },
  {
   "cell_type": "code",
   "execution_count": 31,
   "id": "49dfdb71",
   "metadata": {},
   "outputs": [
    {
     "data": {
      "application/vnd.plotly.v1+json": {
       "config": {
        "plotlyServerURL": "https://plot.ly"
       },
       "data": [
        {
         "marker": {
          "color": "#02c21f"
         },
         "name": "Normal Training",
         "type": "bar",
         "width": 0.15,
         "x": [
          -0.32,
          0.6799999999999999,
          1.68
         ],
         "y": [
          0.5727,
          0.7287,
          0.82
         ]
        },
        {
         "marker": {
          "color": "#e86202"
         },
         "name": "CASSOR",
         "type": "bar",
         "width": 0.15,
         "x": [
          -0.16,
          0.84,
          1.84
         ],
         "y": [
          0.6158,
          0.5902,
          0.5908
         ]
        },
        {
         "marker": {
          "color": "#e30215"
         },
         "name": "ORDAC",
         "type": "bar",
         "width": 0.15,
         "x": [
          0,
          1,
          2
         ],
         "y": [
          0.5038,
          0.5329,
          0.6321
         ]
        },
        {
         "marker": {
          "color": "#2878f7"
         },
         "name": "ORDAC+CASSOR",
         "type": "bar",
         "width": 0.15,
         "x": [
          0.16,
          1.16,
          2.16
         ],
         "y": [
          0.5671,
          0.5655,
          0.5918
         ]
        },
        {
         "marker": {
          "color": "#c202b8"
         },
         "name": "ORDAC_R",
         "type": "bar",
         "width": 0.15,
         "x": [
          0.32,
          1.32,
          2.32
         ],
         "y": [
          0.5671,
          0.5655,
          0.5918
         ]
        }
       ],
       "layout": {
        "annotations": [
         {
          "font": {
           "color": "black",
           "family": "Times New Roman",
           "size": 12
          },
          "showarrow": false,
          "text": "0.5727 ± 0.0366",
          "textangle": -45,
          "x": -0.22,
          "xanchor": "center",
          "y": 0.5627,
          "yanchor": "bottom"
         },
         {
          "font": {
           "color": "black",
           "family": "Times New Roman",
           "size": 12
          },
          "showarrow": false,
          "text": "0.7287 ± 0.0000",
          "textangle": -45,
          "x": 0.7799999999999999,
          "xanchor": "center",
          "y": 0.7187,
          "yanchor": "bottom"
         },
         {
          "font": {
           "color": "black",
           "family": "Times New Roman",
           "size": 12
          },
          "showarrow": false,
          "text": "0.8200 ± 0.0632",
          "textangle": -45,
          "x": 1.78,
          "xanchor": "center",
          "y": 0.8099999999999999,
          "yanchor": "bottom"
         },
         {
          "font": {
           "color": "black",
           "family": "Times New Roman",
           "size": 12
          },
          "showarrow": false,
          "text": "0.6158 ± 0.0611",
          "textangle": -45,
          "x": -0.06,
          "xanchor": "center",
          "y": 0.6058,
          "yanchor": "bottom"
         },
         {
          "font": {
           "color": "black",
           "family": "Times New Roman",
           "size": 12
          },
          "showarrow": false,
          "text": "0.5902 ± 0.0442",
          "textangle": -45,
          "x": 0.94,
          "xanchor": "center",
          "y": 0.5801999999999999,
          "yanchor": "bottom"
         },
         {
          "font": {
           "color": "black",
           "family": "Times New Roman",
           "size": 12
          },
          "showarrow": false,
          "text": "0.5908 ± 0.0605",
          "textangle": -45,
          "x": 1.9400000000000002,
          "xanchor": "center",
          "y": 0.5808,
          "yanchor": "bottom"
         },
         {
          "font": {
           "color": "black",
           "family": "Times New Roman",
           "size": 12
          },
          "showarrow": false,
          "text": "0.5038 ± 0.0458",
          "textangle": -45,
          "x": 0.1,
          "xanchor": "center",
          "y": 0.4938,
          "yanchor": "bottom"
         },
         {
          "font": {
           "color": "black",
           "family": "Times New Roman",
           "size": 12
          },
          "showarrow": false,
          "text": "0.5329 ± 0.0348",
          "textangle": -45,
          "x": 1.1,
          "xanchor": "center",
          "y": 0.5229,
          "yanchor": "bottom"
         },
         {
          "font": {
           "color": "black",
           "family": "Times New Roman",
           "size": 12
          },
          "showarrow": false,
          "text": "0.6321 ± 0.0288",
          "textangle": -45,
          "x": 2.1,
          "xanchor": "center",
          "y": 0.6221,
          "yanchor": "bottom"
         },
         {
          "font": {
           "color": "black",
           "family": "Times New Roman",
           "size": 12
          },
          "showarrow": false,
          "text": "0.5671 ± 0.0449",
          "textangle": -45,
          "x": 0.26,
          "xanchor": "center",
          "y": 0.5571,
          "yanchor": "bottom"
         },
         {
          "font": {
           "color": "black",
           "family": "Times New Roman",
           "size": 12
          },
          "showarrow": false,
          "text": "0.5655 ± 0.0497",
          "textangle": -45,
          "x": 1.26,
          "xanchor": "center",
          "y": 0.5555,
          "yanchor": "bottom"
         },
         {
          "font": {
           "color": "black",
           "family": "Times New Roman",
           "size": 12
          },
          "showarrow": false,
          "text": "0.5918 ± 0.0523",
          "textangle": -45,
          "x": 2.2600000000000002,
          "xanchor": "center",
          "y": 0.5818,
          "yanchor": "bottom"
         },
         {
          "font": {
           "color": "black",
           "family": "Times New Roman",
           "size": 12
          },
          "showarrow": false,
          "text": "0.5671 ± 0.0449",
          "textangle": -45,
          "x": 0.42000000000000004,
          "xanchor": "center",
          "y": 0.5571,
          "yanchor": "bottom"
         },
         {
          "font": {
           "color": "black",
           "family": "Times New Roman",
           "size": 12
          },
          "showarrow": false,
          "text": "0.5655 ± 0.0497",
          "textangle": -45,
          "x": 1.4200000000000002,
          "xanchor": "center",
          "y": 0.5555,
          "yanchor": "bottom"
         },
         {
          "font": {
           "color": "black",
           "family": "Times New Roman",
           "size": 12
          },
          "showarrow": false,
          "text": "0.5918 ± 0.0523",
          "textangle": -45,
          "x": 2.42,
          "xanchor": "center",
          "y": 0.5818,
          "yanchor": "bottom"
         }
        ],
        "bargap": 0.15,
        "bargroupgap": 0.05,
        "barmode": "group",
        "legend": {
         "font": {
          "color": "black",
          "family": "Times New Roman",
          "size": 12
         },
         "orientation": "h",
         "x": 0.5,
         "xanchor": "center",
         "y": 1.02,
         "yanchor": "bottom"
        },
        "plot_bgcolor": "white",
        "template": {
         "data": {
          "bar": [
           {
            "error_x": {
             "color": "#2a3f5f"
            },
            "error_y": {
             "color": "#2a3f5f"
            },
            "marker": {
             "line": {
              "color": "#E5ECF6",
              "width": 0.5
             },
             "pattern": {
              "fillmode": "overlay",
              "size": 10,
              "solidity": 0.2
             }
            },
            "type": "bar"
           }
          ],
          "barpolar": [
           {
            "marker": {
             "line": {
              "color": "#E5ECF6",
              "width": 0.5
             },
             "pattern": {
              "fillmode": "overlay",
              "size": 10,
              "solidity": 0.2
             }
            },
            "type": "barpolar"
           }
          ],
          "carpet": [
           {
            "aaxis": {
             "endlinecolor": "#2a3f5f",
             "gridcolor": "white",
             "linecolor": "white",
             "minorgridcolor": "white",
             "startlinecolor": "#2a3f5f"
            },
            "baxis": {
             "endlinecolor": "#2a3f5f",
             "gridcolor": "white",
             "linecolor": "white",
             "minorgridcolor": "white",
             "startlinecolor": "#2a3f5f"
            },
            "type": "carpet"
           }
          ],
          "choropleth": [
           {
            "colorbar": {
             "outlinewidth": 0,
             "ticks": ""
            },
            "type": "choropleth"
           }
          ],
          "contour": [
           {
            "colorbar": {
             "outlinewidth": 0,
             "ticks": ""
            },
            "colorscale": [
             [
              0,
              "#0d0887"
             ],
             [
              0.1111111111111111,
              "#46039f"
             ],
             [
              0.2222222222222222,
              "#7201a8"
             ],
             [
              0.3333333333333333,
              "#9c179e"
             ],
             [
              0.4444444444444444,
              "#bd3786"
             ],
             [
              0.5555555555555556,
              "#d8576b"
             ],
             [
              0.6666666666666666,
              "#ed7953"
             ],
             [
              0.7777777777777778,
              "#fb9f3a"
             ],
             [
              0.8888888888888888,
              "#fdca26"
             ],
             [
              1,
              "#f0f921"
             ]
            ],
            "type": "contour"
           }
          ],
          "contourcarpet": [
           {
            "colorbar": {
             "outlinewidth": 0,
             "ticks": ""
            },
            "type": "contourcarpet"
           }
          ],
          "heatmap": [
           {
            "colorbar": {
             "outlinewidth": 0,
             "ticks": ""
            },
            "colorscale": [
             [
              0,
              "#0d0887"
             ],
             [
              0.1111111111111111,
              "#46039f"
             ],
             [
              0.2222222222222222,
              "#7201a8"
             ],
             [
              0.3333333333333333,
              "#9c179e"
             ],
             [
              0.4444444444444444,
              "#bd3786"
             ],
             [
              0.5555555555555556,
              "#d8576b"
             ],
             [
              0.6666666666666666,
              "#ed7953"
             ],
             [
              0.7777777777777778,
              "#fb9f3a"
             ],
             [
              0.8888888888888888,
              "#fdca26"
             ],
             [
              1,
              "#f0f921"
             ]
            ],
            "type": "heatmap"
           }
          ],
          "heatmapgl": [
           {
            "colorbar": {
             "outlinewidth": 0,
             "ticks": ""
            },
            "colorscale": [
             [
              0,
              "#0d0887"
             ],
             [
              0.1111111111111111,
              "#46039f"
             ],
             [
              0.2222222222222222,
              "#7201a8"
             ],
             [
              0.3333333333333333,
              "#9c179e"
             ],
             [
              0.4444444444444444,
              "#bd3786"
             ],
             [
              0.5555555555555556,
              "#d8576b"
             ],
             [
              0.6666666666666666,
              "#ed7953"
             ],
             [
              0.7777777777777778,
              "#fb9f3a"
             ],
             [
              0.8888888888888888,
              "#fdca26"
             ],
             [
              1,
              "#f0f921"
             ]
            ],
            "type": "heatmapgl"
           }
          ],
          "histogram": [
           {
            "marker": {
             "pattern": {
              "fillmode": "overlay",
              "size": 10,
              "solidity": 0.2
             }
            },
            "type": "histogram"
           }
          ],
          "histogram2d": [
           {
            "colorbar": {
             "outlinewidth": 0,
             "ticks": ""
            },
            "colorscale": [
             [
              0,
              "#0d0887"
             ],
             [
              0.1111111111111111,
              "#46039f"
             ],
             [
              0.2222222222222222,
              "#7201a8"
             ],
             [
              0.3333333333333333,
              "#9c179e"
             ],
             [
              0.4444444444444444,
              "#bd3786"
             ],
             [
              0.5555555555555556,
              "#d8576b"
             ],
             [
              0.6666666666666666,
              "#ed7953"
             ],
             [
              0.7777777777777778,
              "#fb9f3a"
             ],
             [
              0.8888888888888888,
              "#fdca26"
             ],
             [
              1,
              "#f0f921"
             ]
            ],
            "type": "histogram2d"
           }
          ],
          "histogram2dcontour": [
           {
            "colorbar": {
             "outlinewidth": 0,
             "ticks": ""
            },
            "colorscale": [
             [
              0,
              "#0d0887"
             ],
             [
              0.1111111111111111,
              "#46039f"
             ],
             [
              0.2222222222222222,
              "#7201a8"
             ],
             [
              0.3333333333333333,
              "#9c179e"
             ],
             [
              0.4444444444444444,
              "#bd3786"
             ],
             [
              0.5555555555555556,
              "#d8576b"
             ],
             [
              0.6666666666666666,
              "#ed7953"
             ],
             [
              0.7777777777777778,
              "#fb9f3a"
             ],
             [
              0.8888888888888888,
              "#fdca26"
             ],
             [
              1,
              "#f0f921"
             ]
            ],
            "type": "histogram2dcontour"
           }
          ],
          "mesh3d": [
           {
            "colorbar": {
             "outlinewidth": 0,
             "ticks": ""
            },
            "type": "mesh3d"
           }
          ],
          "parcoords": [
           {
            "line": {
             "colorbar": {
              "outlinewidth": 0,
              "ticks": ""
             }
            },
            "type": "parcoords"
           }
          ],
          "pie": [
           {
            "automargin": true,
            "type": "pie"
           }
          ],
          "scatter": [
           {
            "fillpattern": {
             "fillmode": "overlay",
             "size": 10,
             "solidity": 0.2
            },
            "type": "scatter"
           }
          ],
          "scatter3d": [
           {
            "line": {
             "colorbar": {
              "outlinewidth": 0,
              "ticks": ""
             }
            },
            "marker": {
             "colorbar": {
              "outlinewidth": 0,
              "ticks": ""
             }
            },
            "type": "scatter3d"
           }
          ],
          "scattercarpet": [
           {
            "marker": {
             "colorbar": {
              "outlinewidth": 0,
              "ticks": ""
             }
            },
            "type": "scattercarpet"
           }
          ],
          "scattergeo": [
           {
            "marker": {
             "colorbar": {
              "outlinewidth": 0,
              "ticks": ""
             }
            },
            "type": "scattergeo"
           }
          ],
          "scattergl": [
           {
            "marker": {
             "colorbar": {
              "outlinewidth": 0,
              "ticks": ""
             }
            },
            "type": "scattergl"
           }
          ],
          "scattermapbox": [
           {
            "marker": {
             "colorbar": {
              "outlinewidth": 0,
              "ticks": ""
             }
            },
            "type": "scattermapbox"
           }
          ],
          "scatterpolar": [
           {
            "marker": {
             "colorbar": {
              "outlinewidth": 0,
              "ticks": ""
             }
            },
            "type": "scatterpolar"
           }
          ],
          "scatterpolargl": [
           {
            "marker": {
             "colorbar": {
              "outlinewidth": 0,
              "ticks": ""
             }
            },
            "type": "scatterpolargl"
           }
          ],
          "scatterternary": [
           {
            "marker": {
             "colorbar": {
              "outlinewidth": 0,
              "ticks": ""
             }
            },
            "type": "scatterternary"
           }
          ],
          "surface": [
           {
            "colorbar": {
             "outlinewidth": 0,
             "ticks": ""
            },
            "colorscale": [
             [
              0,
              "#0d0887"
             ],
             [
              0.1111111111111111,
              "#46039f"
             ],
             [
              0.2222222222222222,
              "#7201a8"
             ],
             [
              0.3333333333333333,
              "#9c179e"
             ],
             [
              0.4444444444444444,
              "#bd3786"
             ],
             [
              0.5555555555555556,
              "#d8576b"
             ],
             [
              0.6666666666666666,
              "#ed7953"
             ],
             [
              0.7777777777777778,
              "#fb9f3a"
             ],
             [
              0.8888888888888888,
              "#fdca26"
             ],
             [
              1,
              "#f0f921"
             ]
            ],
            "type": "surface"
           }
          ],
          "table": [
           {
            "cells": {
             "fill": {
              "color": "#EBF0F8"
             },
             "line": {
              "color": "white"
             }
            },
            "header": {
             "fill": {
              "color": "#C8D4E3"
             },
             "line": {
              "color": "white"
             }
            },
            "type": "table"
           }
          ]
         },
         "layout": {
          "annotationdefaults": {
           "arrowcolor": "#2a3f5f",
           "arrowhead": 0,
           "arrowwidth": 1
          },
          "autotypenumbers": "strict",
          "coloraxis": {
           "colorbar": {
            "outlinewidth": 0,
            "ticks": ""
           }
          },
          "colorscale": {
           "diverging": [
            [
             0,
             "#8e0152"
            ],
            [
             0.1,
             "#c51b7d"
            ],
            [
             0.2,
             "#de77ae"
            ],
            [
             0.3,
             "#f1b6da"
            ],
            [
             0.4,
             "#fde0ef"
            ],
            [
             0.5,
             "#f7f7f7"
            ],
            [
             0.6,
             "#e6f5d0"
            ],
            [
             0.7,
             "#b8e186"
            ],
            [
             0.8,
             "#7fbc41"
            ],
            [
             0.9,
             "#4d9221"
            ],
            [
             1,
             "#276419"
            ]
           ],
           "sequential": [
            [
             0,
             "#0d0887"
            ],
            [
             0.1111111111111111,
             "#46039f"
            ],
            [
             0.2222222222222222,
             "#7201a8"
            ],
            [
             0.3333333333333333,
             "#9c179e"
            ],
            [
             0.4444444444444444,
             "#bd3786"
            ],
            [
             0.5555555555555556,
             "#d8576b"
            ],
            [
             0.6666666666666666,
             "#ed7953"
            ],
            [
             0.7777777777777778,
             "#fb9f3a"
            ],
            [
             0.8888888888888888,
             "#fdca26"
            ],
            [
             1,
             "#f0f921"
            ]
           ],
           "sequentialminus": [
            [
             0,
             "#0d0887"
            ],
            [
             0.1111111111111111,
             "#46039f"
            ],
            [
             0.2222222222222222,
             "#7201a8"
            ],
            [
             0.3333333333333333,
             "#9c179e"
            ],
            [
             0.4444444444444444,
             "#bd3786"
            ],
            [
             0.5555555555555556,
             "#d8576b"
            ],
            [
             0.6666666666666666,
             "#ed7953"
            ],
            [
             0.7777777777777778,
             "#fb9f3a"
            ],
            [
             0.8888888888888888,
             "#fdca26"
            ],
            [
             1,
             "#f0f921"
            ]
           ]
          },
          "colorway": [
           "#636efa",
           "#EF553B",
           "#00cc96",
           "#ab63fa",
           "#FFA15A",
           "#19d3f3",
           "#FF6692",
           "#B6E880",
           "#FF97FF",
           "#FECB52"
          ],
          "font": {
           "color": "#2a3f5f"
          },
          "geo": {
           "bgcolor": "white",
           "lakecolor": "white",
           "landcolor": "#E5ECF6",
           "showlakes": true,
           "showland": true,
           "subunitcolor": "white"
          },
          "hoverlabel": {
           "align": "left"
          },
          "hovermode": "closest",
          "mapbox": {
           "style": "light"
          },
          "paper_bgcolor": "white",
          "plot_bgcolor": "#E5ECF6",
          "polar": {
           "angularaxis": {
            "gridcolor": "white",
            "linecolor": "white",
            "ticks": ""
           },
           "bgcolor": "#E5ECF6",
           "radialaxis": {
            "gridcolor": "white",
            "linecolor": "white",
            "ticks": ""
           }
          },
          "scene": {
           "xaxis": {
            "backgroundcolor": "#E5ECF6",
            "gridcolor": "white",
            "gridwidth": 2,
            "linecolor": "white",
            "showbackground": true,
            "ticks": "",
            "zerolinecolor": "white"
           },
           "yaxis": {
            "backgroundcolor": "#E5ECF6",
            "gridcolor": "white",
            "gridwidth": 2,
            "linecolor": "white",
            "showbackground": true,
            "ticks": "",
            "zerolinecolor": "white"
           },
           "zaxis": {
            "backgroundcolor": "#E5ECF6",
            "gridcolor": "white",
            "gridwidth": 2,
            "linecolor": "white",
            "showbackground": true,
            "ticks": "",
            "zerolinecolor": "white"
           }
          },
          "shapedefaults": {
           "line": {
            "color": "#2a3f5f"
           }
          },
          "ternary": {
           "aaxis": {
            "gridcolor": "white",
            "linecolor": "white",
            "ticks": ""
           },
           "baxis": {
            "gridcolor": "white",
            "linecolor": "white",
            "ticks": ""
           },
           "bgcolor": "#E5ECF6",
           "caxis": {
            "gridcolor": "white",
            "linecolor": "white",
            "ticks": ""
           }
          },
          "title": {
           "x": 0.05
          },
          "xaxis": {
           "automargin": true,
           "gridcolor": "white",
           "linecolor": "white",
           "ticks": "",
           "title": {
            "standoff": 15
           },
           "zerolinecolor": "white",
           "zerolinewidth": 2
          },
          "yaxis": {
           "automargin": true,
           "gridcolor": "white",
           "linecolor": "white",
           "ticks": "",
           "title": {
            "standoff": 15
           },
           "zerolinecolor": "white",
           "zerolinewidth": 2
          }
         }
        },
        "title": {
         "font": {
          "color": "black",
          "family": "Times New Roman",
          "size": 18
         },
         "text": "Comparative Impact of Face Features on Person Re-Identification Performance"
        },
        "width": 900,
        "xaxis": {
         "tickfont": {
          "color": "black",
          "family": "Times New Roman",
          "size": 14
         },
         "tickmode": "array",
         "ticktext": [
          "NR=0.0",
          "NR=0.2",
          "NR=0.4"
         ],
         "tickvals": [
          0,
          1,
          2
         ],
         "title": {
          "font": {
           "color": "black",
           "family": "Times New Roman",
           "size": 16
          }
         }
        },
        "yaxis": {
         "gridcolor": "lightgray",
         "gridwidth": 0.5,
         "range": [
          0,
          1.2
         ],
         "showgrid": true,
         "tickfont": {
          "color": "black",
          "family": "Times New Roman",
          "size": 14
         },
         "title": {
          "font": {
           "color": "black",
           "family": "Times New Roman",
           "size": 16
          }
         },
         "zerolinecolor": "lightgray"
        }
       }
      },
      "text/html": [
       "<div>                            <div id=\"ad50e490-ec13-43a6-861c-3ccdb47e6489\" class=\"plotly-graph-div\" style=\"height:525px; width:900px;\"></div>            <script type=\"text/javascript\">                require([\"plotly\"], function(Plotly) {                    window.PLOTLYENV=window.PLOTLYENV || {};                                    if (document.getElementById(\"ad50e490-ec13-43a6-861c-3ccdb47e6489\")) {                    Plotly.newPlot(                        \"ad50e490-ec13-43a6-861c-3ccdb47e6489\",                        [{\"marker\":{\"color\":\"#02c21f\"},\"name\":\"Normal Training\",\"width\":0.15,\"x\":[-0.32,0.6799999999999999,1.68],\"y\":[0.5727,0.7287,0.82],\"type\":\"bar\"},{\"marker\":{\"color\":\"#e86202\"},\"name\":\"CASSOR\",\"width\":0.15,\"x\":[-0.16,0.84,1.84],\"y\":[0.6158,0.5902,0.5908],\"type\":\"bar\"},{\"marker\":{\"color\":\"#e30215\"},\"name\":\"ORDAC\",\"width\":0.15,\"x\":[0.0,1.0,2.0],\"y\":[0.5038,0.5329,0.6321],\"type\":\"bar\"},{\"marker\":{\"color\":\"#2878f7\"},\"name\":\"ORDAC+CASSOR\",\"width\":0.15,\"x\":[0.16,1.16,2.16],\"y\":[0.5671,0.5655,0.5918],\"type\":\"bar\"},{\"marker\":{\"color\":\"#c202b8\"},\"name\":\"ORDAC_R\",\"width\":0.15,\"x\":[0.32,1.32,2.32],\"y\":[0.5671,0.5655,0.5918],\"type\":\"bar\"}],                        {\"template\":{\"data\":{\"histogram2dcontour\":[{\"type\":\"histogram2dcontour\",\"colorbar\":{\"outlinewidth\":0,\"ticks\":\"\"},\"colorscale\":[[0.0,\"#0d0887\"],[0.1111111111111111,\"#46039f\"],[0.2222222222222222,\"#7201a8\"],[0.3333333333333333,\"#9c179e\"],[0.4444444444444444,\"#bd3786\"],[0.5555555555555556,\"#d8576b\"],[0.6666666666666666,\"#ed7953\"],[0.7777777777777778,\"#fb9f3a\"],[0.8888888888888888,\"#fdca26\"],[1.0,\"#f0f921\"]]}],\"choropleth\":[{\"type\":\"choropleth\",\"colorbar\":{\"outlinewidth\":0,\"ticks\":\"\"}}],\"histogram2d\":[{\"type\":\"histogram2d\",\"colorbar\":{\"outlinewidth\":0,\"ticks\":\"\"},\"colorscale\":[[0.0,\"#0d0887\"],[0.1111111111111111,\"#46039f\"],[0.2222222222222222,\"#7201a8\"],[0.3333333333333333,\"#9c179e\"],[0.4444444444444444,\"#bd3786\"],[0.5555555555555556,\"#d8576b\"],[0.6666666666666666,\"#ed7953\"],[0.7777777777777778,\"#fb9f3a\"],[0.8888888888888888,\"#fdca26\"],[1.0,\"#f0f921\"]]}],\"heatmap\":[{\"type\":\"heatmap\",\"colorbar\":{\"outlinewidth\":0,\"ticks\":\"\"},\"colorscale\":[[0.0,\"#0d0887\"],[0.1111111111111111,\"#46039f\"],[0.2222222222222222,\"#7201a8\"],[0.3333333333333333,\"#9c179e\"],[0.4444444444444444,\"#bd3786\"],[0.5555555555555556,\"#d8576b\"],[0.6666666666666666,\"#ed7953\"],[0.7777777777777778,\"#fb9f3a\"],[0.8888888888888888,\"#fdca26\"],[1.0,\"#f0f921\"]]}],\"heatmapgl\":[{\"type\":\"heatmapgl\",\"colorbar\":{\"outlinewidth\":0,\"ticks\":\"\"},\"colorscale\":[[0.0,\"#0d0887\"],[0.1111111111111111,\"#46039f\"],[0.2222222222222222,\"#7201a8\"],[0.3333333333333333,\"#9c179e\"],[0.4444444444444444,\"#bd3786\"],[0.5555555555555556,\"#d8576b\"],[0.6666666666666666,\"#ed7953\"],[0.7777777777777778,\"#fb9f3a\"],[0.8888888888888888,\"#fdca26\"],[1.0,\"#f0f921\"]]}],\"contourcarpet\":[{\"type\":\"contourcarpet\",\"colorbar\":{\"outlinewidth\":0,\"ticks\":\"\"}}],\"contour\":[{\"type\":\"contour\",\"colorbar\":{\"outlinewidth\":0,\"ticks\":\"\"},\"colorscale\":[[0.0,\"#0d0887\"],[0.1111111111111111,\"#46039f\"],[0.2222222222222222,\"#7201a8\"],[0.3333333333333333,\"#9c179e\"],[0.4444444444444444,\"#bd3786\"],[0.5555555555555556,\"#d8576b\"],[0.6666666666666666,\"#ed7953\"],[0.7777777777777778,\"#fb9f3a\"],[0.8888888888888888,\"#fdca26\"],[1.0,\"#f0f921\"]]}],\"surface\":[{\"type\":\"surface\",\"colorbar\":{\"outlinewidth\":0,\"ticks\":\"\"},\"colorscale\":[[0.0,\"#0d0887\"],[0.1111111111111111,\"#46039f\"],[0.2222222222222222,\"#7201a8\"],[0.3333333333333333,\"#9c179e\"],[0.4444444444444444,\"#bd3786\"],[0.5555555555555556,\"#d8576b\"],[0.6666666666666666,\"#ed7953\"],[0.7777777777777778,\"#fb9f3a\"],[0.8888888888888888,\"#fdca26\"],[1.0,\"#f0f921\"]]}],\"mesh3d\":[{\"type\":\"mesh3d\",\"colorbar\":{\"outlinewidth\":0,\"ticks\":\"\"}}],\"scatter\":[{\"fillpattern\":{\"fillmode\":\"overlay\",\"size\":10,\"solidity\":0.2},\"type\":\"scatter\"}],\"parcoords\":[{\"type\":\"parcoords\",\"line\":{\"colorbar\":{\"outlinewidth\":0,\"ticks\":\"\"}}}],\"scatterpolargl\":[{\"type\":\"scatterpolargl\",\"marker\":{\"colorbar\":{\"outlinewidth\":0,\"ticks\":\"\"}}}],\"bar\":[{\"error_x\":{\"color\":\"#2a3f5f\"},\"error_y\":{\"color\":\"#2a3f5f\"},\"marker\":{\"line\":{\"color\":\"#E5ECF6\",\"width\":0.5},\"pattern\":{\"fillmode\":\"overlay\",\"size\":10,\"solidity\":0.2}},\"type\":\"bar\"}],\"scattergeo\":[{\"type\":\"scattergeo\",\"marker\":{\"colorbar\":{\"outlinewidth\":0,\"ticks\":\"\"}}}],\"scatterpolar\":[{\"type\":\"scatterpolar\",\"marker\":{\"colorbar\":{\"outlinewidth\":0,\"ticks\":\"\"}}}],\"histogram\":[{\"marker\":{\"pattern\":{\"fillmode\":\"overlay\",\"size\":10,\"solidity\":0.2}},\"type\":\"histogram\"}],\"scattergl\":[{\"type\":\"scattergl\",\"marker\":{\"colorbar\":{\"outlinewidth\":0,\"ticks\":\"\"}}}],\"scatter3d\":[{\"type\":\"scatter3d\",\"line\":{\"colorbar\":{\"outlinewidth\":0,\"ticks\":\"\"}},\"marker\":{\"colorbar\":{\"outlinewidth\":0,\"ticks\":\"\"}}}],\"scattermapbox\":[{\"type\":\"scattermapbox\",\"marker\":{\"colorbar\":{\"outlinewidth\":0,\"ticks\":\"\"}}}],\"scatterternary\":[{\"type\":\"scatterternary\",\"marker\":{\"colorbar\":{\"outlinewidth\":0,\"ticks\":\"\"}}}],\"scattercarpet\":[{\"type\":\"scattercarpet\",\"marker\":{\"colorbar\":{\"outlinewidth\":0,\"ticks\":\"\"}}}],\"carpet\":[{\"aaxis\":{\"endlinecolor\":\"#2a3f5f\",\"gridcolor\":\"white\",\"linecolor\":\"white\",\"minorgridcolor\":\"white\",\"startlinecolor\":\"#2a3f5f\"},\"baxis\":{\"endlinecolor\":\"#2a3f5f\",\"gridcolor\":\"white\",\"linecolor\":\"white\",\"minorgridcolor\":\"white\",\"startlinecolor\":\"#2a3f5f\"},\"type\":\"carpet\"}],\"table\":[{\"cells\":{\"fill\":{\"color\":\"#EBF0F8\"},\"line\":{\"color\":\"white\"}},\"header\":{\"fill\":{\"color\":\"#C8D4E3\"},\"line\":{\"color\":\"white\"}},\"type\":\"table\"}],\"barpolar\":[{\"marker\":{\"line\":{\"color\":\"#E5ECF6\",\"width\":0.5},\"pattern\":{\"fillmode\":\"overlay\",\"size\":10,\"solidity\":0.2}},\"type\":\"barpolar\"}],\"pie\":[{\"automargin\":true,\"type\":\"pie\"}]},\"layout\":{\"autotypenumbers\":\"strict\",\"colorway\":[\"#636efa\",\"#EF553B\",\"#00cc96\",\"#ab63fa\",\"#FFA15A\",\"#19d3f3\",\"#FF6692\",\"#B6E880\",\"#FF97FF\",\"#FECB52\"],\"font\":{\"color\":\"#2a3f5f\"},\"hovermode\":\"closest\",\"hoverlabel\":{\"align\":\"left\"},\"paper_bgcolor\":\"white\",\"plot_bgcolor\":\"#E5ECF6\",\"polar\":{\"bgcolor\":\"#E5ECF6\",\"angularaxis\":{\"gridcolor\":\"white\",\"linecolor\":\"white\",\"ticks\":\"\"},\"radialaxis\":{\"gridcolor\":\"white\",\"linecolor\":\"white\",\"ticks\":\"\"}},\"ternary\":{\"bgcolor\":\"#E5ECF6\",\"aaxis\":{\"gridcolor\":\"white\",\"linecolor\":\"white\",\"ticks\":\"\"},\"baxis\":{\"gridcolor\":\"white\",\"linecolor\":\"white\",\"ticks\":\"\"},\"caxis\":{\"gridcolor\":\"white\",\"linecolor\":\"white\",\"ticks\":\"\"}},\"coloraxis\":{\"colorbar\":{\"outlinewidth\":0,\"ticks\":\"\"}},\"colorscale\":{\"sequential\":[[0.0,\"#0d0887\"],[0.1111111111111111,\"#46039f\"],[0.2222222222222222,\"#7201a8\"],[0.3333333333333333,\"#9c179e\"],[0.4444444444444444,\"#bd3786\"],[0.5555555555555556,\"#d8576b\"],[0.6666666666666666,\"#ed7953\"],[0.7777777777777778,\"#fb9f3a\"],[0.8888888888888888,\"#fdca26\"],[1.0,\"#f0f921\"]],\"sequentialminus\":[[0.0,\"#0d0887\"],[0.1111111111111111,\"#46039f\"],[0.2222222222222222,\"#7201a8\"],[0.3333333333333333,\"#9c179e\"],[0.4444444444444444,\"#bd3786\"],[0.5555555555555556,\"#d8576b\"],[0.6666666666666666,\"#ed7953\"],[0.7777777777777778,\"#fb9f3a\"],[0.8888888888888888,\"#fdca26\"],[1.0,\"#f0f921\"]],\"diverging\":[[0,\"#8e0152\"],[0.1,\"#c51b7d\"],[0.2,\"#de77ae\"],[0.3,\"#f1b6da\"],[0.4,\"#fde0ef\"],[0.5,\"#f7f7f7\"],[0.6,\"#e6f5d0\"],[0.7,\"#b8e186\"],[0.8,\"#7fbc41\"],[0.9,\"#4d9221\"],[1,\"#276419\"]]},\"xaxis\":{\"gridcolor\":\"white\",\"linecolor\":\"white\",\"ticks\":\"\",\"title\":{\"standoff\":15},\"zerolinecolor\":\"white\",\"automargin\":true,\"zerolinewidth\":2},\"yaxis\":{\"gridcolor\":\"white\",\"linecolor\":\"white\",\"ticks\":\"\",\"title\":{\"standoff\":15},\"zerolinecolor\":\"white\",\"automargin\":true,\"zerolinewidth\":2},\"scene\":{\"xaxis\":{\"backgroundcolor\":\"#E5ECF6\",\"gridcolor\":\"white\",\"linecolor\":\"white\",\"showbackground\":true,\"ticks\":\"\",\"zerolinecolor\":\"white\",\"gridwidth\":2},\"yaxis\":{\"backgroundcolor\":\"#E5ECF6\",\"gridcolor\":\"white\",\"linecolor\":\"white\",\"showbackground\":true,\"ticks\":\"\",\"zerolinecolor\":\"white\",\"gridwidth\":2},\"zaxis\":{\"backgroundcolor\":\"#E5ECF6\",\"gridcolor\":\"white\",\"linecolor\":\"white\",\"showbackground\":true,\"ticks\":\"\",\"zerolinecolor\":\"white\",\"gridwidth\":2}},\"shapedefaults\":{\"line\":{\"color\":\"#2a3f5f\"}},\"annotationdefaults\":{\"arrowcolor\":\"#2a3f5f\",\"arrowhead\":0,\"arrowwidth\":1},\"geo\":{\"bgcolor\":\"white\",\"landcolor\":\"#E5ECF6\",\"subunitcolor\":\"white\",\"showland\":true,\"showlakes\":true,\"lakecolor\":\"white\"},\"title\":{\"x\":0.05},\"mapbox\":{\"style\":\"light\"}}},\"xaxis\":{\"title\":{\"font\":{\"size\":16,\"family\":\"Times New Roman\",\"color\":\"black\"}},\"tickfont\":{\"size\":14,\"family\":\"Times New Roman\",\"color\":\"black\"},\"tickmode\":\"array\",\"tickvals\":[0,1,2],\"ticktext\":[\"NR=0.0\",\"NR=0.2\",\"NR=0.4\"]},\"title\":{\"text\":\"Comparative Impact of Face Features on Person Re-Identification Performance\",\"font\":{\"size\":18,\"family\":\"Times New Roman\",\"color\":\"black\"}},\"yaxis\":{\"title\":{\"font\":{\"size\":16,\"family\":\"Times New Roman\",\"color\":\"black\"}},\"tickfont\":{\"size\":14,\"family\":\"Times New Roman\",\"color\":\"black\"},\"showgrid\":true,\"gridcolor\":\"lightgray\",\"gridwidth\":0.5,\"zerolinecolor\":\"lightgray\",\"range\":[0,1.2]},\"legend\":{\"font\":{\"family\":\"Times New Roman\",\"size\":12,\"color\":\"black\"},\"orientation\":\"h\",\"yanchor\":\"bottom\",\"y\":1.02,\"xanchor\":\"center\",\"x\":0.5},\"annotations\":[{\"font\":{\"color\":\"black\",\"family\":\"Times New Roman\",\"size\":12},\"showarrow\":false,\"text\":\"0.5727 \\u00b1 0.0366\",\"textangle\":-45,\"x\":-0.22,\"xanchor\":\"center\",\"y\":0.5627,\"yanchor\":\"bottom\"},{\"font\":{\"color\":\"black\",\"family\":\"Times New Roman\",\"size\":12},\"showarrow\":false,\"text\":\"0.7287 \\u00b1 0.0000\",\"textangle\":-45,\"x\":0.7799999999999999,\"xanchor\":\"center\",\"y\":0.7187,\"yanchor\":\"bottom\"},{\"font\":{\"color\":\"black\",\"family\":\"Times New Roman\",\"size\":12},\"showarrow\":false,\"text\":\"0.8200 \\u00b1 0.0632\",\"textangle\":-45,\"x\":1.78,\"xanchor\":\"center\",\"y\":0.8099999999999999,\"yanchor\":\"bottom\"},{\"font\":{\"color\":\"black\",\"family\":\"Times New Roman\",\"size\":12},\"showarrow\":false,\"text\":\"0.6158 \\u00b1 0.0611\",\"textangle\":-45,\"x\":-0.06,\"xanchor\":\"center\",\"y\":0.6058,\"yanchor\":\"bottom\"},{\"font\":{\"color\":\"black\",\"family\":\"Times New Roman\",\"size\":12},\"showarrow\":false,\"text\":\"0.5902 \\u00b1 0.0442\",\"textangle\":-45,\"x\":0.94,\"xanchor\":\"center\",\"y\":0.5801999999999999,\"yanchor\":\"bottom\"},{\"font\":{\"color\":\"black\",\"family\":\"Times New Roman\",\"size\":12},\"showarrow\":false,\"text\":\"0.5908 \\u00b1 0.0605\",\"textangle\":-45,\"x\":1.9400000000000002,\"xanchor\":\"center\",\"y\":0.5808,\"yanchor\":\"bottom\"},{\"font\":{\"color\":\"black\",\"family\":\"Times New Roman\",\"size\":12},\"showarrow\":false,\"text\":\"0.5038 \\u00b1 0.0458\",\"textangle\":-45,\"x\":0.1,\"xanchor\":\"center\",\"y\":0.4938,\"yanchor\":\"bottom\"},{\"font\":{\"color\":\"black\",\"family\":\"Times New Roman\",\"size\":12},\"showarrow\":false,\"text\":\"0.5329 \\u00b1 0.0348\",\"textangle\":-45,\"x\":1.1,\"xanchor\":\"center\",\"y\":0.5229,\"yanchor\":\"bottom\"},{\"font\":{\"color\":\"black\",\"family\":\"Times New Roman\",\"size\":12},\"showarrow\":false,\"text\":\"0.6321 \\u00b1 0.0288\",\"textangle\":-45,\"x\":2.1,\"xanchor\":\"center\",\"y\":0.6221,\"yanchor\":\"bottom\"},{\"font\":{\"color\":\"black\",\"family\":\"Times New Roman\",\"size\":12},\"showarrow\":false,\"text\":\"0.5671 \\u00b1 0.0449\",\"textangle\":-45,\"x\":0.26,\"xanchor\":\"center\",\"y\":0.5571,\"yanchor\":\"bottom\"},{\"font\":{\"color\":\"black\",\"family\":\"Times New Roman\",\"size\":12},\"showarrow\":false,\"text\":\"0.5655 \\u00b1 0.0497\",\"textangle\":-45,\"x\":1.26,\"xanchor\":\"center\",\"y\":0.5555,\"yanchor\":\"bottom\"},{\"font\":{\"color\":\"black\",\"family\":\"Times New Roman\",\"size\":12},\"showarrow\":false,\"text\":\"0.5918 \\u00b1 0.0523\",\"textangle\":-45,\"x\":2.2600000000000002,\"xanchor\":\"center\",\"y\":0.5818,\"yanchor\":\"bottom\"},{\"font\":{\"color\":\"black\",\"family\":\"Times New Roman\",\"size\":12},\"showarrow\":false,\"text\":\"0.5671 \\u00b1 0.0449\",\"textangle\":-45,\"x\":0.42000000000000004,\"xanchor\":\"center\",\"y\":0.5571,\"yanchor\":\"bottom\"},{\"font\":{\"color\":\"black\",\"family\":\"Times New Roman\",\"size\":12},\"showarrow\":false,\"text\":\"0.5655 \\u00b1 0.0497\",\"textangle\":-45,\"x\":1.4200000000000002,\"xanchor\":\"center\",\"y\":0.5555,\"yanchor\":\"bottom\"},{\"font\":{\"color\":\"black\",\"family\":\"Times New Roman\",\"size\":12},\"showarrow\":false,\"text\":\"0.5918 \\u00b1 0.0523\",\"textangle\":-45,\"x\":2.42,\"xanchor\":\"center\",\"y\":0.5818,\"yanchor\":\"bottom\"}],\"barmode\":\"group\",\"bargap\":0.15,\"bargroupgap\":0.05,\"width\":900,\"plot_bgcolor\":\"white\"},                        {\"responsive\": true}                    ).then(function(){\n",
       "                            \n",
       "var gd = document.getElementById('ad50e490-ec13-43a6-861c-3ccdb47e6489');\n",
       "var x = new MutationObserver(function (mutations, observer) {{\n",
       "        var display = window.getComputedStyle(gd).display;\n",
       "        if (!display || display === 'none') {{\n",
       "            console.log([gd, 'removed!']);\n",
       "            Plotly.purge(gd);\n",
       "            observer.disconnect();\n",
       "        }}\n",
       "}});\n",
       "\n",
       "// Listen for the removal of the full notebook cells\n",
       "var notebookContainer = gd.closest('#notebook-container');\n",
       "if (notebookContainer) {{\n",
       "    x.observe(notebookContainer, {childList: true});\n",
       "}}\n",
       "\n",
       "// Listen for the clearing of the current output cell\n",
       "var outputEl = gd.closest('.output');\n",
       "if (outputEl) {{\n",
       "    x.observe(outputEl, {childList: true});\n",
       "}}\n",
       "\n",
       "                        })                };                });            </script>        </div>"
      ]
     },
     "metadata": {},
     "output_type": "display_data"
    }
   ],
   "source": [
    "import plotly.graph_objects as go\n",
    "\n",
    "# Data\n",
    "metrics = ['NR=0.0', 'NR=0.2', 'NR=0.4']\n",
    "normal_training = [0.5727, 0.7287, 0.8200]\n",
    "normal_training_std = [0.0366, 0.0, 0.0632]\n",
    "\n",
    "cassor = [0.6158, 0.5902, 0.5908]\n",
    "cassor_std = [0.0611, 0.0442, 0.0605]\n",
    "\n",
    "ordac = [0.5038, 0.5329, 0.6321]\n",
    "ordac_std = [0.0458, 0.0348, 0.0288]\n",
    "\n",
    "ordac_cassor = [0.5671, 0.5655, 0.5918]\n",
    "ordac_cassor_std = [0.0449, 0.0497, 0.0523]\n",
    "\n",
    "ordac_r = [0.5671, 0.5655, 0.5918]\n",
    "ordac_r_std = [0.0449, 0.0497, 0.0523]\n",
    "\n",
    "fig = go.Figure()\n",
    "\n",
    "bar_width = 0.15\n",
    "x_positions = list(range(len(metrics)))\n",
    "group_spacing = 0.2\n",
    "trace_count = 5\n",
    "\n",
    "# Offsets for each bar group (centered alignment)\n",
    "offsets = [-2, -1, 0, 1, 2]\n",
    "offsets = [o * (bar_width + 0.01) for o in offsets]\n",
    "\n",
    "bar_data = [\n",
    "    ('Normal Training', normal_training, normal_training_std, '#02c21f'),\n",
    "    ('CASSOR', cassor, cassor_std, '#e86202'),\n",
    "    ('ORDAC', ordac, ordac_std, '#e30215'),\n",
    "    ('ORDAC+CASSOR', ordac_cassor, ordac_cassor_std, '#2878f7'),\n",
    "    ('ORDAC_R', ordac_r, ordac_r_std, '#c202b8')\n",
    "]\n",
    "\n",
    "annotations = []\n",
    "\n",
    "for i, (name, vals, stds, color) in enumerate(bar_data):\n",
    "    x = [pos + offsets[i] for pos in x_positions]\n",
    "    fig.add_trace(go.Bar(\n",
    "        x=x, y=vals, name=name,\n",
    "        marker_color=color, width=bar_width,\n",
    "        text=None  # We'll add custom annotations\n",
    "    ))\n",
    "    for xi, yi, std in zip(x, vals, stds):\n",
    "        text = f'{yi:.4f} ± {std:.4f}'\n",
    "        annotations.append(dict(\n",
    "            x=xi + 0.1,\n",
    "            y=yi - 0.01,  # small vertical offset\n",
    "            text=text,\n",
    "            textangle=-45,\n",
    "            showarrow=False,\n",
    "            font=dict(size=12, family='Times New Roman', color='black'),\n",
    "            xanchor='center',\n",
    "            yanchor='bottom'\n",
    "        ))\n",
    "\n",
    "# Final layout\n",
    "fig.update_layout(\n",
    "    annotations=annotations,\n",
    "    xaxis=dict(\n",
    "        tickmode='array',\n",
    "        tickvals=x_positions,\n",
    "        ticktext=metrics\n",
    "    ),\n",
    "    title='Comparative Impact of Face Features on Person Re-Identification Performance',\n",
    "    barmode='group',\n",
    "    bargap=0.15,\n",
    "    bargroupgap=0.05,\n",
    "    width=900,\n",
    "    plot_bgcolor='white',\n",
    "    title_font=dict(size=18, family='Times New Roman', color='black'),\n",
    "    xaxis_title_font=dict(size=16, family='Times New Roman', color='black'),\n",
    "    yaxis_title_font=dict(size=16, family='Times New Roman', color='black'),\n",
    "    xaxis_tickfont=dict(size=14, family='Times New Roman', color='black'),\n",
    "    yaxis_tickfont=dict(size=14, family='Times New Roman', color='black'),\n",
    "    legend=dict(\n",
    "        orientation=\"h\",\n",
    "        yanchor=\"bottom\",\n",
    "        y=1.02,\n",
    "        xanchor=\"center\",\n",
    "        x=0.5,\n",
    "        font=dict(\n",
    "            family='Times New Roman',\n",
    "            size=12,\n",
    "            color='black'\n",
    "        )\n",
    "    )\n",
    ")\n",
    "\n",
    "fig.update_yaxes(\n",
    "    showgrid=True,\n",
    "    gridcolor='lightgray',\n",
    "    gridwidth=0.5,\n",
    "    zerolinecolor='lightgray',\n",
    "    range=[0, 1.2]\n",
    ")\n",
    "\n",
    "fig.show()\n"
   ]
  }
 ],
 "metadata": {
  "kernelspec": {
   "display_name": "automated_annotation",
   "language": "python",
   "name": "python3"
  },
  "language_info": {
   "codemirror_mode": {
    "name": "ipython",
    "version": 3
   },
   "file_extension": ".py",
   "mimetype": "text/x-python",
   "name": "python",
   "nbconvert_exporter": "python",
   "pygments_lexer": "ipython3",
   "version": "3.10.12"
  }
 },
 "nbformat": 4,
 "nbformat_minor": 5
}

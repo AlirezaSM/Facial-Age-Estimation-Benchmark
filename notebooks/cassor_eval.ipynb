{
 "cells": [
  {
   "cell_type": "code",
   "execution_count": 6,
   "metadata": {},
   "outputs": [],
   "source": [
    "import torch\n",
    "import numpy as np\n",
    "import pandas as pd\n",
    "\n",
    "eval_path = \"../facebase/results/Adience_256x256_resnet50_imagenet_noisy_dldl_v2_nr2_smcarl_v3/split0/evaluation.pt\"\n",
    "ev = torch.load(eval_path)\n",
    "\n",
    "# Extract necessary data\n",
    "id_list = ev['id']\n",
    "folder_list = ev['folder']\n",
    "true_label = np.array(ev['true_label']['age'])\n",
    "# true_label = df[3].to_numpy()\n",
    "predicted_label = np.array(ev['predicted_label']['age'])\n",
    "\n",
    "# Filter test indices where folder == 2\n",
    "test_indices = [i for i in range(len(id_list)) if folder_list[i] == 2]\n",
    "\n",
    "y_true = true_label[test_indices]\n",
    "y_pred = predicted_label[test_indices]"
   ]
  },
  {
   "cell_type": "code",
   "execution_count": 7,
   "metadata": {},
   "outputs": [],
   "source": [
    "def rank_acc_mae(y_pre, y, num_class):\n",
    "    df = pd.DataFrame({'pre':y_pre.cpu().numpy()})\n",
    "    rank_pre_num_list = torch.zeros(num_class,device=y_pre.device)\n",
    "    rank_acc_list = torch.zeros(num_class,device=y_pre.device)\n",
    "    rank_mae_list = torch.zeros(num_class, device=y_pre.device)\n",
    "    for rank in range(num_class):\n",
    "        # pre num\n",
    "        rank_pre_num = sum(y_pre==rank)\n",
    "        rank_pre_num_list[rank]= rank_pre_num\n",
    "        # pre acc&mae\n",
    "        y_rank_pre = y_pre[y == rank]\n",
    "        if len(y_rank_pre)==0:\n",
    "            y_rank_acc=0\n",
    "            y_rank_mae=np.inf\n",
    "        else:\n",
    "            y_rank_acc = sum(y_rank_pre == rank)/len(y_rank_pre)\n",
    "            y_rank_mae = torch.sum(torch.abs(y_rank_pre-rank))/len(y_rank_pre)\n",
    "        rank_acc_list[rank] = y_rank_acc\n",
    "        rank_mae_list[rank] = y_rank_mae\n",
    "    return rank_acc_list, rank_mae_list, rank_pre_num_list\n"
   ]
  },
  {
   "cell_type": "code",
   "execution_count": null,
   "metadata": {},
   "outputs": [
    {
     "data": {
      "text/plain": [
       "(tensor([0.6398, 0.7842, 0.3382, 0.3216, 0.6714, 0.3446, 0.2490, 0.3385]),\n",
       " tensor([0.3892, 0.2825, 0.9265, 0.7269, 0.3551, 0.7490, 1.0954, 0.9494]),\n",
       " tensor([ 332.,  636.,  236.,  373., 1157.,  556.,  285.,  104.]))"
      ]
     },
     "execution_count": 9,
     "metadata": {},
     "output_type": "execute_result"
    }
   ],
   "source": [
    "rank_acc_mae(y_pre=torch.tensor(y_pred), y=torch.tensor(y_true), num_class=8)"
   ]
  },
  {
   "cell_type": "code",
   "execution_count": 10,
   "metadata": {},
   "outputs": [
    {
     "data": {
      "text/plain": [
       "(tensor(0.4609), tensor(0.6842))"
      ]
     },
     "execution_count": 10,
     "metadata": {},
     "output_type": "execute_result"
    }
   ],
   "source": [
    "acc, mae, n = rank_acc_mae(y_pre=torch.tensor(y_pred), y=torch.tensor(y_true), num_class=8)\n",
    "torch.mean(acc), torch.mean(mae)"
   ]
  },
  {
   "cell_type": "code",
   "execution_count": 12,
   "metadata": {},
   "outputs": [],
   "source": [
    "#MAE\n",
    "def MAE(Y,Y_pre):\n",
    "    from sklearn.metrics import mean_absolute_error\n",
    "    return mean_absolute_error(Y,Y_pre)\n",
    "#RMSE\n",
    "def RMSE(Y,Y_pre):\n",
    "    from sklearn.metrics import mean_squared_error\n",
    "    return np.sqrt(mean_squared_error(Y,Y_pre))\n",
    "#ACC\n",
    "def ACC(Y,Y_pre):\n",
    "    from sklearn.metrics import accuracy_score\n",
    "    return accuracy_score(Y,Y_pre)"
   ]
  },
  {
   "cell_type": "code",
   "execution_count": 13,
   "metadata": {},
   "outputs": [
    {
     "data": {
      "text/plain": [
       "0.5678173416689318"
      ]
     },
     "execution_count": 13,
     "metadata": {},
     "output_type": "execute_result"
    }
   ],
   "source": [
    "MAE(y_true, y_pred)"
   ]
  }
 ],
 "metadata": {
  "kernelspec": {
   "display_name": "torch",
   "language": "python",
   "name": "python3"
  },
  "language_info": {
   "codemirror_mode": {
    "name": "ipython",
    "version": 3
   },
   "file_extension": ".py",
   "mimetype": "text/x-python",
   "name": "python",
   "nbconvert_exporter": "python",
   "pygments_lexer": "ipython3",
   "version": "3.10.12"
  }
 },
 "nbformat": 4,
 "nbformat_minor": 2
}

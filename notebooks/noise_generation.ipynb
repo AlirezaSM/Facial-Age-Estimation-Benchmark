{
 "cells": [
  {
   "cell_type": "markdown",
   "metadata": {},
   "source": [
    "# Noise Injection Methods"
   ]
  },
  {
   "cell_type": "markdown",
   "metadata": {},
   "source": [
    "## Libraries"
   ]
  },
  {
   "cell_type": "code",
   "execution_count": 1,
   "metadata": {},
   "outputs": [],
   "source": [
    "import numpy as np\n",
    "import pandas as pd\n",
    "\n",
    "np.set_printoptions(precision=4, suppress=False, linewidth=10000)"
   ]
  },
  {
   "cell_type": "markdown",
   "metadata": {},
   "source": [
    "## Noise Transition Matrix Generation"
   ]
  },
  {
   "cell_type": "markdown",
   "metadata": {},
   "source": [
    "### Distributed robust support vector ordinal regression under label noise"
   ]
  },
  {
   "cell_type": "code",
   "execution_count": 2,
   "metadata": {},
   "outputs": [
    {
     "name": "stdout",
     "output_type": "stream",
     "text": [
      "Noise Transition Matrix:\n",
      "[[0.823  0.0606 0.0513 0.0388 0.0263]\n",
      " [0.0606 0.7888 0.0606 0.0513 0.0388]\n",
      " [0.0513 0.0606 0.7764 0.0606 0.0513]\n",
      " [0.0388 0.0513 0.0606 0.7888 0.0606]\n",
      " [0.0263 0.0388 0.0513 0.0606 0.823 ]]\n",
      "Row sums: [1. 1. 1. 1. 1.]\n",
      "Overall noise rate: 0.2 \n",
      "\n"
     ]
    }
   ],
   "source": [
    "import numpy as np\n",
    "\n",
    "def create_noise_transition_matrix(num_classes, noise_rate, sigma):\n",
    "    \"\"\"\n",
    "    Create a noise transition matrix based on the Gaussian decaying label noise method.\n",
    "\n",
    "    Parameters:\n",
    "    num_classes (int): Number of classes (Q).\n",
    "    noise_rate (float): Noise rate (tau).\n",
    "    sigma (float): Sigma parameter controlling the decay rate of the noise.\n",
    "\n",
    "    Returns:\n",
    "    np.ndarray: Noise transition matrix of shape (num_classes, num_classes).\n",
    "    \"\"\"\n",
    "    # Initialize the noise transition matrix\n",
    "    T = np.zeros((num_classes, num_classes))\n",
    "    \n",
    "    # Calculate the off-diagonal elements using Gaussian decaying noise\n",
    "    for i in range(num_classes):\n",
    "        for j in range(num_classes):\n",
    "            if i != j:\n",
    "                T[i, j] = np.exp(-((i - j) ** 2) / (2 * sigma ** 2))\n",
    "    \n",
    "    # Normalize the off-diagonal elements to ensure the sum of each row is 1\n",
    "    # First, calculate the sum of the off-diagonal elements for each row\n",
    "    row_sums = T.sum(axis=1)\n",
    "    \n",
    "    # Calculate the normalization factor rho\n",
    "    rho = noise_rate * num_classes / row_sums.sum()\n",
    "    \n",
    "    # Scale the off-diagonal elements by rho\n",
    "    T = rho * T\n",
    "    \n",
    "    # Set the diagonal elements to ensure the sum of each row is 1\n",
    "    for i in range(num_classes):\n",
    "        T[i, i] = 1 - T[i, :].sum()\n",
    "    \n",
    "    return T\n",
    "\n",
    "# Example usage:\n",
    "num_classes = 5\n",
    "noise_rate = 0.2\n",
    "sigma = 3\n",
    "\n",
    "noise_matrix = create_noise_transition_matrix(num_classes, noise_rate, sigma)\n",
    "print(\"Noise Transition Matrix:\")\n",
    "print(noise_matrix)\n",
    "print(\"Row sums:\", noise_matrix.sum(axis=1))\n",
    "print(\"Overall noise rate:\", (noise_matrix.sum() - np.trace(noise_matrix)) / num_classes, '\\n')"
   ]
  },
  {
   "cell_type": "markdown",
   "metadata": {},
   "source": [
    "# Create Noisy Versions"
   ]
  },
  {
   "cell_type": "code",
   "execution_count": 4,
   "metadata": {},
   "outputs": [],
   "source": [
    "def flip_labels_using_noise_matrix(input_csv, transition_matrix, output_csv, seed=None):\n",
    "    \"\"\"\n",
    "    Randomly flip the labels in the age column of a CSV file using a given label noise transition matrix.\n",
    "\n",
    "    Parameters:\n",
    "    input_csv (str): Path to the input CSV file (e.g., train.csv).\n",
    "    transition_matrix (np.ndarray): The label noise transition matrix.\n",
    "    output_csv (str): Path to the output CSV file.\n",
    "    seed (int, optional): Seed for NumPy random number generator to stabilize random results.\n",
    "\n",
    "    The output CSV file will contain a new column 'original_age' with the original labels and\n",
    "    the 'age' column with the flipped labels.\n",
    "    \"\"\"\n",
    "    # Create a random generator with the provided seed\n",
    "    rng = np.random.default_rng(seed)\n",
    "\n",
    "    # Load the CSV into a pandas DataFrame\n",
    "    df = pd.read_csv(input_csv)\n",
    "\n",
    "    # Ensure 'age' column is treated as categorical labels\n",
    "    unique_ages = sorted(df['age'].unique())\n",
    "    num_classes = len(unique_ages)\n",
    "\n",
    "    # Map ages to class indices\n",
    "    age_to_index = {age: i for i, age in enumerate(unique_ages)}\n",
    "    index_to_age = {i: age for i, age in enumerate(unique_ages)}\n",
    "\n",
    "    # Function to flip a label based on the transition matrix\n",
    "    def flip_label(original_age):\n",
    "        original_index = age_to_index[original_age]\n",
    "        flipped_index = rng.choice(num_classes, p=transition_matrix[original_index])  # Use local RNG\n",
    "        return index_to_age[flipped_index]\n",
    "\n",
    "    # Store the original labels in a new column\n",
    "    df['original_age'] = df['age']\n",
    "\n",
    "    # Flip the labels in the 'age' column\n",
    "    df['age'] = df['age'].apply(flip_label)\n",
    "\n",
    "    # Save the new DataFrame to a new CSV file\n",
    "    df.to_csv(output_csv, index=False)\n",
    "    print(f\"Labels flipped and saved to {output_csv}\")"
   ]
  },
  {
   "cell_type": "code",
   "execution_count": 5,
   "metadata": {},
   "outputs": [],
   "source": [
    "def calculate_empirical_noise_matrix(csv_file):\n",
    "    \"\"\"\n",
    "    Calculate the empirical label noise matrix based on the flipped labels in the CSV file.\n",
    "\n",
    "    Parameters:\n",
    "    csv_file (str): Path to the CSV file containing 'age' (flipped) and 'original_age' columns.\n",
    "\n",
    "    Returns:\n",
    "    np.ndarray: The empirical label noise matrix (num_classes x num_classes).\n",
    "    \"\"\"\n",
    "    # Load the CSV file into a pandas DataFrame\n",
    "    df = pd.read_csv(csv_file)\n",
    "\n",
    "    # Get unique age labels (original and flipped), assuming they are the same\n",
    "    unique_ages = sorted(df['original_age'].unique())\n",
    "    num_classes = len(unique_ages)\n",
    "\n",
    "    # Map ages to class indices (0, 1, 2, ..., num_classes-1)\n",
    "    age_to_index = {age: i for i, age in enumerate(unique_ages)}\n",
    "\n",
    "    # Initialize the confusion matrix (empirical noise matrix)\n",
    "    noise_matrix = np.zeros((num_classes, num_classes))\n",
    "\n",
    "    # Loop through the DataFrame and count transitions from original_age to flipped age\n",
    "    for _, row in df.iterrows():\n",
    "        original_label = row['original_age']\n",
    "        flipped_label = row['age']\n",
    "\n",
    "        # Convert age labels to indices\n",
    "        original_index = age_to_index[original_label]\n",
    "        flipped_index = age_to_index[flipped_label]\n",
    "\n",
    "        # Increment the count in the matrix\n",
    "        noise_matrix[original_index, flipped_index] += 1\n",
    "\n",
    "    # Normalize each row to sum to 1 to get the transition probabilities\n",
    "    noise_matrix = noise_matrix / noise_matrix.sum(axis=1, keepdims=True)\n",
    "\n",
    "    return noise_matrix"
   ]
  },
  {
   "cell_type": "code",
   "execution_count": 6,
   "metadata": {},
   "outputs": [
    {
     "name": "stdout",
     "output_type": "stream",
     "text": [
      "[[0.8882 0.0324 0.0275 0.0208 0.0141 0.0085 0.0046 0.0023 0.001  0.0004 0.0001 0.     0.     0.     0.     0.     0.     0.     0.     0.     0.     0.     0.     0.     0.     0.    ]\n",
      " [0.0324 0.8558 0.0324 0.0275 0.0208 0.0141 0.0085 0.0046 0.0023 0.001  0.0004 0.0001 0.     0.     0.     0.     0.     0.     0.     0.     0.     0.     0.     0.     0.     0.    ]\n",
      " [0.0275 0.0324 0.8284 0.0324 0.0275 0.0208 0.0141 0.0085 0.0046 0.0023 0.001  0.0004 0.0001 0.     0.     0.     0.     0.     0.     0.     0.     0.     0.     0.     0.     0.    ]\n",
      " [0.0208 0.0275 0.0324 0.8076 0.0324 0.0275 0.0208 0.0141 0.0085 0.0046 0.0023 0.001  0.0004 0.0001 0.     0.     0.     0.     0.     0.     0.     0.     0.     0.     0.     0.    ]\n",
      " [0.0141 0.0208 0.0275 0.0324 0.7935 0.0324 0.0275 0.0208 0.0141 0.0085 0.0046 0.0023 0.001  0.0004 0.0001 0.     0.     0.     0.     0.     0.     0.     0.     0.     0.     0.    ]\n",
      " [0.0085 0.0141 0.0208 0.0275 0.0324 0.7849 0.0324 0.0275 0.0208 0.0141 0.0085 0.0046 0.0023 0.001  0.0004 0.0001 0.     0.     0.     0.     0.     0.     0.     0.     0.     0.    ]\n",
      " [0.0046 0.0085 0.0141 0.0208 0.0275 0.0324 0.7803 0.0324 0.0275 0.0208 0.0141 0.0085 0.0046 0.0023 0.001  0.0004 0.0001 0.     0.     0.     0.     0.     0.     0.     0.     0.    ]\n",
      " [0.0023 0.0046 0.0085 0.0141 0.0208 0.0275 0.0324 0.778  0.0324 0.0275 0.0208 0.0141 0.0085 0.0046 0.0023 0.001  0.0004 0.0001 0.     0.     0.     0.     0.     0.     0.     0.    ]\n",
      " [0.001  0.0023 0.0046 0.0085 0.0141 0.0208 0.0275 0.0324 0.7771 0.0324 0.0275 0.0208 0.0141 0.0085 0.0046 0.0023 0.001  0.0004 0.0001 0.     0.     0.     0.     0.     0.     0.    ]\n",
      " [0.0004 0.001  0.0023 0.0046 0.0085 0.0141 0.0208 0.0275 0.0324 0.7767 0.0324 0.0275 0.0208 0.0141 0.0085 0.0046 0.0023 0.001  0.0004 0.0001 0.     0.     0.     0.     0.     0.    ]\n",
      " [0.0001 0.0004 0.001  0.0023 0.0046 0.0085 0.0141 0.0208 0.0275 0.0324 0.7765 0.0324 0.0275 0.0208 0.0141 0.0085 0.0046 0.0023 0.001  0.0004 0.0001 0.     0.     0.     0.     0.    ]\n",
      " [0.     0.0001 0.0004 0.001  0.0023 0.0046 0.0085 0.0141 0.0208 0.0275 0.0324 0.7765 0.0324 0.0275 0.0208 0.0141 0.0085 0.0046 0.0023 0.001  0.0004 0.0001 0.     0.     0.     0.    ]\n",
      " [0.     0.     0.0001 0.0004 0.001  0.0023 0.0046 0.0085 0.0141 0.0208 0.0275 0.0324 0.7765 0.0324 0.0275 0.0208 0.0141 0.0085 0.0046 0.0023 0.001  0.0004 0.0001 0.     0.     0.    ]\n",
      " [0.     0.     0.     0.0001 0.0004 0.001  0.0023 0.0046 0.0085 0.0141 0.0208 0.0275 0.0324 0.7765 0.0324 0.0275 0.0208 0.0141 0.0085 0.0046 0.0023 0.001  0.0004 0.0001 0.     0.    ]\n",
      " [0.     0.     0.     0.     0.0001 0.0004 0.001  0.0023 0.0046 0.0085 0.0141 0.0208 0.0275 0.0324 0.7765 0.0324 0.0275 0.0208 0.0141 0.0085 0.0046 0.0023 0.001  0.0004 0.0001 0.    ]\n",
      " [0.     0.     0.     0.     0.     0.0001 0.0004 0.001  0.0023 0.0046 0.0085 0.0141 0.0208 0.0275 0.0324 0.7765 0.0324 0.0275 0.0208 0.0141 0.0085 0.0046 0.0023 0.001  0.0004 0.0001]\n",
      " [0.     0.     0.     0.     0.     0.     0.0001 0.0004 0.001  0.0023 0.0046 0.0085 0.0141 0.0208 0.0275 0.0324 0.7767 0.0324 0.0275 0.0208 0.0141 0.0085 0.0046 0.0023 0.001  0.0004]\n",
      " [0.     0.     0.     0.     0.     0.     0.     0.0001 0.0004 0.001  0.0023 0.0046 0.0085 0.0141 0.0208 0.0275 0.0324 0.7771 0.0324 0.0275 0.0208 0.0141 0.0085 0.0046 0.0023 0.001 ]\n",
      " [0.     0.     0.     0.     0.     0.     0.     0.     0.0001 0.0004 0.001  0.0023 0.0046 0.0085 0.0141 0.0208 0.0275 0.0324 0.778  0.0324 0.0275 0.0208 0.0141 0.0085 0.0046 0.0023]\n",
      " [0.     0.     0.     0.     0.     0.     0.     0.     0.     0.0001 0.0004 0.001  0.0023 0.0046 0.0085 0.0141 0.0208 0.0275 0.0324 0.7803 0.0324 0.0275 0.0208 0.0141 0.0085 0.0046]\n",
      " [0.     0.     0.     0.     0.     0.     0.     0.     0.     0.     0.0001 0.0004 0.001  0.0023 0.0046 0.0085 0.0141 0.0208 0.0275 0.0324 0.7849 0.0324 0.0275 0.0208 0.0141 0.0085]\n",
      " [0.     0.     0.     0.     0.     0.     0.     0.     0.     0.     0.     0.0001 0.0004 0.001  0.0023 0.0046 0.0085 0.0141 0.0208 0.0275 0.0324 0.7935 0.0324 0.0275 0.0208 0.0141]\n",
      " [0.     0.     0.     0.     0.     0.     0.     0.     0.     0.     0.     0.     0.0001 0.0004 0.001  0.0023 0.0046 0.0085 0.0141 0.0208 0.0275 0.0324 0.8076 0.0324 0.0275 0.0208]\n",
      " [0.     0.     0.     0.     0.     0.     0.     0.     0.     0.     0.     0.     0.     0.0001 0.0004 0.001  0.0023 0.0046 0.0085 0.0141 0.0208 0.0275 0.0324 0.8284 0.0324 0.0275]\n",
      " [0.     0.     0.     0.     0.     0.     0.     0.     0.     0.     0.     0.     0.     0.     0.0001 0.0004 0.001  0.0023 0.0046 0.0085 0.0141 0.0208 0.0275 0.0324 0.8558 0.0324]\n",
      " [0.     0.     0.     0.     0.     0.     0.     0.     0.     0.     0.     0.     0.     0.     0.     0.0001 0.0004 0.001  0.0023 0.0046 0.0085 0.0141 0.0208 0.0275 0.0324 0.8882]] \n",
      "\n",
      "Labels flipped and saved to /home/vision/alireza-sm/coral/coral-cnn/datasets/my_afad_train_0.2_3.csv\n"
     ]
    }
   ],
   "source": [
    "num_classes = 26\n",
    "noise_rate = 0.2\n",
    "sigma = 3\n",
    "seed = 0\n",
    "\n",
    "input_csv = f\"/home/vision/alireza-sm/coral/coral-cnn/datasets/my_afad_train.csv\"\n",
    "output_csv = f\"/home/vision/alireza-sm/coral/coral-cnn/datasets/my_afad_train_0.2_3.csv\"\n",
    "noise_matrix = create_noise_transition_matrix(num_classes, noise_rate, sigma)\n",
    "\n",
    "print(noise_matrix, '\\n')\n",
    "\n",
    "flip_labels_using_noise_matrix(input_csv=input_csv, transition_matrix=noise_matrix, output_csv=output_csv, seed=seed)"
   ]
  },
  {
   "cell_type": "code",
   "execution_count": 20,
   "metadata": {},
   "outputs": [
    {
     "name": "stdout",
     "output_type": "stream",
     "text": [
      "[[0.8504 0.044  0.0373 0.0282 0.0191 0.0116 0.0063 0.0031]\n",
      " [0.044  0.8094 0.044  0.0373 0.0282 0.0191 0.0116 0.0063]\n",
      " [0.0373 0.044  0.7784 0.044  0.0373 0.0282 0.0191 0.0116]\n",
      " [0.0282 0.0373 0.044  0.7618 0.044  0.0373 0.0282 0.0191]\n",
      " [0.0191 0.0282 0.0373 0.044  0.7618 0.044  0.0373 0.0282]\n",
      " [0.0116 0.0191 0.0282 0.0373 0.044  0.7784 0.044  0.0373]\n",
      " [0.0063 0.0116 0.0191 0.0282 0.0373 0.044  0.8094 0.044 ]\n",
      " [0.0031 0.0063 0.0116 0.0191 0.0282 0.0373 0.044  0.8504]] \n",
      "\n",
      "Labels flipped and saved to /home/vision/alireza-sm/coral/coral-cnn/datasets/adience/train_0.2_3.csv\n"
     ]
    }
   ],
   "source": [
    "num_classes = 8\n",
    "noise_rate = 0.2\n",
    "sigma = 3\n",
    "seed = 0\n",
    "\n",
    "input_csv = f\"/home/vision/alireza-sm/coral/coral-cnn/datasets/adience/train.csv\"\n",
    "output_csv = f\"/home/vision/alireza-sm/coral/coral-cnn/datasets/adience/train_0.2_3.csv\"\n",
    "noise_matrix = create_noise_transition_matrix(num_classes, noise_rate, sigma)\n",
    "\n",
    "print(noise_matrix, '\\n')\n",
    "\n",
    "flip_labels_using_noise_matrix(input_csv=input_csv, transition_matrix=noise_matrix, output_csv=output_csv, seed=seed)"
   ]
  },
  {
   "cell_type": "code",
   "execution_count": 3,
   "metadata": {},
   "outputs": [
    {
     "name": "stdout",
     "output_type": "stream",
     "text": [
      "[[0.7007 0.0881 0.0745 0.0565 0.0383 0.0232 0.0126 0.0061]\n",
      " [0.0881 0.6188 0.0881 0.0745 0.0565 0.0383 0.0232 0.0126]\n",
      " [0.0745 0.0881 0.5569 0.0881 0.0745 0.0565 0.0383 0.0232]\n",
      " [0.0565 0.0745 0.0881 0.5236 0.0881 0.0745 0.0565 0.0383]\n",
      " [0.0383 0.0565 0.0745 0.0881 0.5236 0.0881 0.0745 0.0565]\n",
      " [0.0232 0.0383 0.0565 0.0745 0.0881 0.5569 0.0881 0.0745]\n",
      " [0.0126 0.0232 0.0383 0.0565 0.0745 0.0881 0.6188 0.0881]\n",
      " [0.0061 0.0126 0.0232 0.0383 0.0565 0.0745 0.0881 0.7007]] \n",
      "\n"
     ]
    }
   ],
   "source": [
    "num_classes = 8 \n",
    "noise_rate = 0.4\n",
    "sigma = 3\n",
    "\n",
    "noise_matrix = create_noise_transition_matrix(num_classes, noise_rate, sigma)\n",
    "\n",
    "print(noise_matrix, '\\n')\n",
    "\n",
    "np.save(\"noise_matrix_8_0.4_3.npy\", noise_matrix)"
   ]
  },
  {
   "cell_type": "code",
   "execution_count": 4,
   "metadata": {},
   "outputs": [],
   "source": [
    "\n",
    "def calculate_noise_transition_matrix(noise_free_csv, noise_injected_csv, output_file=None):\n",
    "    \"\"\"\n",
    "    Calculate the noise transition matrix based on differences between noise-free and noise-injected labels.\n",
    "    \n",
    "    Args:\n",
    "        noise_free_csv (str): Path to the noise-free CSV file.\n",
    "        noise_injected_csv (str): Path to the noise-injected CSV file.\n",
    "        output_file (str, optional): Path to save the noise transition matrix as a CSV. Defaults to None.\n",
    "    \n",
    "    Returns:\n",
    "        np.ndarray: The noise transition matrix.\n",
    "    \"\"\"\n",
    "    # Load the CSV files\n",
    "    noise_free_data = pd.read_csv(noise_free_csv, header=None)\n",
    "    noise_injected_data = pd.read_csv(noise_injected_csv, header=None)\n",
    "\n",
    "    noise_free_data = noise_free_data[noise_free_data[2] == 0]\n",
    "    noise_injected_data = noise_injected_data[noise_injected_data[2] == 0]\n",
    "\n",
    "    # Ensure both files have the same number of rows\n",
    "    if len(noise_free_data) != len(noise_injected_data):\n",
    "        raise ValueError(\"The two CSV files must have the same number of rows.\")\n",
    "\n",
    "    # Extract labels\n",
    "    noise_free_labels = noise_free_data[3].values\n",
    "    noise_injected_labels = noise_injected_data[3].values\n",
    "\n",
    "    # Determine the number of unique labels\n",
    "    num_labels = noise_free_labels.max() - noise_free_labels.min() + 1\n",
    "\n",
    "    # Initialize the noise transition matrix\n",
    "    noise_matrix = np.zeros((num_labels, num_labels), dtype=np.float64)\n",
    "\n",
    "    # Populate the noise transition matrix\n",
    "    for true_label, noisy_label in zip(noise_free_labels, noise_injected_labels):\n",
    "        noise_matrix[true_label, noisy_label] += 1\n",
    "\n",
    "    # Normalize each row to get probabilities\n",
    "    row_sums = noise_matrix.sum(axis=1, keepdims=True)\n",
    "    noise_matrix = np.divide(\n",
    "        noise_matrix,\n",
    "        row_sums,\n",
    "        out=np.zeros_like(noise_matrix),  # Fill with zeros if division fails\n",
    "        where=row_sums != 0  # Avoid division by zero\n",
    "    )\n",
    "    \n",
    "    # Save the noise transition matrix to a file (if specified)\n",
    "    if output_file:\n",
    "        np.savetxt(output_file, noise_matrix, delimiter=\",\", fmt=\"%.4f\")\n",
    "        print(f\"Noise transition matrix saved to {output_file}\")\n",
    "\n",
    "    return noise_matrix"
   ]
  },
  {
   "cell_type": "code",
   "execution_count": 9,
   "metadata": {},
   "outputs": [
    {
     "name": "stdout",
     "output_type": "stream",
     "text": [
      "Noise Transition Matrix:\n",
      "[[0.7242 0.0725 0.0592 0.0439 0.0353 0.0344 0.0172 0.0134]\n",
      " [0.1022 0.6496 0.0623 0.0613 0.0409 0.039  0.026  0.0186]\n",
      " [0.0853 0.1031 0.5829 0.0634 0.0547 0.0438 0.0374 0.0294]\n",
      " [0.0586 0.076  0.1045 0.5479 0.076  0.0538 0.0491 0.034 ]\n",
      " [0.0427 0.0552 0.0858 0.1013 0.5452 0.0573 0.0531 0.0594]\n",
      " [0.0273 0.0475 0.0514 0.0864 0.0896 0.5857 0.0545 0.0576]\n",
      " [0.0135 0.0189 0.0541 0.0378 0.0811 0.0919 0.6595 0.0432]\n",
      " [0.0042 0.0168 0.0294 0.0378 0.0567 0.0462 0.1155 0.6933]]\n",
      "Row sums: [1. 1. 1. 1. 1. 1. 1. 1.]\n",
      "Overall noise rate: 0.3764611424174591 \n",
      "\n"
     ]
    }
   ],
   "source": [
    "noise_free_csv_path = \"facebase/data/Adience_256x256_resnet50_imagenet_dldl_v2_clean/data_split4.csv\"\n",
    "noise_injected_csv_path = \"facebase/data/Adience_256x256_resnet50_imagenet_noisy_dldl_v2/data_split4.csv\"\n",
    "\n",
    "transition_matrix = calculate_noise_transition_matrix(noise_free_csv_path, noise_injected_csv_path)\n",
    " # Adjust print options to display the entire matrix\n",
    "np.set_printoptions(threshold=np.inf, linewidth=np.inf, suppress=True)\n",
    "\n",
    "# Print the full noise transition matrix\n",
    "print(\"Noise Transition Matrix:\")\n",
    "print(transition_matrix)\n",
    "print(\"Row sums:\", transition_matrix.sum(axis=1))\n",
    "print(\"Overall noise rate:\", (transition_matrix.sum() - np.trace(transition_matrix)) / 8, '\\n')"
   ]
  }
 ],
 "metadata": {
  "kernelspec": {
   "display_name": "torch",
   "language": "python",
   "name": "python3"
  },
  "language_info": {
   "codemirror_mode": {
    "name": "ipython",
    "version": 3
   },
   "file_extension": ".py",
   "mimetype": "text/x-python",
   "name": "python",
   "nbconvert_exporter": "python",
   "pygments_lexer": "ipython3",
   "version": "3.10.12"
  }
 },
 "nbformat": 4,
 "nbformat_minor": 2
}

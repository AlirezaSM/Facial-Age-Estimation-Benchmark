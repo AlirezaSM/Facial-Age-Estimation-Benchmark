{
 "cells": [
  {
   "cell_type": "markdown",
   "metadata": {},
   "source": [
    "import pandas as pd"
   ]
  },
  {
   "cell_type": "code",
   "execution_count": 2,
   "metadata": {},
   "outputs": [],
   "source": [
    "import pandas as pd\n",
    "\n",
    "for split in range(5):\n",
    "    path = f\"facebase/data/Adience_256x256_resnet50_imagenet_noisy_dldl_v2/data_split{split}.csv\"\n",
    "    df = pd.read_csv(path, header=None)\n",
    "    df[4] = df[3].astype(float)\n",
    "    df[5] = 0.75\n",
    "\n",
    "    df.to_csv(path, index=False, header=False)"
   ]
  },
  {
   "cell_type": "code",
   "execution_count": null,
   "metadata": {},
   "outputs": [],
   "source": [
    "import pandas as pd\n",
    "from collections import defaultdict\n",
    "\n",
    "# List of CSV files\n",
    "files = [f'facebase/data/Adience_256x256_resnet50_imagenet_noisy_dldl_v2_sync_1/data_split{i}.csv' for i in range(5)]\n",
    "\n",
    "# Dictionary to store data based on id\n",
    "data_dict = defaultdict(dict)\n",
    "\n",
    "# Read files and store data\n",
    "for file in files:\n",
    "    df = pd.read_csv(file, header=None)  # No header in the files\n",
    "    for _, row in df.iterrows():\n",
    "        id = row[0]  # First column is id\n",
    "        folder = row[2]  # Third column is folder\n",
    "        mean = row[4]  # Fifth column is mean\n",
    "        sigma = row[5]  # Sixth column is sigma\n",
    "        \n",
    "        # Only consider rows where folder is 0 or 1\n",
    "        if folder in [0, 1]:\n",
    "            if id in data_dict:\n",
    "                # Check if mean or sigma differs for the same id\n",
    "                if (data_dict[id]['mean'] != mean) or (data_dict[id]['sigma'] != sigma):\n",
    "                    print(f\"Difference found for id {id} in file {file}: mean or sigma does not match.\")\n",
    "            else:\n",
    "                # Store mean and sigma for the id if it's not already in the dictionary\n",
    "                data_dict[id] = {'mean': mean, 'sigma': sigma}\n",
    "\n",
    "print(\"Validation complete.\")"
   ]
  }
 ],
 "metadata": {
  "kernelspec": {
   "display_name": "corn",
   "language": "python",
   "name": "python3"
  },
  "language_info": {
   "codemirror_mode": {
    "name": "ipython",
    "version": 3
   },
   "file_extension": ".py",
   "mimetype": "text/x-python",
   "name": "python",
   "nbconvert_exporter": "python",
   "pygments_lexer": "ipython3",
   "version": "3.10.15"
  }
 },
 "nbformat": 4,
 "nbformat_minor": 2
}
